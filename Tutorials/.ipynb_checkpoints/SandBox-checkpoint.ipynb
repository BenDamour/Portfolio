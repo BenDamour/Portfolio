{
 "cells": [
  {
   "cell_type": "code",
   "execution_count": 272,
   "metadata": {},
   "outputs": [],
   "source": [
    "import numpy as np\n",
    "import matplotlib.pyplot as plt"
   ]
  },
  {
   "cell_type": "code",
   "execution_count": 273,
   "metadata": {},
   "outputs": [],
   "source": [
    "X = 2 * np.random.rand(100,1) \n",
    "X_b = np.c_[np.ones((100,1)), X] # Ajoute x0 = 1\n",
    "\n",
    "y = 4 + 3 * X + np.random.randn(100,1)"
   ]
  },
  {
   "cell_type": "code",
   "execution_count": 274,
   "metadata": {},
   "outputs": [],
   "source": [
    "theta = np.linalg.inv(X_b.T.dot(X_b)).dot(X_b.T).dot(y)"
   ]
  },
  {
   "cell_type": "code",
   "execution_count": 275,
   "metadata": {},
   "outputs": [],
   "source": [
    "X_new = np.array([[0],[2]])\n",
    "X_new_b = np.c_[np.ones((2,1)), X_new]\n",
    "y_predict = X_new_b.dot(theta)\n"
   ]
  },
  {
   "cell_type": "code",
   "execution_count": 276,
   "metadata": {},
   "outputs": [
    {
     "data": {
      "text/plain": [
       "[0, 2, 0, 15]"
      ]
     },
     "execution_count": 276,
     "metadata": {},
     "output_type": "execute_result"
    },
    {
     "data": {
      "image/png": "[encoded data removed]",
      "text/plain": [
       "<Figure size 432x288 with 1 Axes>"
      ]
     },
     "metadata": {
      "needs_background": "light"
     },
     "output_type": "display_data"
    }
   ],
   "source": [
    "plt.plot(X,y,'b.')\n",
    "plt.plot(X_new,y_predict,'r-',label='Prediction')\n",
    "plt.legend()\n",
    "plt.xlabel(\"X \")\n",
    "plt.ylabel(\"y \")\n",
    "plt.axis([0,2,0,15])"
   ]
  },
  {
   "cell_type": "code",
   "execution_count": 277,
   "metadata": {},
   "outputs": [],
   "source": [
    "from sklearn import datasets\n",
    "iris = datasets.load_iris()"
   ]
  },
  {
   "cell_type": "code",
   "execution_count": 278,
   "metadata": {},
   "outputs": [
    {
     "name": "stdout",
     "output_type": "stream",
     "text": [
      "['setosa', 'versicolor', 'virginica']\n",
      "['sepal length (cm)', 'sepal width (cm)', 'petal length (cm)', 'petal width (cm)'] ['setosa' 'versicolor' 'virginica']\n",
      "[5.1 3.5 1.4 0.2] 0\n"
     ]
    }
   ],
   "source": [
    "print(list(iris.target_names))\n",
    "print(iris.feature_names, iris.target_names)\n",
    "print(iris.data[0,:] , iris.target[0])"
   ]
  },
  {
   "cell_type": "code",
   "execution_count": 279,
   "metadata": {},
   "outputs": [
    {
     "ename": "IndexError",
     "evalue": "too many indices for array",
     "output_type": "error",
     "traceback": [
      "\u001b[1;31m---------------------------------------------------------------------------\u001b[0m",
      "\u001b[1;31mIndexError\u001b[0m                                Traceback (most recent call last)",
      "\u001b[1;32m<ipython-input-279-c0f5e9986591>\u001b[0m in \u001b[0;36m<module>\u001b[1;34m\u001b[0m\n\u001b[0;32m      1\u001b[0m \u001b[0mplt\u001b[0m\u001b[1;33m.\u001b[0m\u001b[0mxlabel\u001b[0m\u001b[1;33m(\u001b[0m\u001b[1;34m'petal length (cm)'\u001b[0m\u001b[1;33m)\u001b[0m\u001b[1;33m\u001b[0m\u001b[1;33m\u001b[0m\u001b[0m\n\u001b[0;32m      2\u001b[0m \u001b[0mplt\u001b[0m\u001b[1;33m.\u001b[0m\u001b[0mylabel\u001b[0m\u001b[1;33m(\u001b[0m\u001b[1;34m'petal width (cm)'\u001b[0m\u001b[1;33m)\u001b[0m\u001b[1;33m\u001b[0m\u001b[1;33m\u001b[0m\u001b[0m\n\u001b[1;32m----> 3\u001b[1;33m \u001b[0mplt\u001b[0m\u001b[1;33m.\u001b[0m\u001b[0mplot\u001b[0m\u001b[1;33m(\u001b[0m\u001b[0mX\u001b[0m\u001b[1;33m[\u001b[0m\u001b[1;33m:\u001b[0m\u001b[1;33m,\u001b[0m \u001b[1;36m0\u001b[0m\u001b[1;33m]\u001b[0m\u001b[1;33m[\u001b[0m\u001b[0my\u001b[0m\u001b[1;33m==\u001b[0m\u001b[1;36m0\u001b[0m\u001b[1;33m]\u001b[0m\u001b[1;33m,\u001b[0m \u001b[0mX\u001b[0m\u001b[1;33m[\u001b[0m\u001b[1;33m:\u001b[0m\u001b[1;33m,\u001b[0m \u001b[1;36m1\u001b[0m\u001b[1;33m]\u001b[0m\u001b[1;33m[\u001b[0m\u001b[0my\u001b[0m\u001b[1;33m==\u001b[0m\u001b[1;36m0\u001b[0m\u001b[1;33m]\u001b[0m\u001b[1;33m,\u001b[0m \u001b[1;34m\"yo\"\u001b[0m\u001b[1;33m,\u001b[0m \u001b[0mlabel\u001b[0m\u001b[1;33m=\u001b[0m\u001b[1;34m\"Iris setosa\"\u001b[0m\u001b[1;33m)\u001b[0m\u001b[1;33m\u001b[0m\u001b[1;33m\u001b[0m\u001b[0m\n\u001b[0m\u001b[0;32m      4\u001b[0m \u001b[0mplt\u001b[0m\u001b[1;33m.\u001b[0m\u001b[0mplot\u001b[0m\u001b[1;33m(\u001b[0m\u001b[0mX\u001b[0m\u001b[1;33m[\u001b[0m\u001b[1;33m:\u001b[0m\u001b[1;33m,\u001b[0m \u001b[1;36m0\u001b[0m\u001b[1;33m]\u001b[0m\u001b[1;33m[\u001b[0m\u001b[0my\u001b[0m\u001b[1;33m==\u001b[0m\u001b[1;36m1\u001b[0m\u001b[1;33m]\u001b[0m\u001b[1;33m,\u001b[0m \u001b[0mX\u001b[0m\u001b[1;33m[\u001b[0m\u001b[1;33m:\u001b[0m\u001b[1;33m,\u001b[0m \u001b[1;36m1\u001b[0m\u001b[1;33m]\u001b[0m\u001b[1;33m[\u001b[0m\u001b[0my\u001b[0m\u001b[1;33m==\u001b[0m\u001b[1;36m1\u001b[0m\u001b[1;33m]\u001b[0m\u001b[1;33m,\u001b[0m \u001b[1;34m\"b^\"\u001b[0m\u001b[1;33m,\u001b[0m \u001b[0mlabel\u001b[0m\u001b[1;33m=\u001b[0m\u001b[1;34m\"Iris versicolor\"\u001b[0m\u001b[1;33m)\u001b[0m\u001b[1;33m\u001b[0m\u001b[1;33m\u001b[0m\u001b[0m\n\u001b[0;32m      5\u001b[0m \u001b[0mplt\u001b[0m\u001b[1;33m.\u001b[0m\u001b[0mplot\u001b[0m\u001b[1;33m(\u001b[0m\u001b[0mX\u001b[0m\u001b[1;33m[\u001b[0m\u001b[1;33m:\u001b[0m\u001b[1;33m,\u001b[0m \u001b[1;36m0\u001b[0m\u001b[1;33m]\u001b[0m\u001b[1;33m[\u001b[0m\u001b[0my\u001b[0m\u001b[1;33m==\u001b[0m\u001b[1;36m1\u001b[0m\u001b[1;33m]\u001b[0m\u001b[1;33m,\u001b[0m \u001b[0mX\u001b[0m\u001b[1;33m[\u001b[0m\u001b[1;33m:\u001b[0m\u001b[1;33m,\u001b[0m \u001b[1;36m1\u001b[0m\u001b[1;33m]\u001b[0m\u001b[1;33m[\u001b[0m\u001b[0my\u001b[0m\u001b[1;33m==\u001b[0m\u001b[1;36m2\u001b[0m\u001b[1;33m]\u001b[0m\u001b[1;33m,\u001b[0m \u001b[1;34m\"g.\"\u001b[0m\u001b[1;33m,\u001b[0m \u001b[0mlabel\u001b[0m\u001b[1;33m=\u001b[0m\u001b[1;34m\"Iris virginica\"\u001b[0m\u001b[1;33m)\u001b[0m\u001b[1;33m\u001b[0m\u001b[1;33m\u001b[0m\u001b[0m\n",
      "\u001b[1;31mIndexError\u001b[0m: too many indices for array"
     ]
    },
    {
     "data": {
      "image/png": "[encoded data removed]",
      "text/plain": [
       "<Figure size 432x288 with 1 Axes>"
      ]
     },
     "metadata": {
      "needs_background": "light"
     },
     "output_type": "display_data"
    }
   ],
   "source": [
    "\n",
    "plt.xlabel('petal length (cm)')\n",
    "plt.ylabel('petal width (cm)')\n",
    "plt.plot(X[:, 0][y==0], X[:, 1][y==0], \"yo\", label=\"Iris setosa\")\n",
    "plt.plot(X[:, 0][y==1], X[:, 1][y==1], \"b^\", label=\"Iris versicolor\")\n",
    "plt.plot(X[:, 0][y==1], X[:, 1][y==2], \"g.\", label=\"Iris virginica\")\n",
    "plt.plot(d_x,d_y,label='TEST')\n",
    "\n",
    "new_x = np.linspace(0,5,1000)\n",
    "new_y = 0.34*new_x + 0.1\n",
    "plt.plot(new_x,new_y,'r',label='Other')\n",
    "\n",
    "#plt.axis([-0.5,6,-0.5,5])\n",
    "plt.legend()"
   ]
  },
  {
   "cell_type": "code",
   "execution_count": 280,
   "metadata": {},
   "outputs": [
    {
     "data": {
      "text/plain": [
       "[<matplotlib.lines.Line2D at 0x1d2062b9988>]"
      ]
     },
     "execution_count": 280,
     "metadata": {},
     "output_type": "execute_result"
    },
    {
     "data": {
      "image/png": "[encoded data removed]",
      "text/plain": [
       "<Figure size 432x288 with 1 Axes>"
      ]
     },
     "metadata": {
      "needs_background": "light"
     },
     "output_type": "display_data"
    }
   ],
   "source": [
    "t = np.linspace(-10,10,1000)\n",
    "sig_t = 1 / (1+ np.exp(-t))\n",
    "plt.plot(t,sig_t)\n",
    "plt.plot(np.linspace(0,0,100),np.linspace(0,1,100),'k')"
   ]
  },
  {
   "cell_type": "code",
   "execution_count": 281,
   "metadata": {},
   "outputs": [],
   "source": [
    "d_y = np.linspace(0,2.5,10)\n",
    "d_x = np.linspace(2.5,2.5,10)\n",
    "\n"
   ]
  },
  {
   "cell_type": "code",
   "execution_count": 282,
   "metadata": {},
   "outputs": [],
   "source": [
    "X = iris['data'][:,2:] #petal length (cm) and petal width (cm)\n",
    "y = iris.target #Iris Virginica"
   ]
  },
  {
   "cell_type": "code",
   "execution_count": 283,
   "metadata": {},
   "outputs": [
    {
     "data": {
      "text/plain": [
       "LogisticRegression(C=10, class_weight=None, dual=False, fit_intercept=True,\n",
       "                   intercept_scaling=1, l1_ratio=None, max_iter=100,\n",
       "                   multi_class='multinomial', n_jobs=None, penalty='l2',\n",
       "                   random_state=None, solver='lbfgs', tol=0.0001, verbose=0,\n",
       "                   warm_start=False)"
      ]
     },
     "execution_count": 283,
     "metadata": {},
     "output_type": "execute_result"
    }
   ],
   "source": [
    "from sklearn.linear_model import LogisticRegression\n",
    "\n",
    "log_reg = LogisticRegression(multi_class='multinomial',penalty='l2',C=10)\n",
    "log_reg.fit(X,y)"
   ]
  },
  {
   "cell_type": "code",
   "execution_count": 284,
   "metadata": {},
   "outputs": [
    {
     "data": {
      "text/plain": [
       "array([[6.38014896e-07, 5.74929995e-02, 9.42506362e-01]])"
      ]
     },
     "execution_count": 284,
     "metadata": {},
     "output_type": "execute_result"
    }
   ],
   "source": [
    "lengt = 5\n",
    "widt = 2\n",
    "log_reg.predict_proba([[lengt,widt]])"
   ]
  },
  {
   "cell_type": "code",
   "execution_count": 285,
   "metadata": {},
   "outputs": [],
   "source": [
    "X_new = np.linspace(0,4,1000).reshape((-1,2))\n",
    "\n",
    "y_proba = log_reg.predict_proba(X_new)"
   ]
  },
  {
   "cell_type": "code",
   "execution_count": 286,
   "metadata": {},
   "outputs": [
    {
     "data": {
      "text/plain": [
       "array([[0.        , 0.004004  ],\n",
       "       [0.00800801, 0.01201201],\n",
       "       [0.01601602, 0.02002002],\n",
       "       [0.02402402, 0.02802803],\n",
       "       [0.03203203, 0.03603604],\n",
       "       [0.04004004, 0.04404404],\n",
       "       [0.04804805, 0.05205205],\n",
       "       [0.05605606, 0.06006006],\n",
       "       [0.06406406, 0.06806807],\n",
       "       [0.07207207, 0.07607608],\n",
       "       [0.08008008, 0.08408408],\n",
       "       [0.08808809, 0.09209209],\n",
       "       [0.0960961 , 0.1001001 ],\n",
       "       [0.1041041 , 0.10810811],\n",
       "       [0.11211211, 0.11611612],\n",
       "       [0.12012012, 0.12412412],\n",
       "       [0.12812813, 0.13213213],\n",
       "       [0.13613614, 0.14014014],\n",
       "       [0.14414414, 0.14814815],\n",
       "       [0.15215215, 0.15615616],\n",
       "       [0.16016016, 0.16416416],\n",
       "       [0.16816817, 0.17217217],\n",
       "       [0.17617618, 0.18018018],\n",
       "       [0.18418418, 0.18818819],\n",
       "       [0.19219219, 0.1961962 ],\n",
       "       [0.2002002 , 0.2042042 ],\n",
       "       [0.20820821, 0.21221221],\n",
       "       [0.21621622, 0.22022022],\n",
       "       [0.22422422, 0.22822823],\n",
       "       [0.23223223, 0.23623624],\n",
       "       [0.24024024, 0.24424424],\n",
       "       [0.24824825, 0.25225225],\n",
       "       [0.25625626, 0.26026026],\n",
       "       [0.26426426, 0.26826827],\n",
       "       [0.27227227, 0.27627628],\n",
       "       [0.28028028, 0.28428428],\n",
       "       [0.28828829, 0.29229229],\n",
       "       [0.2962963 , 0.3003003 ],\n",
       "       [0.3043043 , 0.30830831],\n",
       "       [0.31231231, 0.31631632],\n",
       "       [0.32032032, 0.32432432],\n",
       "       [0.32832833, 0.33233233],\n",
       "       [0.33633634, 0.34034034],\n",
       "       [0.34434434, 0.34834835],\n",
       "       [0.35235235, 0.35635636],\n",
       "       [0.36036036, 0.36436436],\n",
       "       [0.36836837, 0.37237237],\n",
       "       [0.37637638, 0.38038038],\n",
       "       [0.38438438, 0.38838839],\n",
       "       [0.39239239, 0.3963964 ],\n",
       "       [0.4004004 , 0.4044044 ],\n",
       "       [0.40840841, 0.41241241],\n",
       "       [0.41641642, 0.42042042],\n",
       "       [0.42442442, 0.42842843],\n",
       "       [0.43243243, 0.43643644],\n",
       "       [0.44044044, 0.44444444],\n",
       "       [0.44844845, 0.45245245],\n",
       "       [0.45645646, 0.46046046],\n",
       "       [0.46446446, 0.46846847],\n",
       "       [0.47247247, 0.47647648],\n",
       "       [0.48048048, 0.48448448],\n",
       "       [0.48848849, 0.49249249],\n",
       "       [0.4964965 , 0.5005005 ],\n",
       "       [0.5045045 , 0.50850851],\n",
       "       [0.51251251, 0.51651652],\n",
       "       [0.52052052, 0.52452452],\n",
       "       [0.52852853, 0.53253253],\n",
       "       [0.53653654, 0.54054054],\n",
       "       [0.54454454, 0.54854855],\n",
       "       [0.55255255, 0.55655656],\n",
       "       [0.56056056, 0.56456456],\n",
       "       [0.56856857, 0.57257257],\n",
       "       [0.57657658, 0.58058058],\n",
       "       [0.58458458, 0.58858859],\n",
       "       [0.59259259, 0.5965966 ],\n",
       "       [0.6006006 , 0.6046046 ],\n",
       "       [0.60860861, 0.61261261],\n",
       "       [0.61661662, 0.62062062],\n",
       "       [0.62462462, 0.62862863],\n",
       "       [0.63263263, 0.63663664],\n",
       "       [0.64064064, 0.64464464],\n",
       "       [0.64864865, 0.65265265],\n",
       "       [0.65665666, 0.66066066],\n",
       "       [0.66466466, 0.66866867],\n",
       "       [0.67267267, 0.67667668],\n",
       "       [0.68068068, 0.68468468],\n",
       "       [0.68868869, 0.69269269],\n",
       "       [0.6966967 , 0.7007007 ],\n",
       "       [0.7047047 , 0.70870871],\n",
       "       [0.71271271, 0.71671672],\n",
       "       [0.72072072, 0.72472472],\n",
       "       [0.72872873, 0.73273273],\n",
       "       [0.73673674, 0.74074074],\n",
       "       [0.74474474, 0.74874875],\n",
       "       [0.75275275, 0.75675676],\n",
       "       [0.76076076, 0.76476476],\n",
       "       [0.76876877, 0.77277277],\n",
       "       [0.77677678, 0.78078078],\n",
       "       [0.78478478, 0.78878879],\n",
       "       [0.79279279, 0.7967968 ],\n",
       "       [0.8008008 , 0.8048048 ],\n",
       "       [0.80880881, 0.81281281],\n",
       "       [0.81681682, 0.82082082],\n",
       "       [0.82482482, 0.82882883],\n",
       "       [0.83283283, 0.83683684],\n",
       "       [0.84084084, 0.84484484],\n",
       "       [0.84884885, 0.85285285],\n",
       "       [0.85685686, 0.86086086],\n",
       "       [0.86486486, 0.86886887],\n",
       "       [0.87287287, 0.87687688],\n",
       "       [0.88088088, 0.88488488],\n",
       "       [0.88888889, 0.89289289],\n",
       "       [0.8968969 , 0.9009009 ],\n",
       "       [0.9049049 , 0.90890891],\n",
       "       [0.91291291, 0.91691692],\n",
       "       [0.92092092, 0.92492492],\n",
       "       [0.92892893, 0.93293293],\n",
       "       [0.93693694, 0.94094094],\n",
       "       [0.94494494, 0.94894895],\n",
       "       [0.95295295, 0.95695696],\n",
       "       [0.96096096, 0.96496496],\n",
       "       [0.96896897, 0.97297297],\n",
       "       [0.97697698, 0.98098098],\n",
       "       [0.98498498, 0.98898899],\n",
       "       [0.99299299, 0.996997  ],\n",
       "       [1.001001  , 1.00500501],\n",
       "       [1.00900901, 1.01301301],\n",
       "       [1.01701702, 1.02102102],\n",
       "       [1.02502503, 1.02902903],\n",
       "       [1.03303303, 1.03703704],\n",
       "       [1.04104104, 1.04504505],\n",
       "       [1.04904905, 1.05305305],\n",
       "       [1.05705706, 1.06106106],\n",
       "       [1.06506507, 1.06906907],\n",
       "       [1.07307307, 1.07707708],\n",
       "       [1.08108108, 1.08508509],\n",
       "       [1.08908909, 1.09309309],\n",
       "       [1.0970971 , 1.1011011 ],\n",
       "       [1.10510511, 1.10910911],\n",
       "       [1.11311311, 1.11711712],\n",
       "       [1.12112112, 1.12512513],\n",
       "       [1.12912913, 1.13313313],\n",
       "       [1.13713714, 1.14114114],\n",
       "       [1.14514515, 1.14914915],\n",
       "       [1.15315315, 1.15715716],\n",
       "       [1.16116116, 1.16516517],\n",
       "       [1.16916917, 1.17317317],\n",
       "       [1.17717718, 1.18118118],\n",
       "       [1.18518519, 1.18918919],\n",
       "       [1.19319319, 1.1971972 ],\n",
       "       [1.2012012 , 1.20520521],\n",
       "       [1.20920921, 1.21321321],\n",
       "       [1.21721722, 1.22122122],\n",
       "       [1.22522523, 1.22922923],\n",
       "       [1.23323323, 1.23723724],\n",
       "       [1.24124124, 1.24524525],\n",
       "       [1.24924925, 1.25325325],\n",
       "       [1.25725726, 1.26126126],\n",
       "       [1.26526527, 1.26926927],\n",
       "       [1.27327327, 1.27727728],\n",
       "       [1.28128128, 1.28528529],\n",
       "       [1.28928929, 1.29329329],\n",
       "       [1.2972973 , 1.3013013 ],\n",
       "       [1.30530531, 1.30930931],\n",
       "       [1.31331331, 1.31731732],\n",
       "       [1.32132132, 1.32532533],\n",
       "       [1.32932933, 1.33333333],\n",
       "       [1.33733734, 1.34134134],\n",
       "       [1.34534535, 1.34934935],\n",
       "       [1.35335335, 1.35735736],\n",
       "       [1.36136136, 1.36536537],\n",
       "       [1.36936937, 1.37337337],\n",
       "       [1.37737738, 1.38138138],\n",
       "       [1.38538539, 1.38938939],\n",
       "       [1.39339339, 1.3973974 ],\n",
       "       [1.4014014 , 1.40540541],\n",
       "       [1.40940941, 1.41341341],\n",
       "       [1.41741742, 1.42142142],\n",
       "       [1.42542543, 1.42942943],\n",
       "       [1.43343343, 1.43743744],\n",
       "       [1.44144144, 1.44544545],\n",
       "       [1.44944945, 1.45345345],\n",
       "       [1.45745746, 1.46146146],\n",
       "       [1.46546547, 1.46946947],\n",
       "       [1.47347347, 1.47747748],\n",
       "       [1.48148148, 1.48548549],\n",
       "       [1.48948949, 1.49349349],\n",
       "       [1.4974975 , 1.5015015 ],\n",
       "       [1.50550551, 1.50950951],\n",
       "       [1.51351351, 1.51751752],\n",
       "       [1.52152152, 1.52552553],\n",
       "       [1.52952953, 1.53353353],\n",
       "       [1.53753754, 1.54154154],\n",
       "       [1.54554555, 1.54954955],\n",
       "       [1.55355355, 1.55755756],\n",
       "       [1.56156156, 1.56556557],\n",
       "       [1.56956957, 1.57357357],\n",
       "       [1.57757758, 1.58158158],\n",
       "       [1.58558559, 1.58958959],\n",
       "       [1.59359359, 1.5975976 ],\n",
       "       [1.6016016 , 1.60560561],\n",
       "       [1.60960961, 1.61361361],\n",
       "       [1.61761762, 1.62162162],\n",
       "       [1.62562563, 1.62962963],\n",
       "       [1.63363363, 1.63763764],\n",
       "       [1.64164164, 1.64564565],\n",
       "       [1.64964965, 1.65365365],\n",
       "       [1.65765766, 1.66166166],\n",
       "       [1.66566567, 1.66966967],\n",
       "       [1.67367367, 1.67767768],\n",
       "       [1.68168168, 1.68568569],\n",
       "       [1.68968969, 1.69369369],\n",
       "       [1.6976977 , 1.7017017 ],\n",
       "       [1.70570571, 1.70970971],\n",
       "       [1.71371371, 1.71771772],\n",
       "       [1.72172172, 1.72572573],\n",
       "       [1.72972973, 1.73373373],\n",
       "       [1.73773774, 1.74174174],\n",
       "       [1.74574575, 1.74974975],\n",
       "       [1.75375375, 1.75775776],\n",
       "       [1.76176176, 1.76576577],\n",
       "       [1.76976977, 1.77377377],\n",
       "       [1.77777778, 1.78178178],\n",
       "       [1.78578579, 1.78978979],\n",
       "       [1.79379379, 1.7977978 ],\n",
       "       [1.8018018 , 1.80580581],\n",
       "       [1.80980981, 1.81381381],\n",
       "       [1.81781782, 1.82182182],\n",
       "       [1.82582583, 1.82982983],\n",
       "       [1.83383383, 1.83783784],\n",
       "       [1.84184184, 1.84584585],\n",
       "       [1.84984985, 1.85385385],\n",
       "       [1.85785786, 1.86186186],\n",
       "       [1.86586587, 1.86986987],\n",
       "       [1.87387387, 1.87787788],\n",
       "       [1.88188188, 1.88588589],\n",
       "       [1.88988989, 1.89389389],\n",
       "       [1.8978979 , 1.9019019 ],\n",
       "       [1.90590591, 1.90990991],\n",
       "       [1.91391391, 1.91791792],\n",
       "       [1.92192192, 1.92592593],\n",
       "       [1.92992993, 1.93393393],\n",
       "       [1.93793794, 1.94194194],\n",
       "       [1.94594595, 1.94994995],\n",
       "       [1.95395395, 1.95795796],\n",
       "       [1.96196196, 1.96596597],\n",
       "       [1.96996997, 1.97397397],\n",
       "       [1.97797798, 1.98198198],\n",
       "       [1.98598599, 1.98998999],\n",
       "       [1.99399399, 1.997998  ],\n",
       "       [2.002002  , 2.00600601],\n",
       "       [2.01001001, 2.01401401],\n",
       "       [2.01801802, 2.02202202],\n",
       "       [2.02602603, 2.03003003],\n",
       "       [2.03403403, 2.03803804],\n",
       "       [2.04204204, 2.04604605],\n",
       "       [2.05005005, 2.05405405],\n",
       "       [2.05805806, 2.06206206],\n",
       "       [2.06606607, 2.07007007],\n",
       "       [2.07407407, 2.07807808],\n",
       "       [2.08208208, 2.08608609],\n",
       "       [2.09009009, 2.09409409],\n",
       "       [2.0980981 , 2.1021021 ],\n",
       "       [2.10610611, 2.11011011],\n",
       "       [2.11411411, 2.11811812],\n",
       "       [2.12212212, 2.12612613],\n",
       "       [2.13013013, 2.13413413],\n",
       "       [2.13813814, 2.14214214],\n",
       "       [2.14614615, 2.15015015],\n",
       "       [2.15415415, 2.15815816],\n",
       "       [2.16216216, 2.16616617],\n",
       "       [2.17017017, 2.17417417],\n",
       "       [2.17817818, 2.18218218],\n",
       "       [2.18618619, 2.19019019],\n",
       "       [2.19419419, 2.1981982 ],\n",
       "       [2.2022022 , 2.20620621],\n",
       "       [2.21021021, 2.21421421],\n",
       "       [2.21821822, 2.22222222],\n",
       "       [2.22622623, 2.23023023],\n",
       "       [2.23423423, 2.23823824],\n",
       "       [2.24224224, 2.24624625],\n",
       "       [2.25025025, 2.25425425],\n",
       "       [2.25825826, 2.26226226],\n",
       "       [2.26626627, 2.27027027],\n",
       "       [2.27427427, 2.27827828],\n",
       "       [2.28228228, 2.28628629],\n",
       "       [2.29029029, 2.29429429],\n",
       "       [2.2982983 , 2.3023023 ],\n",
       "       [2.30630631, 2.31031031],\n",
       "       [2.31431431, 2.31831832],\n",
       "       [2.32232232, 2.32632633],\n",
       "       [2.33033033, 2.33433433],\n",
       "       [2.33833834, 2.34234234],\n",
       "       [2.34634635, 2.35035035],\n",
       "       [2.35435435, 2.35835836],\n",
       "       [2.36236236, 2.36636637],\n",
       "       [2.37037037, 2.37437437],\n",
       "       [2.37837838, 2.38238238],\n",
       "       [2.38638639, 2.39039039],\n",
       "       [2.39439439, 2.3983984 ],\n",
       "       [2.4024024 , 2.40640641],\n",
       "       [2.41041041, 2.41441441],\n",
       "       [2.41841842, 2.42242242],\n",
       "       [2.42642643, 2.43043043],\n",
       "       [2.43443443, 2.43843844],\n",
       "       [2.44244244, 2.44644645],\n",
       "       [2.45045045, 2.45445445],\n",
       "       [2.45845846, 2.46246246],\n",
       "       [2.46646647, 2.47047047],\n",
       "       [2.47447447, 2.47847848],\n",
       "       [2.48248248, 2.48648649],\n",
       "       [2.49049049, 2.49449449],\n",
       "       [2.4984985 , 2.5025025 ],\n",
       "       [2.50650651, 2.51051051],\n",
       "       [2.51451451, 2.51851852],\n",
       "       [2.52252252, 2.52652653],\n",
       "       [2.53053053, 2.53453453],\n",
       "       [2.53853854, 2.54254254],\n",
       "       [2.54654655, 2.55055055],\n",
       "       [2.55455455, 2.55855856],\n",
       "       [2.56256256, 2.56656657],\n",
       "       [2.57057057, 2.57457457],\n",
       "       [2.57857858, 2.58258258],\n",
       "       [2.58658659, 2.59059059],\n",
       "       [2.59459459, 2.5985986 ],\n",
       "       [2.6026026 , 2.60660661],\n",
       "       [2.61061061, 2.61461461],\n",
       "       [2.61861862, 2.62262262],\n",
       "       [2.62662663, 2.63063063],\n",
       "       [2.63463463, 2.63863864],\n",
       "       [2.64264264, 2.64664665],\n",
       "       [2.65065065, 2.65465465],\n",
       "       [2.65865866, 2.66266266],\n",
       "       [2.66666667, 2.67067067],\n",
       "       [2.67467467, 2.67867868],\n",
       "       [2.68268268, 2.68668669],\n",
       "       [2.69069069, 2.69469469],\n",
       "       [2.6986987 , 2.7027027 ],\n",
       "       [2.70670671, 2.71071071],\n",
       "       [2.71471471, 2.71871872],\n",
       "       [2.72272272, 2.72672673],\n",
       "       [2.73073073, 2.73473473],\n",
       "       [2.73873874, 2.74274274],\n",
       "       [2.74674675, 2.75075075],\n",
       "       [2.75475475, 2.75875876],\n",
       "       [2.76276276, 2.76676677],\n",
       "       [2.77077077, 2.77477477],\n",
       "       [2.77877878, 2.78278278],\n",
       "       [2.78678679, 2.79079079],\n",
       "       [2.79479479, 2.7987988 ],\n",
       "       [2.8028028 , 2.80680681],\n",
       "       [2.81081081, 2.81481481],\n",
       "       [2.81881882, 2.82282282],\n",
       "       [2.82682683, 2.83083083],\n",
       "       [2.83483483, 2.83883884],\n",
       "       [2.84284284, 2.84684685],\n",
       "       [2.85085085, 2.85485485],\n",
       "       [2.85885886, 2.86286286],\n",
       "       [2.86686687, 2.87087087],\n",
       "       [2.87487487, 2.87887888],\n",
       "       [2.88288288, 2.88688689],\n",
       "       [2.89089089, 2.89489489],\n",
       "       [2.8988989 , 2.9029029 ],\n",
       "       [2.90690691, 2.91091091],\n",
       "       [2.91491491, 2.91891892],\n",
       "       [2.92292292, 2.92692693],\n",
       "       [2.93093093, 2.93493493],\n",
       "       [2.93893894, 2.94294294],\n",
       "       [2.94694695, 2.95095095],\n",
       "       [2.95495495, 2.95895896],\n",
       "       [2.96296296, 2.96696697],\n",
       "       [2.97097097, 2.97497497],\n",
       "       [2.97897898, 2.98298298],\n",
       "       [2.98698699, 2.99099099],\n",
       "       [2.99499499, 2.998999  ],\n",
       "       [3.003003  , 3.00700701],\n",
       "       [3.01101101, 3.01501502],\n",
       "       [3.01901902, 3.02302302],\n",
       "       [3.02702703, 3.03103103],\n",
       "       [3.03503504, 3.03903904],\n",
       "       [3.04304304, 3.04704705],\n",
       "       [3.05105105, 3.05505506],\n",
       "       [3.05905906, 3.06306306],\n",
       "       [3.06706707, 3.07107107],\n",
       "       [3.07507508, 3.07907908],\n",
       "       [3.08308308, 3.08708709],\n",
       "       [3.09109109, 3.0950951 ],\n",
       "       [3.0990991 , 3.1031031 ],\n",
       "       [3.10710711, 3.11111111],\n",
       "       [3.11511512, 3.11911912],\n",
       "       [3.12312312, 3.12712713],\n",
       "       [3.13113113, 3.13513514],\n",
       "       [3.13913914, 3.14314314],\n",
       "       [3.14714715, 3.15115115],\n",
       "       [3.15515516, 3.15915916],\n",
       "       [3.16316316, 3.16716717],\n",
       "       [3.17117117, 3.17517518],\n",
       "       [3.17917918, 3.18318318],\n",
       "       [3.18718719, 3.19119119],\n",
       "       [3.1951952 , 3.1991992 ],\n",
       "       [3.2032032 , 3.20720721],\n",
       "       [3.21121121, 3.21521522],\n",
       "       [3.21921922, 3.22322322],\n",
       "       [3.22722723, 3.23123123],\n",
       "       [3.23523524, 3.23923924],\n",
       "       [3.24324324, 3.24724725],\n",
       "       [3.25125125, 3.25525526],\n",
       "       [3.25925926, 3.26326326],\n",
       "       [3.26726727, 3.27127127],\n",
       "       [3.27527528, 3.27927928],\n",
       "       [3.28328328, 3.28728729],\n",
       "       [3.29129129, 3.2952953 ],\n",
       "       [3.2992993 , 3.3033033 ],\n",
       "       [3.30730731, 3.31131131],\n",
       "       [3.31531532, 3.31931932],\n",
       "       [3.32332332, 3.32732733],\n",
       "       [3.33133133, 3.33533534],\n",
       "       [3.33933934, 3.34334334],\n",
       "       [3.34734735, 3.35135135],\n",
       "       [3.35535536, 3.35935936],\n",
       "       [3.36336336, 3.36736737],\n",
       "       [3.37137137, 3.37537538],\n",
       "       [3.37937938, 3.38338338],\n",
       "       [3.38738739, 3.39139139],\n",
       "       [3.3953954 , 3.3993994 ],\n",
       "       [3.4034034 , 3.40740741],\n",
       "       [3.41141141, 3.41541542],\n",
       "       [3.41941942, 3.42342342],\n",
       "       [3.42742743, 3.43143143],\n",
       "       [3.43543544, 3.43943944],\n",
       "       [3.44344344, 3.44744745],\n",
       "       [3.45145145, 3.45545546],\n",
       "       [3.45945946, 3.46346346],\n",
       "       [3.46746747, 3.47147147],\n",
       "       [3.47547548, 3.47947948],\n",
       "       [3.48348348, 3.48748749],\n",
       "       [3.49149149, 3.4954955 ],\n",
       "       [3.4994995 , 3.5035035 ],\n",
       "       [3.50750751, 3.51151151],\n",
       "       [3.51551552, 3.51951952],\n",
       "       [3.52352352, 3.52752753],\n",
       "       [3.53153153, 3.53553554],\n",
       "       [3.53953954, 3.54354354],\n",
       "       [3.54754755, 3.55155155],\n",
       "       [3.55555556, 3.55955956],\n",
       "       [3.56356356, 3.56756757],\n",
       "       [3.57157157, 3.57557558],\n",
       "       [3.57957958, 3.58358358],\n",
       "       [3.58758759, 3.59159159],\n",
       "       [3.5955956 , 3.5995996 ],\n",
       "       [3.6036036 , 3.60760761],\n",
       "       [3.61161161, 3.61561562],\n",
       "       [3.61961962, 3.62362362],\n",
       "       [3.62762763, 3.63163163],\n",
       "       [3.63563564, 3.63963964],\n",
       "       [3.64364364, 3.64764765],\n",
       "       [3.65165165, 3.65565566],\n",
       "       [3.65965966, 3.66366366],\n",
       "       [3.66766767, 3.67167167],\n",
       "       [3.67567568, 3.67967968],\n",
       "       [3.68368368, 3.68768769],\n",
       "       [3.69169169, 3.6956957 ],\n",
       "       [3.6996997 , 3.7037037 ],\n",
       "       [3.70770771, 3.71171171],\n",
       "       [3.71571572, 3.71971972],\n",
       "       [3.72372372, 3.72772773],\n",
       "       [3.73173173, 3.73573574],\n",
       "       [3.73973974, 3.74374374],\n",
       "       [3.74774775, 3.75175175],\n",
       "       [3.75575576, 3.75975976],\n",
       "       [3.76376376, 3.76776777],\n",
       "       [3.77177177, 3.77577578],\n",
       "       [3.77977978, 3.78378378],\n",
       "       [3.78778779, 3.79179179],\n",
       "       [3.7957958 , 3.7997998 ],\n",
       "       [3.8038038 , 3.80780781],\n",
       "       [3.81181181, 3.81581582],\n",
       "       [3.81981982, 3.82382382],\n",
       "       [3.82782783, 3.83183183],\n",
       "       [3.83583584, 3.83983984],\n",
       "       [3.84384384, 3.84784785],\n",
       "       [3.85185185, 3.85585586],\n",
       "       [3.85985986, 3.86386386],\n",
       "       [3.86786787, 3.87187187],\n",
       "       [3.87587588, 3.87987988],\n",
       "       [3.88388388, 3.88788789],\n",
       "       [3.89189189, 3.8958959 ],\n",
       "       [3.8998999 , 3.9039039 ],\n",
       "       [3.90790791, 3.91191191],\n",
       "       [3.91591592, 3.91991992],\n",
       "       [3.92392392, 3.92792793],\n",
       "       [3.93193193, 3.93593594],\n",
       "       [3.93993994, 3.94394394],\n",
       "       [3.94794795, 3.95195195],\n",
       "       [3.95595596, 3.95995996],\n",
       "       [3.96396396, 3.96796797],\n",
       "       [3.97197197, 3.97597598],\n",
       "       [3.97997998, 3.98398398],\n",
       "       [3.98798799, 3.99199199],\n",
       "       [3.995996  , 4.        ]])"
      ]
     },
     "execution_count": 286,
     "metadata": {},
     "output_type": "execute_result"
    }
   ],
   "source": [
    "X_new"
   ]
  },
  {
   "cell_type": "markdown",
   "metadata": {},
   "source": [
    "# Play with iris dataset"
   ]
  },
  {
   "cell_type": "code",
   "execution_count": 287,
   "metadata": {},
   "outputs": [],
   "source": [
    "from sklearn import datasets\n",
    "import pandas as pd\n",
    "iris = datasets.load_iris()"
   ]
  },
  {
   "cell_type": "code",
   "execution_count": 288,
   "metadata": {},
   "outputs": [],
   "source": [
    "from sklearn.model_selection import train_test_split\n",
    "X_train, X_test, y_train,y_test = train_test_split(iris.data,iris.target,test_size=0.2)"
   ]
  },
  {
   "cell_type": "code",
   "execution_count": 289,
   "metadata": {},
   "outputs": [
    {
     "data": {
      "text/html": [
       "<div>\n",
       "<style scoped>\n",
       "    .dataframe tbody tr th:only-of-type {\n",
       "        vertical-align: middle;\n",
       "    }\n",
       "\n",
       "    .dataframe tbody tr th {\n",
       "        vertical-align: top;\n",
       "    }\n",
       "\n",
       "    .dataframe thead th {\n",
       "        text-align: right;\n",
       "    }\n",
       "</style>\n",
       "<table border=\"1\" class=\"dataframe\">\n",
       "  <thead>\n",
       "    <tr style=\"text-align: right;\">\n",
       "      <th></th>\n",
       "      <th>sepal length (cm)</th>\n",
       "      <th>sepal width (cm)</th>\n",
       "      <th>petal length (cm)</th>\n",
       "      <th>petal width (cm)</th>\n",
       "      <th>Target</th>\n",
       "    </tr>\n",
       "  </thead>\n",
       "  <tbody>\n",
       "    <tr>\n",
       "      <th>0</th>\n",
       "      <td>5.3</td>\n",
       "      <td>3.7</td>\n",
       "      <td>1.5</td>\n",
       "      <td>0.2</td>\n",
       "      <td>0.0</td>\n",
       "    </tr>\n",
       "    <tr>\n",
       "      <th>1</th>\n",
       "      <td>5.8</td>\n",
       "      <td>2.7</td>\n",
       "      <td>3.9</td>\n",
       "      <td>1.2</td>\n",
       "      <td>1.0</td>\n",
       "    </tr>\n",
       "    <tr>\n",
       "      <th>2</th>\n",
       "      <td>4.9</td>\n",
       "      <td>2.4</td>\n",
       "      <td>3.3</td>\n",
       "      <td>1.0</td>\n",
       "      <td>1.0</td>\n",
       "    </tr>\n",
       "    <tr>\n",
       "      <th>3</th>\n",
       "      <td>5.7</td>\n",
       "      <td>2.5</td>\n",
       "      <td>5.0</td>\n",
       "      <td>2.0</td>\n",
       "      <td>2.0</td>\n",
       "    </tr>\n",
       "    <tr>\n",
       "      <th>4</th>\n",
       "      <td>5.7</td>\n",
       "      <td>3.8</td>\n",
       "      <td>1.7</td>\n",
       "      <td>0.3</td>\n",
       "      <td>0.0</td>\n",
       "    </tr>\n",
       "  </tbody>\n",
       "</table>\n",
       "</div>"
      ],
      "text/plain": [
       "   sepal length (cm)  sepal width (cm)  petal length (cm)  petal width (cm)  \\\n",
       "0                5.3               3.7                1.5               0.2   \n",
       "1                5.8               2.7                3.9               1.2   \n",
       "2                4.9               2.4                3.3               1.0   \n",
       "3                5.7               2.5                5.0               2.0   \n",
       "4                5.7               3.8                1.7               0.3   \n",
       "\n",
       "   Target  \n",
       "0     0.0  \n",
       "1     1.0  \n",
       "2     1.0  \n",
       "3     2.0  \n",
       "4     0.0  "
      ]
     },
     "execution_count": 289,
     "metadata": {},
     "output_type": "execute_result"
    }
   ],
   "source": [
    "pd.DataFrame(np.concatenate((X_train, y_train.reshape(-1,1)), axis=1),columns=iris.feature_names + [\"Target\"]).head()"
   ]
  },
  {
   "cell_type": "code",
   "execution_count": null,
   "metadata": {},
   "outputs": [],
   "source": []
  },
  {
   "cell_type": "code",
   "execution_count": null,
   "metadata": {},
   "outputs": [],
   "source": []
  },
  {
   "cell_type": "code",
   "execution_count": null,
   "metadata": {
    "scrolled": true
   },
   "outputs": [],
   "source": []
  },
  {
   "cell_type": "code",
   "execution_count": 315,
   "metadata": {},
   "outputs": [
    {
     "data": {
      "text/plain": [
       "<matplotlib.collections.LineCollection at 0x1d393c14448>"
      ]
     },
     "execution_count": 315,
     "metadata": {},
     "output_type": "execute_result"
    },
    {
     "data": {
      "image/png": "[encoded data removed]",
      "text/plain": [
       "<Figure size 576x360 with 1 Axes>"
      ]
     },
     "metadata": {
      "needs_background": "light"
     },
     "output_type": "display_data"
    },
    {
     "data": {
      "image/png": "[encoded data removed]",
      "text/plain": [
       "<Figure size 576x360 with 1 Axes>"
      ]
     },
     "metadata": {
      "needs_background": "light"
     },
     "output_type": "display_data"
    }
   ],
   "source": [
    "plt.figure(1,figsize=(8,5))\n",
    "#plt.subplot(211)\n",
    "plt.plot(X_train[:,0][y_train==0],X_train[:,1][y_train==0],'g.',label=iris.target_names[0])\n",
    "plt.plot(X_train[:,0][y_train==1],X_train[:,1][y_train==1],'r.',label=iris.target_names[1])\n",
    "plt.plot(X_train[:,0][y_train==2],X_train[:,1][y_train==2],'b.',label=iris.target_names[2])\n",
    "plt.xlabel('Sepal Length')\n",
    "plt.ylabel('Sepal Width')\n",
    "plt.legend()\n",
    "plt.title(\"Comparaison des Sepal\")\n",
    "\n",
    "plt.figure(2,figsize=(8,5))\n",
    "#plt.subplot(212)\n",
    "plt.plot(X_train[:,2][y_train==0],X_train[:,3][y_train==0],'g.',label=iris.target_names[0])\n",
    "plt.plot(X_train[:,2][y_train==1],X_train[:,3][y_train==1],'r.',label=iris.target_names[1])\n",
    "plt.plot(X_train[:,2][y_train==2],X_train[:,3][y_train==2],'b.',label=iris.target_names[2])\n",
    "plt.xlabel('Petal Length')\n",
    "plt.ylabel('Petal Width')\n",
    "plt.legend()\n",
    "plt.title(\"Comparaison des Petal\")\n",
    "\n",
    "\n",
    "#plt.plot(px,py,'r^')\n",
    "#plt.text(px,py+0.1,'coucou',ha='center',weight='heavy')\n",
    "#plt.annotate(\"C'est annoté !\",xy=(px,py),xytext=(px-0.5,py+0.2),\n",
    "#             color='black',fontsize=15,arrowprops={\"facecolor\":'lightgreen'})\n",
    "\n",
    "plt.vlines(2,-0.2,0.8,colors='red',alpha=0.5)\n",
    "plt.vlines(1,-0.2,0.8,colors='red',alpha=0.5)\n",
    "plt.hlines(0.8,1,2,colors='red',alpha=0.5)\n",
    "plt.hlines(-0.2,1,2,colors='red',alpha=0.5)"
   ]
  },
  {
   "cell_type": "markdown",
   "metadata": {},
   "source": [
    "plt.figure(1,figsize=(8,5))\n",
    "#plt.subplot(211)\n",
    "plt.scatter(X_train[:,0],X_train[:,1],s=y_train*100,c='red',edgecolors='green')\n",
    "plt.xlabel('Sepal Length')\n",
    "plt.ylabel('Sepal Width')\n",
    "plt.title(\"Comparaison des Sepal\")\n",
    "\n",
    "plt.figure(2,figsize=(8,5))\n",
    "#plt.subplot(212)\n",
    "plt.scatter(X_train[:,2],X_train[:,3],s=y_train*150,c='red',edgecolors='green')\n",
    "plt.xlabel('Petal Length')\n",
    "plt.ylabel('Petal Width')\n",
    "plt.title(\"Comparaison des Petal\")\n"
   ]
  },
  {
   "cell_type": "markdown",
   "metadata": {},
   "source": [
    "## We can train a classification model "
   ]
  },
  {
   "cell_type": "markdown",
   "metadata": {},
   "source": [
    "### Logistic Regression "
   ]
  },
  {
   "cell_type": "code",
   "execution_count": 320,
   "metadata": {},
   "outputs": [],
   "source": [
    "from sklearn.linear_model import LogisticRegression\n",
    "from sklearn.model_selection import cross_val_score"
   ]
  },
  {
   "cell_type": "code",
   "execution_count": 343,
   "metadata": {},
   "outputs": [
    {
     "name": "stderr",
     "output_type": "stream",
     "text": [
      "[Parallel(n_jobs=1)]: Using backend SequentialBackend with 1 concurrent workers.\n",
      "[Parallel(n_jobs=1)]: Done   1 out of   1 | elapsed:    0.0s remaining:    0.0s\n",
      "[Parallel(n_jobs=1)]: Done   2 out of   2 | elapsed:    0.0s remaining:    0.0s\n",
      "[Parallel(n_jobs=1)]: Done   3 out of   3 | elapsed:    0.0s remaining:    0.0s\n",
      "[Parallel(n_jobs=1)]: Done   4 out of   4 | elapsed:    0.1s remaining:    0.0s\n"
     ]
    },
    {
     "name": "stdout",
     "output_type": "stream",
     "text": [
      "[CV]  ................................................................\n",
      "[CV] .................................... , score=0.917, total=   0.0s\n",
      "[CV]  ................................................................\n",
      "[CV] .................................... , score=1.000, total=   0.0s\n",
      "[CV]  ................................................................\n",
      "[CV] .................................... , score=0.833, total=   0.0s\n",
      "[CV]  ................................................................\n",
      "[CV] .................................... , score=0.917, total=   0.0s\n",
      "[CV]  ................................................................\n",
      "[CV] .................................... , score=1.000, total=   0.0s\n",
      "[CV]  ................................................................\n",
      "[CV] .................................... , score=1.000, total=   0.0s\n",
      "[CV]  ................................................................\n",
      "[CV] .................................... , score=1.000, total=   0.0s\n",
      "[CV]  ................................................................\n",
      "[CV] .................................... , score=1.000, total=   0.0s\n",
      "[CV]  ................................................................\n",
      "[CV] .................................... , score=1.000, total=   0.0s\n",
      "[CV]  ................................................................\n",
      "[CV] .................................... , score=0.917, total=   0.0s\n"
     ]
    },
    {
     "name": "stderr",
     "output_type": "stream",
     "text": [
      "[Parallel(n_jobs=1)]: Done  10 out of  10 | elapsed:    0.3s finished\n"
     ]
    }
   ],
   "source": [
    "scores = cross_val_score(LogisticRegression(multi_class='multinomial',solver='lbfgs',C=10,max_iter=200),\n",
    "                         X_train,y_train,cv=10,verbose=5,scoring='accuracy')"
   ]
  },
  {
   "cell_type": "code",
   "execution_count": 344,
   "metadata": {},
   "outputs": [
    {
     "data": {
      "text/plain": [
       "array([0.91666667, 1.        , 0.83333333, 0.91666667, 1.        ,\n",
       "       1.        , 1.        , 1.        , 1.        , 0.91666667])"
      ]
     },
     "execution_count": 344,
     "metadata": {},
     "output_type": "execute_result"
    }
   ],
   "source": [
    "scores"
   ]
  },
  {
   "cell_type": "code",
   "execution_count": 388,
   "metadata": {},
   "outputs": [],
   "source": [
    "LR_clf = LogisticRegression(multi_class='multinomial',solver='lbfgs',C=100,max_iter=200)\n",
    "LR_clf.fit( X_train,y_train)\n",
    "\n",
    "y_train_pred = LR_clf.predict(X_train)"
   ]
  },
  {
   "cell_type": "code",
   "execution_count": 397,
   "metadata": {},
   "outputs": [
    {
     "name": "stdout",
     "output_type": "stream",
     "text": [
      "ACCURACY SCORE LR_clf on train: 0.9833\n"
     ]
    }
   ],
   "source": [
    "from sklearn.metrics import accuracy_score\n",
    "\n",
    "acc_train_lr_clf = accuracy_score(y_train_pred,y_train)\n",
    "\n",
    "print('ACCURACY SCORE LR_clf on train: {:0.4f}'.format(acc_train_lr_clf))"
   ]
  },
  {
   "cell_type": "code",
   "execution_count": 398,
   "metadata": {},
   "outputs": [
    {
     "name": "stdout",
     "output_type": "stream",
     "text": [
      "ACCURACY SCORE LR_clf on test: 1.0000\n"
     ]
    }
   ],
   "source": [
    "y_test_pred = LR_clf.predict(X_test)\n",
    "\n",
    "acc_test_lr_clf = accuracy_score(y_test_pred,y_test)\n",
    "\n",
    "print('ACCURACY SCORE LR_clf on test: {:0.4f}'.format(acc_test_lr_clf))"
   ]
  },
  {
   "cell_type": "markdown",
   "metadata": {},
   "source": [
    "### SVM"
   ]
  },
  {
   "cell_type": "code",
   "execution_count": 402,
   "metadata": {},
   "outputs": [],
   "source": [
    "from sklearn.svm import LinearSVC\n",
    "from sklearn.preprocessing import StandardScaler\n",
    "from sklearn.pipeline import Pipeline"
   ]
  },
  {
   "cell_type": "code",
   "execution_count": 430,
   "metadata": {},
   "outputs": [
    {
     "name": "stdout",
     "output_type": "stream",
     "text": [
      "[LibLinear]"
     ]
    },
    {
     "data": {
      "text/plain": [
       "Pipeline(memory=None,\n",
       "         steps=[('scaled',\n",
       "                 StandardScaler(copy=True, with_mean=True, with_std=True)),\n",
       "                ('Linear_SVC',\n",
       "                 LinearSVC(C=1, class_weight=None, dual=True,\n",
       "                           fit_intercept=True, intercept_scaling=1,\n",
       "                           loss='hinge', max_iter=1000, multi_class='ovr',\n",
       "                           penalty='l2', random_state=None, tol=0.0001,\n",
       "                           verbose=5))],\n",
       "         verbose=False)"
      ]
     },
     "execution_count": 430,
     "metadata": {},
     "output_type": "execute_result"
    }
   ],
   "source": [
    "svm_clf = Pipeline([    ('scaled',StandardScaler()),\n",
    "                        ('Linear_SVC', LinearSVC(C=1,loss='hinge',verbose=5)),\n",
    "                   ])\n",
    "svm_clf.fit(X_train,y_train)"
   ]
  },
  {
   "cell_type": "code",
   "execution_count": 431,
   "metadata": {},
   "outputs": [
    {
     "name": "stdout",
     "output_type": "stream",
     "text": [
      "ACCURACY SCORE SVM_clf on train: 0.9000\n"
     ]
    }
   ],
   "source": [
    "acc_train_svm_clf = accuracy_score(svm_clf.predict(X_train),y_train)\n",
    "\n",
    "print('ACCURACY SCORE SVM_clf on train: {:0.4f}'.format(acc_train_svm_clf))"
   ]
  },
  {
   "cell_type": "code",
   "execution_count": 432,
   "metadata": {
    "scrolled": true
   },
   "outputs": [
    {
     "name": "stdout",
     "output_type": "stream",
     "text": [
      "[CV]  ................................................................\n",
      "[LibLinear][CV] .................................... , score=0.917, total=   0.0s\n",
      "[CV]  ................................................................\n",
      "[LibLinear][CV] .................................... , score=0.833, total=   0.0s\n",
      "[CV]  ................................................................\n",
      "[LibLinear][CV] .................................... , score=0.750, total=   0.0s\n",
      "[CV]  ................................................................\n",
      "[LibLinear][CV] .................................... , score=0.833, total=   0.0s\n",
      "[CV]  ................................................................\n",
      "[LibLinear][CV] .................................... , score=0.917, total=   0.0s\n",
      "[CV]  ................................................................\n",
      "[LibLinear][CV] .................................... , score=0.917, total=   0.0s\n",
      "[CV]  ................................................................\n",
      "[LibLinear][CV] .................................... , score=0.833, total=   0.0s\n",
      "[CV]  ................................................................\n",
      "[LibLinear][CV] .................................... , score=1.000, total=   0.0s\n",
      "[CV]  ................................................................\n",
      "[LibLinear][CV] .................................... , score=0.833, total=   0.0s\n",
      "[CV]  ................................................................\n",
      "[LibLinear][CV] .................................... , score=1.000, total=   0.0s\n"
     ]
    },
    {
     "name": "stderr",
     "output_type": "stream",
     "text": [
      "[Parallel(n_jobs=1)]: Using backend SequentialBackend with 1 concurrent workers.\n",
      "[Parallel(n_jobs=1)]: Done   1 out of   1 | elapsed:    0.0s remaining:    0.0s\n",
      "[Parallel(n_jobs=1)]: Done   2 out of   2 | elapsed:    0.0s remaining:    0.0s\n",
      "[Parallel(n_jobs=1)]: Done   3 out of   3 | elapsed:    0.0s remaining:    0.0s\n",
      "[Parallel(n_jobs=1)]: Done   4 out of   4 | elapsed:    0.0s remaining:    0.0s\n",
      "[Parallel(n_jobs=1)]: Done  10 out of  10 | elapsed:    0.0s finished\n"
     ]
    }
   ],
   "source": [
    "svm_clf_scores = cross_val_score(svm_clf,\n",
    "                         X_train,y_train,cv=10,verbose=5,scoring='accuracy')"
   ]
  },
  {
   "cell_type": "code",
   "execution_count": 433,
   "metadata": {},
   "outputs": [
    {
     "data": {
      "text/plain": [
       "0.8833333333333332"
      ]
     },
     "execution_count": 433,
     "metadata": {},
     "output_type": "execute_result"
    }
   ],
   "source": [
    "svm_clf_scores.mean() #No overfitting the data since mean for cross is quite equal to the single"
   ]
  },
  {
   "cell_type": "code",
   "execution_count": 434,
   "metadata": {},
   "outputs": [
    {
     "name": "stdout",
     "output_type": "stream",
     "text": [
      "ACCURACY SCORE SVM_clf on test: 0.9000\n"
     ]
    }
   ],
   "source": [
    "y_test_svm_pred = svm_clf.predict(X_test)\n",
    "\n",
    "acc_test_svm_clf = accuracy_score(y_test_svm_pred,y_test)\n",
    "\n",
    "print('ACCURACY SCORE SVM_clf on test: {:0.4f}'.format(acc_test_svm_clf))"
   ]
  },
  {
   "cell_type": "markdown",
   "metadata": {},
   "source": [
    "### Tree"
   ]
  },
  {
   "cell_type": "code",
   "execution_count": null,
   "metadata": {},
   "outputs": [],
   "source": []
  },
  {
   "cell_type": "code",
   "execution_count": 445,
   "metadata": {},
   "outputs": [
    {
     "data": {
      "image/png": "[encoded data removed]",
      "text/plain": [
       "<Figure size 720x360 with 1 Axes>"
      ]
     },
     "metadata": {
      "needs_background": "light"
     },
     "output_type": "display_data"
    }
   ],
   "source": [
    "from mpl_toolkits.mplot3d import Axes3D\n",
    "\n",
    "\n",
    "x = np.linspace(-5, 5, 50)\n",
    "y = np.linspace(-5, 5, 50)\n",
    "X, Y = np.meshgrid(x, y)\n",
    "R = np.sqrt(X**2 + Y**2)\n",
    "Z = np.sin(R)\n",
    "\n",
    "figure = plt.figure(1, figsize = (10, 5))\n",
    "subplot3d = plt.subplot(111, projection='3d')\n",
    "surface = subplot3d.plot_surface(X, Y, Z, rstride=1, cstride=1, cmap=matplotlib.cm.coolwarm, linewidth=0.1)\n",
    "plt.show()"
   ]
  },
  {
   "cell_type": "code",
   "execution_count": null,
   "metadata": {},
   "outputs": [],
   "source": []
  },
  {
   "cell_type": "code",
   "execution_count": null,
   "metadata": {},
   "outputs": [],
   "source": []
  },
  {
   "cell_type": "code",
   "execution_count": null,
   "metadata": {},
   "outputs": [],
   "source": []
  },
  {
   "cell_type": "code",
   "execution_count": null,
   "metadata": {},
   "outputs": [],
   "source": []
  },
  {
   "cell_type": "code",
   "execution_count": null,
   "metadata": {},
   "outputs": [],
   "source": []
  }
 ],
 "metadata": {
  "kernelspec": {
   "display_name": "Python 3",
   "language": "python",
   "name": "python3"
  },
  "language_info": {
   "codemirror_mode": {
    "name": "ipython",
    "version": 3
   },
   "file_extension": ".py",
   "mimetype": "text/x-python",
   "name": "python",
   "nbconvert_exporter": "python",
   "pygments_lexer": "ipython3",
   "version": "3.7.6"
  }
 },
 "nbformat": 4,
 "nbformat_minor": 4
}
