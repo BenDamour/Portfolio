{
 "cells": [
  {
   "cell_type": "markdown",
   "metadata": {},
   "source": [
    "# Fetch the data and vizualize them"
   ]
  },
  {
   "cell_type": "code",
   "execution_count": 1,
   "metadata": {},
   "outputs": [],
   "source": [
    "from sklearn.datasets import load_iris\n",
    "import numpy as np\n",
    "\n",
    "iris = load_iris()"
   ]
  },
  {
   "cell_type": "code",
   "execution_count": 2,
   "metadata": {},
   "outputs": [
    {
     "data": {
      "text/plain": [
       "['data', 'target', 'target_names', 'DESCR', 'feature_names', 'filename']"
      ]
     },
     "execution_count": 2,
     "metadata": {},
     "output_type": "execute_result"
    }
   ],
   "source": [
    "list(iris)"
   ]
  },
  {
   "cell_type": "code",
   "execution_count": 3,
   "metadata": {},
   "outputs": [
    {
     "data": {
      "text/plain": [
       "['sepal length (cm)',\n",
       " 'sepal width (cm)',\n",
       " 'petal length (cm)',\n",
       " 'petal width (cm)']"
      ]
     },
     "execution_count": 3,
     "metadata": {},
     "output_type": "execute_result"
    }
   ],
   "source": [
    "iris.feature_names"
   ]
  },
  {
   "cell_type": "code",
   "execution_count": 4,
   "metadata": {},
   "outputs": [
    {
     "data": {
      "text/plain": [
       "array(['setosa', 'versicolor', 'virginica'], dtype='<U10')"
      ]
     },
     "execution_count": 4,
     "metadata": {},
     "output_type": "execute_result"
    }
   ],
   "source": [
    "iris.target_names # 0 = setosa, 1 = versicolor, 2= virginica"
   ]
  },
  {
   "cell_type": "code",
   "execution_count": 5,
   "metadata": {},
   "outputs": [],
   "source": [
    "X = iris.data[:,2:] # Get the petal length and petal width\n",
    "y = iris.target\n",
    "\n",
    "from sklearn.model_selection import train_test_split\n",
    "\n",
    "X_train,X_test,y_train,y_test = train_test_split(X,y,test_size=0.2,random_state=42)\n"
   ]
  },
  {
   "cell_type": "markdown",
   "metadata": {},
   "source": [
    "## Vizualization"
   ]
  },
  {
   "cell_type": "code",
   "execution_count": 6,
   "metadata": {},
   "outputs": [],
   "source": [
    "import matplotlib.pyplot as plt"
   ]
  },
  {
   "cell_type": "code",
   "execution_count": 7,
   "metadata": {},
   "outputs": [
    {
     "data": {
      "text/plain": [
       "<matplotlib.legend.Legend at 0x1b4c865ab08>"
      ]
     },
     "execution_count": 7,
     "metadata": {},
     "output_type": "execute_result"
    },
    {
     "data": {
      "image/png": "[encoded data removed]",
      "text/plain": [
       "<Figure size 432x288 with 1 Axes>"
      ]
     },
     "metadata": {
      "needs_background": "light"
     },
     "output_type": "display_data"
    }
   ],
   "source": [
    "plt.scatter(X_train[:,0][y_train==0],X_train[:,1][y_train==0],c='r',label='Class 0 = setosa')\n",
    "plt.scatter(X_train[:,0][y_train==1],X_train[:,1][y_train==1],c='b',label='Class 1 = versicolor')\n",
    "plt.scatter(X_train[:,0][y_train==2],X_train[:,1][y_train==2],c='k',label='Class 2= virginica')\n",
    "plt.xlabel(\"petal length\")\n",
    "plt.ylabel(\"petal width\")\n",
    "plt.legend()"
   ]
  },
  {
   "cell_type": "markdown",
   "metadata": {},
   "source": [
    "# Select model"
   ]
  },
  {
   "cell_type": "markdown",
   "metadata": {},
   "source": [
    "## SVM Classification (sensible to feature scaling !)"
   ]
  },
  {
   "cell_type": "markdown",
   "metadata": {},
   "source": [
    "Since all SVM are sensible to feature scaling we have to scale our data first (e.g. standardscaler)"
   ]
  },
  {
   "cell_type": "code",
   "execution_count": 8,
   "metadata": {},
   "outputs": [],
   "source": [
    "from sklearn.preprocessing import StandardScaler\n",
    "\n",
    "scaler = StandardScaler()\n",
    "\n",
    "X_train_scaled = scaler.fit_transform(X_train)\n",
    "# Warning, we have to use scaler.transform(X_test), not fit !"
   ]
  },
  {
   "cell_type": "markdown",
   "metadata": {},
   "source": [
    "### Try a linear SVC"
   ]
  },
  {
   "cell_type": "code",
   "execution_count": 9,
   "metadata": {},
   "outputs": [],
   "source": [
    "C = 5\n",
    "alpha = 1 / (C * len(X_train_scaled))"
   ]
  },
  {
   "cell_type": "code",
   "execution_count": 10,
   "metadata": {},
   "outputs": [
    {
     "data": {
      "text/plain": [
       "LinearSVC(C=5, class_weight=None, dual=True, fit_intercept=True,\n",
       "          intercept_scaling=1, loss='hinge', max_iter=10000, multi_class='ovr',\n",
       "          penalty='l2', random_state=None, tol=0.0001, verbose=0)"
      ]
     },
     "execution_count": 10,
     "metadata": {},
     "output_type": "execute_result"
    }
   ],
   "source": [
    "from sklearn.svm import LinearSVC\n",
    "from sklearn.metrics import accuracy_score\n",
    "from sklearn.model_selection import cross_val_score\n",
    "\n",
    "lin_svc = LinearSVC(C=C,loss='hinge',max_iter=10000)\n",
    "lin_svc.fit(X_train_scaled,y_train)"
   ]
  },
  {
   "cell_type": "code",
   "execution_count": 11,
   "metadata": {},
   "outputs": [
    {
     "name": "stdout",
     "output_type": "stream",
     "text": [
      "Accuracy for lin_svc = 92.50%\n"
     ]
    }
   ],
   "source": [
    "y_train_lin_svc_predict = lin_svc.predict(X_train_scaled)\n",
    "print(\"Accuracy for lin_svc = {:.2%}\".format(accuracy_score(y_train_lin_svc_predict,y_train)) )"
   ]
  },
  {
   "cell_type": "code",
   "execution_count": 12,
   "metadata": {},
   "outputs": [
    {
     "name": "stdout",
     "output_type": "stream",
     "text": [
      "Accuracy for lin_svc on fold 0 = 91.67%\n",
      "Accuracy for lin_svc on fold 1 = 100.00%\n",
      "Accuracy for lin_svc on fold 2 = 75.00%\n",
      "Accuracy for lin_svc on fold 3 = 95.83%\n",
      "Accuracy for lin_svc on fold 4 = 95.83%\n",
      "\n",
      "Mean Accuracy for CV = 91.67%\n"
     ]
    }
   ],
   "source": [
    "lin_svc_scores = cross_val_score(lin_svc,X_train_scaled,y_train,cv=5)\n",
    "\n",
    "i=0\n",
    "for elt in lin_svc_scores:\n",
    "    print(\"Accuracy for lin_svc on fold {} = {:.2%}\".format(i,elt))\n",
    "    i+=1\n",
    "print(\"\\nMean Accuracy for CV = {:.2%}\".format(lin_svc_scores.mean()))"
   ]
  },
  {
   "cell_type": "markdown",
   "metadata": {},
   "source": [
    "##### Note: \n",
    "If we don't scale the data we have:\n",
    "\n",
    "Accuracy for lin_svc = 75.83%  \n",
    "\n",
    "Accuracy for lin_svc on fold 0 = 70.83%  \n",
    "Accuracy for lin_svc on fold 1 = 75.00%  \n",
    "Accuracy for lin_svc on fold 2 = 70.83%  \n",
    "Accuracy for lin_svc on fold 3 = 70.83%  \n",
    "Accuracy for lin_svc on fold 4 = 70.83%  \n",
    "\n",
    "Mean Accuracy for CV = 71.67%\n",
    "\n",
    "This is worse than with scaled data ! "
   ]
  },
  {
   "cell_type": "markdown",
   "metadata": {},
   "source": [
    "### Try a SVC (kernel='linear')"
   ]
  },
  {
   "cell_type": "code",
   "execution_count": 13,
   "metadata": {},
   "outputs": [
    {
     "data": {
      "text/plain": [
       "SVC(C=5, break_ties=False, cache_size=200, class_weight=None, coef0=0.0,\n",
       "    decision_function_shape='ovr', degree=3, gamma='scale', kernel='linear',\n",
       "    max_iter=10000, probability=False, random_state=None, shrinking=True,\n",
       "    tol=0.001, verbose=False)"
      ]
     },
     "execution_count": 13,
     "metadata": {},
     "output_type": "execute_result"
    }
   ],
   "source": [
    "from sklearn.svm import SVC\n",
    "\n",
    "svc = SVC(kernel='linear',C=C,max_iter=10000)\n",
    "svc.fit(X_train_scaled,y_train)"
   ]
  },
  {
   "cell_type": "code",
   "execution_count": 14,
   "metadata": {},
   "outputs": [
    {
     "name": "stdout",
     "output_type": "stream",
     "text": [
      "Accuracy for svc = 95.00%\n"
     ]
    }
   ],
   "source": [
    "y_train_svc_predict = svc.predict(X_train_scaled)\n",
    "print(\"Accuracy for svc = {:.2%}\".format(accuracy_score(y_train_svc_predict,y_train)) )"
   ]
  },
  {
   "cell_type": "code",
   "execution_count": 15,
   "metadata": {},
   "outputs": [
    {
     "name": "stdout",
     "output_type": "stream",
     "text": [
      "Accuracy for lin_svc on fold 0 = 95.83%\n",
      "Accuracy for lin_svc on fold 1 = 100.00%\n",
      "Accuracy for lin_svc on fold 2 = 79.17%\n",
      "Accuracy for lin_svc on fold 3 = 100.00%\n",
      "Accuracy for lin_svc on fold 4 = 95.83%\n",
      "\n",
      "Mean Accuracy for CV = 94.17%\n"
     ]
    }
   ],
   "source": [
    "svc_scores = cross_val_score(svc,X_train_scaled,y_train,cv=5)\n",
    "\n",
    "i=0\n",
    "for elt in svc_scores:\n",
    "    print(\"Accuracy for lin_svc on fold {} = {:.2%}\".format(i,elt))\n",
    "    i+=1\n",
    "print(\"\\nMean Accuracy for CV = {:.2%}\".format(svc_scores.mean()))"
   ]
  },
  {
   "cell_type": "markdown",
   "metadata": {},
   "source": [
    "### Try a SGD Classifier"
   ]
  },
  {
   "cell_type": "code",
   "execution_count": 16,
   "metadata": {},
   "outputs": [
    {
     "data": {
      "text/plain": [
       "SGDClassifier(alpha=0.0016666666666666668, average=False, class_weight=None,\n",
       "              early_stopping=False, epsilon=0.1, eta0=0.0, fit_intercept=True,\n",
       "              l1_ratio=0.15, learning_rate='optimal', loss='hinge',\n",
       "              max_iter=10000, n_iter_no_change=5, n_jobs=None, penalty='l2',\n",
       "              power_t=0.5, random_state=None, shuffle=True, tol=0.001,\n",
       "              validation_fraction=0.1, verbose=0, warm_start=False)"
      ]
     },
     "execution_count": 16,
     "metadata": {},
     "output_type": "execute_result"
    }
   ],
   "source": [
    "from sklearn.linear_model import SGDClassifier\n",
    "\n",
    "sgd = SGDClassifier(loss='hinge',max_iter=10000,alpha=alpha)\n",
    "sgd.fit(X_train_scaled,y_train)"
   ]
  },
  {
   "cell_type": "code",
   "execution_count": 17,
   "metadata": {},
   "outputs": [
    {
     "name": "stdout",
     "output_type": "stream",
     "text": [
      "Accuracy for sgd = 94.17%\n"
     ]
    }
   ],
   "source": [
    "y_train_sgd_predict = sgd.predict(X_train_scaled)\n",
    "print(\"Accuracy for sgd = {:.2%}\".format(accuracy_score(y_train_sgd_predict,y_train)) )"
   ]
  },
  {
   "cell_type": "code",
   "execution_count": 18,
   "metadata": {},
   "outputs": [
    {
     "name": "stdout",
     "output_type": "stream",
     "text": [
      "Accuracy for lin_svc on fold 0 = 95.83%\n",
      "Accuracy for lin_svc on fold 1 = 91.67%\n",
      "Accuracy for lin_svc on fold 2 = 79.17%\n",
      "Accuracy for lin_svc on fold 3 = 100.00%\n",
      "Accuracy for lin_svc on fold 4 = 95.83%\n",
      "\n",
      "Mean Accuracy for CV = 92.50%\n"
     ]
    }
   ],
   "source": [
    "sgd_scores = cross_val_score(sgd,X_train_scaled,y_train,cv=5)\n",
    "\n",
    "i=0\n",
    "for elt in sgd_scores:\n",
    "    print(\"Accuracy for lin_svc on fold {} = {:.2%}\".format(i,elt))\n",
    "    i+=1\n",
    "print(\"\\nMean Accuracy for CV = {:.2%}\".format(sgd_scores.mean()))"
   ]
  },
  {
   "cell_type": "code",
   "execution_count": null,
   "metadata": {},
   "outputs": [],
   "source": []
  },
  {
   "cell_type": "code",
   "execution_count": null,
   "metadata": {},
   "outputs": [],
   "source": []
  }
 ],
 "metadata": {
  "kernelspec": {
   "display_name": "Python 3",
   "language": "python",
   "name": "python3"
  },
  "language_info": {
   "codemirror_mode": {
    "name": "ipython",
    "version": 3
   },
   "file_extension": ".py",
   "mimetype": "text/x-python",
   "name": "python",
   "nbconvert_exporter": "python",
   "pygments_lexer": "ipython3",
   "version": "3.7.6"
  }
 },
 "nbformat": 4,
 "nbformat_minor": 4
}
