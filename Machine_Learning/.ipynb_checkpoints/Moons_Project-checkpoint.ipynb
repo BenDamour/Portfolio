{
 "cells": [
  {
   "cell_type": "code",
   "execution_count": 1,
   "metadata": {},
   "outputs": [],
   "source": [
    "from sklearn.datasets import make_moons\n",
    "from sklearn.model_selection import train_test_split\n",
    "import matplotlib.pyplot as plt\n",
    "import numpy as np"
   ]
  },
  {
   "cell_type": "code",
   "execution_count": 2,
   "metadata": {},
   "outputs": [],
   "source": [
    "X,y = make_moons(n_samples=1000,noise=0.4)\n",
    "X_train,X_test,y_train,y_test = train_test_split(X,y,test_size=0.2,random_state=42)"
   ]
  },
  {
   "cell_type": "code",
   "execution_count": 3,
   "metadata": {},
   "outputs": [
    {
     "data": {
      "text/plain": [
       "<matplotlib.legend.Legend at 0x1e975c98648>"
      ]
     },
     "execution_count": 3,
     "metadata": {},
     "output_type": "execute_result"
    },
    {
     "data": {
      "image/png": "[encoded data removed]",
      "text/plain": [
       "<Figure size 576x360 with 1 Axes>"
      ]
     },
     "metadata": {
      "needs_background": "light"
     },
     "output_type": "display_data"
    }
   ],
   "source": [
    "plt.figure(1,figsize=(8,5))\n",
    "plt.title('Moon Train set')\n",
    "plt.plot(X_train[:,0][y_train==0],X_train[:,1][y_train==0],'r.',label='Class 0')\n",
    "plt.plot(X_train[:,0][y_train==1],X_train[:,1][y_train==1],'b.',label='Class 0')\n",
    "plt.xlabel('X_values')\n",
    "plt.ylabel('Y_values')\n",
    "plt.legend()"
   ]
  },
  {
   "cell_type": "code",
   "execution_count": 4,
   "metadata": {},
   "outputs": [],
   "source": [
    "from sklearn.tree import DecisionTreeClassifier\n",
    "from sklearn.model_selection import cross_val_score\n",
    "from sklearn.model_selection import GridSearchCV\n",
    "from sklearn.metrics import accuracy_score"
   ]
  },
  {
   "cell_type": "code",
   "execution_count": 5,
   "metadata": {},
   "outputs": [
    {
     "name": "stdout",
     "output_type": "stream",
     "text": [
      "Accuracy score for a basic tree = 100.00%\n",
      "\n",
      "Accuracy for fold 0 = 81.25%\n",
      "Accuracy for fold 1 = 80.00%\n",
      "Accuracy for fold 2 = 81.25%\n",
      "Accuracy for fold 3 = 83.75%\n",
      "Accuracy for fold 4 = 80.00%\n",
      "Accuracy for fold 5 = 80.00%\n",
      "Accuracy for fold 6 = 75.00%\n",
      "Accuracy for fold 7 = 71.25%\n",
      "Accuracy for fold 8 = 73.75%\n",
      "Accuracy for fold 9 = 63.75%\n",
      "\n",
      "Accuracy mean for the cross validation: 77.00%\n"
     ]
    }
   ],
   "source": [
    "# Basic tree\n",
    "tree_clf = DecisionTreeClassifier()\n",
    "tree_clf.fit(X_train,y_train)\n",
    "\n",
    "y_train_pred = tree_clf.predict(X_train)\n",
    "print('Accuracy score for a basic tree = {:0.2%}\\n'.format(accuracy_score(y_train_pred,y_train)))\n",
    "\n",
    "scores_tree = cross_val_score(tree_clf,X_train,y_train,cv=10,verbose=0)\n",
    "\n",
    "i=0\n",
    "for elt in scores_tree:\n",
    "    print(\"Accuracy for fold {} = {:0.2%}\".format(i,elt))\n",
    "    i+=1\n",
    "\n",
    "print('\\nAccuracy mean for the cross validation: {:0.2%}'.format(scores_tree.mean()))"
   ]
  },
  {
   "cell_type": "code",
   "execution_count": 6,
   "metadata": {},
   "outputs": [
    {
     "name": "stdout",
     "output_type": "stream",
     "text": [
      "Wall time: 1.86 s\n"
     ]
    },
    {
     "data": {
      "text/plain": [
       "GridSearchCV(cv=10, error_score=nan,\n",
       "             estimator=DecisionTreeClassifier(ccp_alpha=0.0, class_weight=None,\n",
       "                                              criterion='gini', max_depth=None,\n",
       "                                              max_features=None,\n",
       "                                              max_leaf_nodes=None,\n",
       "                                              min_impurity_decrease=0.0,\n",
       "                                              min_impurity_split=None,\n",
       "                                              min_samples_leaf=1,\n",
       "                                              min_samples_split=2,\n",
       "                                              min_weight_fraction_leaf=0.0,\n",
       "                                              presort='deprecated',\n",
       "                                              random_state=None,\n",
       "                                              splitter='best'),\n",
       "             iid='deprecated', n_jobs=None,\n",
       "             param_grid={'max_depth': [1, 2, 3, 10, 20], 'max_features': [1, 2],\n",
       "                         'max_leaf_nodes': [4, 8, 10],\n",
       "                         'min_samples_leaf': [1, 2, 3, 10, 20]},\n",
       "             pre_dispatch='2*n_jobs', refit=True, return_train_score=False,\n",
       "             scoring=None, verbose=0)"
      ]
     },
     "execution_count": 6,
     "metadata": {},
     "output_type": "execute_result"
    }
   ],
   "source": [
    "param_grid = {'max_depth':[1,2,3,10,20],'min_samples_leaf':[1,2,3,10,20],\n",
    "              'max_features':[1,2],'max_leaf_nodes':[4,8,10]}\n",
    "\n",
    "Tree_search_CV = GridSearchCV(tree_clf,param_grid,cv=10,verbose=0)\n",
    "\n",
    "%time Tree_search_CV.fit(X_train,y_train)"
   ]
  },
  {
   "cell_type": "code",
   "execution_count": 7,
   "metadata": {
    "scrolled": true
   },
   "outputs": [
    {
     "data": {
      "text/plain": [
       "{'max_depth': 2, 'max_features': 2, 'max_leaf_nodes': 4, 'min_samples_leaf': 1}"
      ]
     },
     "execution_count": 7,
     "metadata": {},
     "output_type": "execute_result"
    }
   ],
   "source": [
    "Tree_search_CV.best_params_"
   ]
  },
  {
   "cell_type": "code",
   "execution_count": 8,
   "metadata": {},
   "outputs": [],
   "source": [
    "final_model = Tree_search_CV.best_estimator_"
   ]
  },
  {
   "cell_type": "code",
   "execution_count": 9,
   "metadata": {},
   "outputs": [
    {
     "name": "stdout",
     "output_type": "stream",
     "text": [
      "Wall time: 2 ms\n"
     ]
    },
    {
     "data": {
      "text/plain": [
       "DecisionTreeClassifier(ccp_alpha=0.0, class_weight=None, criterion='gini',\n",
       "                       max_depth=2, max_features=2, max_leaf_nodes=4,\n",
       "                       min_impurity_decrease=0.0, min_impurity_split=None,\n",
       "                       min_samples_leaf=1, min_samples_split=2,\n",
       "                       min_weight_fraction_leaf=0.0, presort='deprecated',\n",
       "                       random_state=None, splitter='best')"
      ]
     },
     "execution_count": 9,
     "metadata": {},
     "output_type": "execute_result"
    }
   ],
   "source": [
    "%time final_model.fit(X_train,y_train)"
   ]
  },
  {
   "cell_type": "code",
   "execution_count": 10,
   "metadata": {},
   "outputs": [
    {
     "name": "stdout",
     "output_type": "stream",
     "text": [
      "Accuracy score for the best tree = 86.00%\n",
      "\n",
      "Knowing that our GridSearchCV best scores is 85.00%\n"
     ]
    }
   ],
   "source": [
    "y_train_pred = final_model.predict(X_train)\n",
    "print('Accuracy score for the best tree = {:0.2%}\\n'.format(accuracy_score(y_train_pred,y_train)))\n",
    "print('Knowing that our GridSearchCV best scores is {:0.2%}'.format(Tree_search_CV.best_score_))"
   ]
  },
  {
   "cell_type": "code",
   "execution_count": 11,
   "metadata": {},
   "outputs": [
    {
     "name": "stdout",
     "output_type": "stream",
     "text": [
      "Accuracy score on the test set = 87.00%\n",
      "\n"
     ]
    }
   ],
   "source": [
    "y_test_pred = final_model.predict(X_test)\n",
    "print('Accuracy score on the test set = {:0.2%}\\n'.format(accuracy_score(y_test_pred,y_test)))\n"
   ]
  }
 ],
 "metadata": {
  "kernelspec": {
   "display_name": "Python 3",
   "language": "python",
   "name": "python3"
  },
  "language_info": {
   "codemirror_mode": {
    "name": "ipython",
    "version": 3
   },
   "file_extension": ".py",
   "mimetype": "text/x-python",
   "name": "python",
   "nbconvert_exporter": "python",
   "pygments_lexer": "ipython3",
   "version": "3.7.6"
  }
 },
 "nbformat": 4,
 "nbformat_minor": 4
}
