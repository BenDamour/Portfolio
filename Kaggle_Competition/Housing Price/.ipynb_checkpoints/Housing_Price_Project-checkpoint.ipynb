{
 "cells": [
  {
   "cell_type": "code",
   "execution_count": 119,
   "metadata": {
    "scrolled": false
   },
   "outputs": [
    {
     "name": "stdout",
     "output_type": "stream",
     "text": [
      "count      1460.000000\n",
      "mean     180921.195890\n",
      "std       79442.502883\n",
      "min       34900.000000\n",
      "25%      129975.000000\n",
      "50%      163000.000000\n",
      "75%      214000.000000\n",
      "max      755000.000000\n",
      "Name: SalePrice, dtype: float64 \n",
      "\n",
      "Treshold = 500,000 $\n",
      "More than Treshold:\n",
      " False    1451\n",
      "True        9\n",
      "Name: SalePrice, dtype: int64\n"
     ]
    },
    {
     "data": {
      "image/png": "[encoded data removed]",
      "text/plain": [
       "<Figure size 432x288 with 1 Axes>"
      ]
     },
     "metadata": {
      "needs_background": "light"
     },
     "output_type": "display_data"
    }
   ],
   "source": [
    "import pandas as pd \n",
    "import numpy as np\n",
    "import matplotlib.pyplot as plt \n",
    "import seaborn as sns\n",
    "\n",
    "Train_set_init = pd.read_csv('Dataset/train.csv')\n",
    "Train_y_init = Train_set_init.SalePrice\n",
    "Train_set_init.drop(['SalePrice','Id'],axis=1,inplace=True)\n",
    "\n",
    "print(Train_y_init.describe(),'\\n')\n",
    "treshold = 500 *1000\n",
    "\n",
    "print('Treshold = {:3,.0f} $'.format(treshold))\n",
    "print('More than Treshold:\\n',(Train_y_init>treshold).value_counts())\n",
    "sns.boxplot(Train_y_init)\n",
    "\n",
    "Train_set_to_reindex = pd.DataFrame(Train_set_init[Train_y_init<=treshold],columns=Train_set_init.columns)\n",
    "Train_set = Train_set_to_reindex.reset_index(drop=True)\n",
    "\n",
    "Train_y = pd.Series(Train_y_init[Train_y_init<=treshold].values)"
   ]
  },
  {
   "cell_type": "markdown",
   "metadata": {},
   "source": [
    "We can see that we have some outliers in the sale price, we can decide of a treshold value to discard the outliers for our machine learning model. Since in the figure we have some outliers with a price higher than 500,000$, I decide to discard those values. "
   ]
  },
  {
   "cell_type": "markdown",
   "metadata": {},
   "source": [
    "# EDA on numerical features"
   ]
  },
  {
   "cell_type": "markdown",
   "metadata": {},
   "source": [
    "## Prepare the data "
   ]
  },
  {
   "cell_type": "code",
   "execution_count": 120,
   "metadata": {},
   "outputs": [],
   "source": [
    "Train_set_num_EDA = Train_set.select_dtypes(exclude='object').copy()\n",
    "Train_set_num_EDA['SalePrice']=Train_y"
   ]
  },
  {
   "cell_type": "code",
   "execution_count": 121,
   "metadata": {},
   "outputs": [
    {
     "data": {
      "text/html": [
       "<div>\n",
       "<style scoped>\n",
       "    .dataframe tbody tr th:only-of-type {\n",
       "        vertical-align: middle;\n",
       "    }\n",
       "\n",
       "    .dataframe tbody tr th {\n",
       "        vertical-align: top;\n",
       "    }\n",
       "\n",
       "    .dataframe thead th {\n",
       "        text-align: right;\n",
       "    }\n",
       "</style>\n",
       "<table border=\"1\" class=\"dataframe\">\n",
       "  <thead>\n",
       "    <tr style=\"text-align: right;\">\n",
       "      <th></th>\n",
       "      <th>count</th>\n",
       "      <th>mean</th>\n",
       "      <th>std</th>\n",
       "      <th>min</th>\n",
       "      <th>25%</th>\n",
       "      <th>50%</th>\n",
       "      <th>75%</th>\n",
       "      <th>max</th>\n",
       "    </tr>\n",
       "  </thead>\n",
       "  <tbody>\n",
       "    <tr>\n",
       "      <th>MSSubClass</th>\n",
       "      <td>1451.0</td>\n",
       "      <td>56.960717</td>\n",
       "      <td>42.397924</td>\n",
       "      <td>20.0</td>\n",
       "      <td>20.0</td>\n",
       "      <td>50.0</td>\n",
       "      <td>70.0</td>\n",
       "      <td>190.0</td>\n",
       "    </tr>\n",
       "    <tr>\n",
       "      <th>LotFrontage</th>\n",
       "      <td>1192.0</td>\n",
       "      <td>69.833054</td>\n",
       "      <td>24.101168</td>\n",
       "      <td>21.0</td>\n",
       "      <td>59.0</td>\n",
       "      <td>69.0</td>\n",
       "      <td>80.0</td>\n",
       "      <td>313.0</td>\n",
       "    </tr>\n",
       "    <tr>\n",
       "      <th>LotArea</th>\n",
       "      <td>1451.0</td>\n",
       "      <td>10442.747760</td>\n",
       "      <td>9916.673175</td>\n",
       "      <td>1300.0</td>\n",
       "      <td>7517.5</td>\n",
       "      <td>9452.0</td>\n",
       "      <td>11506.0</td>\n",
       "      <td>215245.0</td>\n",
       "    </tr>\n",
       "    <tr>\n",
       "      <th>OverallQual</th>\n",
       "      <td>1451.0</td>\n",
       "      <td>6.079256</td>\n",
       "      <td>1.362524</td>\n",
       "      <td>1.0</td>\n",
       "      <td>5.0</td>\n",
       "      <td>6.0</td>\n",
       "      <td>7.0</td>\n",
       "      <td>10.0</td>\n",
       "    </tr>\n",
       "    <tr>\n",
       "      <th>OverallCond</th>\n",
       "      <td>1451.0</td>\n",
       "      <td>5.578222</td>\n",
       "      <td>1.115370</td>\n",
       "      <td>1.0</td>\n",
       "      <td>5.0</td>\n",
       "      <td>5.0</td>\n",
       "      <td>6.0</td>\n",
       "      <td>9.0</td>\n",
       "    </tr>\n",
       "    <tr>\n",
       "      <th>YearBuilt</th>\n",
       "      <td>1451.0</td>\n",
       "      <td>1971.071675</td>\n",
       "      <td>30.189728</td>\n",
       "      <td>1872.0</td>\n",
       "      <td>1954.0</td>\n",
       "      <td>1972.0</td>\n",
       "      <td>2000.0</td>\n",
       "      <td>2010.0</td>\n",
       "    </tr>\n",
       "    <tr>\n",
       "      <th>YearRemodAdd</th>\n",
       "      <td>1451.0</td>\n",
       "      <td>1984.749828</td>\n",
       "      <td>20.651395</td>\n",
       "      <td>1950.0</td>\n",
       "      <td>1966.0</td>\n",
       "      <td>1993.0</td>\n",
       "      <td>2004.0</td>\n",
       "      <td>2010.0</td>\n",
       "    </tr>\n",
       "    <tr>\n",
       "      <th>MasVnrArea</th>\n",
       "      <td>1443.0</td>\n",
       "      <td>100.526681</td>\n",
       "      <td>173.818532</td>\n",
       "      <td>0.0</td>\n",
       "      <td>0.0</td>\n",
       "      <td>0.0</td>\n",
       "      <td>162.0</td>\n",
       "      <td>1600.0</td>\n",
       "    </tr>\n",
       "    <tr>\n",
       "      <th>BsmtFinSF1</th>\n",
       "      <td>1451.0</td>\n",
       "      <td>437.809097</td>\n",
       "      <td>447.757832</td>\n",
       "      <td>0.0</td>\n",
       "      <td>0.0</td>\n",
       "      <td>381.0</td>\n",
       "      <td>705.5</td>\n",
       "      <td>5644.0</td>\n",
       "    </tr>\n",
       "    <tr>\n",
       "      <th>BsmtFinSF2</th>\n",
       "      <td>1451.0</td>\n",
       "      <td>46.466575</td>\n",
       "      <td>161.264463</td>\n",
       "      <td>0.0</td>\n",
       "      <td>0.0</td>\n",
       "      <td>0.0</td>\n",
       "      <td>0.0</td>\n",
       "      <td>1474.0</td>\n",
       "    </tr>\n",
       "    <tr>\n",
       "      <th>BsmtUnfSF</th>\n",
       "      <td>1451.0</td>\n",
       "      <td>566.076499</td>\n",
       "      <td>440.565397</td>\n",
       "      <td>0.0</td>\n",
       "      <td>222.0</td>\n",
       "      <td>476.0</td>\n",
       "      <td>808.0</td>\n",
       "      <td>2336.0</td>\n",
       "    </tr>\n",
       "    <tr>\n",
       "      <th>TotalBsmtSF</th>\n",
       "      <td>1451.0</td>\n",
       "      <td>1050.352171</td>\n",
       "      <td>429.484478</td>\n",
       "      <td>0.0</td>\n",
       "      <td>794.5</td>\n",
       "      <td>990.0</td>\n",
       "      <td>1285.0</td>\n",
       "      <td>6110.0</td>\n",
       "    </tr>\n",
       "    <tr>\n",
       "      <th>1stFlrSF</th>\n",
       "      <td>1451.0</td>\n",
       "      <td>1156.673329</td>\n",
       "      <td>379.591002</td>\n",
       "      <td>334.0</td>\n",
       "      <td>882.0</td>\n",
       "      <td>1085.0</td>\n",
       "      <td>1382.5</td>\n",
       "      <td>4692.0</td>\n",
       "    </tr>\n",
       "    <tr>\n",
       "      <th>2ndFlrSF</th>\n",
       "      <td>1451.0</td>\n",
       "      <td>342.745003</td>\n",
       "      <td>429.825177</td>\n",
       "      <td>0.0</td>\n",
       "      <td>0.0</td>\n",
       "      <td>0.0</td>\n",
       "      <td>728.0</td>\n",
       "      <td>1818.0</td>\n",
       "    </tr>\n",
       "    <tr>\n",
       "      <th>LowQualFinSF</th>\n",
       "      <td>1451.0</td>\n",
       "      <td>5.880772</td>\n",
       "      <td>48.771560</td>\n",
       "      <td>0.0</td>\n",
       "      <td>0.0</td>\n",
       "      <td>0.0</td>\n",
       "      <td>0.0</td>\n",
       "      <td>572.0</td>\n",
       "    </tr>\n",
       "    <tr>\n",
       "      <th>GrLivArea</th>\n",
       "      <td>1451.0</td>\n",
       "      <td>1505.299104</td>\n",
       "      <td>507.181630</td>\n",
       "      <td>334.0</td>\n",
       "      <td>1128.0</td>\n",
       "      <td>1456.0</td>\n",
       "      <td>1769.5</td>\n",
       "      <td>5642.0</td>\n",
       "    </tr>\n",
       "    <tr>\n",
       "      <th>BsmtFullBath</th>\n",
       "      <td>1451.0</td>\n",
       "      <td>0.423846</td>\n",
       "      <td>0.518842</td>\n",
       "      <td>0.0</td>\n",
       "      <td>0.0</td>\n",
       "      <td>0.0</td>\n",
       "      <td>1.0</td>\n",
       "      <td>3.0</td>\n",
       "    </tr>\n",
       "    <tr>\n",
       "      <th>BsmtHalfBath</th>\n",
       "      <td>1451.0</td>\n",
       "      <td>0.057202</td>\n",
       "      <td>0.238172</td>\n",
       "      <td>0.0</td>\n",
       "      <td>0.0</td>\n",
       "      <td>0.0</td>\n",
       "      <td>0.0</td>\n",
       "      <td>2.0</td>\n",
       "    </tr>\n",
       "    <tr>\n",
       "      <th>FullBath</th>\n",
       "      <td>1451.0</td>\n",
       "      <td>1.558236</td>\n",
       "      <td>0.544457</td>\n",
       "      <td>0.0</td>\n",
       "      <td>1.0</td>\n",
       "      <td>2.0</td>\n",
       "      <td>2.0</td>\n",
       "      <td>3.0</td>\n",
       "    </tr>\n",
       "    <tr>\n",
       "      <th>HalfBath</th>\n",
       "      <td>1451.0</td>\n",
       "      <td>0.380427</td>\n",
       "      <td>0.502411</td>\n",
       "      <td>0.0</td>\n",
       "      <td>0.0</td>\n",
       "      <td>0.0</td>\n",
       "      <td>1.0</td>\n",
       "      <td>2.0</td>\n",
       "    </tr>\n",
       "    <tr>\n",
       "      <th>BedroomAbvGr</th>\n",
       "      <td>1451.0</td>\n",
       "      <td>2.864232</td>\n",
       "      <td>0.812936</td>\n",
       "      <td>0.0</td>\n",
       "      <td>2.0</td>\n",
       "      <td>3.0</td>\n",
       "      <td>3.0</td>\n",
       "      <td>8.0</td>\n",
       "    </tr>\n",
       "    <tr>\n",
       "      <th>KitchenAbvGr</th>\n",
       "      <td>1451.0</td>\n",
       "      <td>1.046864</td>\n",
       "      <td>0.220990</td>\n",
       "      <td>0.0</td>\n",
       "      <td>1.0</td>\n",
       "      <td>1.0</td>\n",
       "      <td>1.0</td>\n",
       "      <td>3.0</td>\n",
       "    </tr>\n",
       "    <tr>\n",
       "      <th>TotRmsAbvGrd</th>\n",
       "      <td>1451.0</td>\n",
       "      <td>6.492764</td>\n",
       "      <td>1.597125</td>\n",
       "      <td>2.0</td>\n",
       "      <td>5.0</td>\n",
       "      <td>6.0</td>\n",
       "      <td>7.0</td>\n",
       "      <td>14.0</td>\n",
       "    </tr>\n",
       "    <tr>\n",
       "      <th>Fireplaces</th>\n",
       "      <td>1451.0</td>\n",
       "      <td>0.607857</td>\n",
       "      <td>0.642125</td>\n",
       "      <td>0.0</td>\n",
       "      <td>0.0</td>\n",
       "      <td>1.0</td>\n",
       "      <td>1.0</td>\n",
       "      <td>3.0</td>\n",
       "    </tr>\n",
       "    <tr>\n",
       "      <th>GarageYrBlt</th>\n",
       "      <td>1370.0</td>\n",
       "      <td>1978.344526</td>\n",
       "      <td>24.684856</td>\n",
       "      <td>1900.0</td>\n",
       "      <td>1961.0</td>\n",
       "      <td>1979.0</td>\n",
       "      <td>2002.0</td>\n",
       "      <td>2010.0</td>\n",
       "    </tr>\n",
       "    <tr>\n",
       "      <th>GarageCars</th>\n",
       "      <td>1451.0</td>\n",
       "      <td>1.759476</td>\n",
       "      <td>0.743272</td>\n",
       "      <td>0.0</td>\n",
       "      <td>1.0</td>\n",
       "      <td>2.0</td>\n",
       "      <td>2.0</td>\n",
       "      <td>4.0</td>\n",
       "    </tr>\n",
       "    <tr>\n",
       "      <th>GarageArea</th>\n",
       "      <td>1451.0</td>\n",
       "      <td>470.616127</td>\n",
       "      <td>212.044773</td>\n",
       "      <td>0.0</td>\n",
       "      <td>327.5</td>\n",
       "      <td>478.0</td>\n",
       "      <td>576.0</td>\n",
       "      <td>1418.0</td>\n",
       "    </tr>\n",
       "    <tr>\n",
       "      <th>WoodDeckSF</th>\n",
       "      <td>1451.0</td>\n",
       "      <td>93.669194</td>\n",
       "      <td>124.707744</td>\n",
       "      <td>0.0</td>\n",
       "      <td>0.0</td>\n",
       "      <td>0.0</td>\n",
       "      <td>168.0</td>\n",
       "      <td>857.0</td>\n",
       "    </tr>\n",
       "    <tr>\n",
       "      <th>OpenPorchSF</th>\n",
       "      <td>1451.0</td>\n",
       "      <td>46.455548</td>\n",
       "      <td>66.345854</td>\n",
       "      <td>0.0</td>\n",
       "      <td>0.0</td>\n",
       "      <td>24.0</td>\n",
       "      <td>68.0</td>\n",
       "      <td>547.0</td>\n",
       "    </tr>\n",
       "    <tr>\n",
       "      <th>EnclosedPorch</th>\n",
       "      <td>1451.0</td>\n",
       "      <td>22.090283</td>\n",
       "      <td>61.283981</td>\n",
       "      <td>0.0</td>\n",
       "      <td>0.0</td>\n",
       "      <td>0.0</td>\n",
       "      <td>0.0</td>\n",
       "      <td>552.0</td>\n",
       "    </tr>\n",
       "    <tr>\n",
       "      <th>3SsnPorch</th>\n",
       "      <td>1451.0</td>\n",
       "      <td>3.430737</td>\n",
       "      <td>29.406940</td>\n",
       "      <td>0.0</td>\n",
       "      <td>0.0</td>\n",
       "      <td>0.0</td>\n",
       "      <td>0.0</td>\n",
       "      <td>508.0</td>\n",
       "    </tr>\n",
       "    <tr>\n",
       "      <th>ScreenPorch</th>\n",
       "      <td>1451.0</td>\n",
       "      <td>14.760165</td>\n",
       "      <td>55.342585</td>\n",
       "      <td>0.0</td>\n",
       "      <td>0.0</td>\n",
       "      <td>0.0</td>\n",
       "      <td>0.0</td>\n",
       "      <td>480.0</td>\n",
       "    </tr>\n",
       "    <tr>\n",
       "      <th>PoolArea</th>\n",
       "      <td>1451.0</td>\n",
       "      <td>2.393522</td>\n",
       "      <td>37.599673</td>\n",
       "      <td>0.0</td>\n",
       "      <td>0.0</td>\n",
       "      <td>0.0</td>\n",
       "      <td>0.0</td>\n",
       "      <td>738.0</td>\n",
       "    </tr>\n",
       "    <tr>\n",
       "      <th>MiscVal</th>\n",
       "      <td>1451.0</td>\n",
       "      <td>43.758787</td>\n",
       "      <td>497.648467</td>\n",
       "      <td>0.0</td>\n",
       "      <td>0.0</td>\n",
       "      <td>0.0</td>\n",
       "      <td>0.0</td>\n",
       "      <td>15500.0</td>\n",
       "    </tr>\n",
       "    <tr>\n",
       "      <th>MoSold</th>\n",
       "      <td>1451.0</td>\n",
       "      <td>6.331496</td>\n",
       "      <td>2.702432</td>\n",
       "      <td>1.0</td>\n",
       "      <td>5.0</td>\n",
       "      <td>6.0</td>\n",
       "      <td>8.0</td>\n",
       "      <td>12.0</td>\n",
       "    </tr>\n",
       "    <tr>\n",
       "      <th>YrSold</th>\n",
       "      <td>1451.0</td>\n",
       "      <td>2007.813921</td>\n",
       "      <td>1.326587</td>\n",
       "      <td>2006.0</td>\n",
       "      <td>2007.0</td>\n",
       "      <td>2008.0</td>\n",
       "      <td>2009.0</td>\n",
       "      <td>2010.0</td>\n",
       "    </tr>\n",
       "    <tr>\n",
       "      <th>SalePrice</th>\n",
       "      <td>1451.0</td>\n",
       "      <td>178272.872502</td>\n",
       "      <td>71891.119458</td>\n",
       "      <td>34900.0</td>\n",
       "      <td>129900.0</td>\n",
       "      <td>162500.0</td>\n",
       "      <td>213000.0</td>\n",
       "      <td>485000.0</td>\n",
       "    </tr>\n",
       "  </tbody>\n",
       "</table>\n",
       "</div>"
      ],
      "text/plain": [
       "                count           mean           std      min       25%  \\\n",
       "MSSubClass     1451.0      56.960717     42.397924     20.0      20.0   \n",
       "LotFrontage    1192.0      69.833054     24.101168     21.0      59.0   \n",
       "LotArea        1451.0   10442.747760   9916.673175   1300.0    7517.5   \n",
       "OverallQual    1451.0       6.079256      1.362524      1.0       5.0   \n",
       "OverallCond    1451.0       5.578222      1.115370      1.0       5.0   \n",
       "YearBuilt      1451.0    1971.071675     30.189728   1872.0    1954.0   \n",
       "YearRemodAdd   1451.0    1984.749828     20.651395   1950.0    1966.0   \n",
       "MasVnrArea     1443.0     100.526681    173.818532      0.0       0.0   \n",
       "BsmtFinSF1     1451.0     437.809097    447.757832      0.0       0.0   \n",
       "BsmtFinSF2     1451.0      46.466575    161.264463      0.0       0.0   \n",
       "BsmtUnfSF      1451.0     566.076499    440.565397      0.0     222.0   \n",
       "TotalBsmtSF    1451.0    1050.352171    429.484478      0.0     794.5   \n",
       "1stFlrSF       1451.0    1156.673329    379.591002    334.0     882.0   \n",
       "2ndFlrSF       1451.0     342.745003    429.825177      0.0       0.0   \n",
       "LowQualFinSF   1451.0       5.880772     48.771560      0.0       0.0   \n",
       "GrLivArea      1451.0    1505.299104    507.181630    334.0    1128.0   \n",
       "BsmtFullBath   1451.0       0.423846      0.518842      0.0       0.0   \n",
       "BsmtHalfBath   1451.0       0.057202      0.238172      0.0       0.0   \n",
       "FullBath       1451.0       1.558236      0.544457      0.0       1.0   \n",
       "HalfBath       1451.0       0.380427      0.502411      0.0       0.0   \n",
       "BedroomAbvGr   1451.0       2.864232      0.812936      0.0       2.0   \n",
       "KitchenAbvGr   1451.0       1.046864      0.220990      0.0       1.0   \n",
       "TotRmsAbvGrd   1451.0       6.492764      1.597125      2.0       5.0   \n",
       "Fireplaces     1451.0       0.607857      0.642125      0.0       0.0   \n",
       "GarageYrBlt    1370.0    1978.344526     24.684856   1900.0    1961.0   \n",
       "GarageCars     1451.0       1.759476      0.743272      0.0       1.0   \n",
       "GarageArea     1451.0     470.616127    212.044773      0.0     327.5   \n",
       "WoodDeckSF     1451.0      93.669194    124.707744      0.0       0.0   \n",
       "OpenPorchSF    1451.0      46.455548     66.345854      0.0       0.0   \n",
       "EnclosedPorch  1451.0      22.090283     61.283981      0.0       0.0   \n",
       "3SsnPorch      1451.0       3.430737     29.406940      0.0       0.0   \n",
       "ScreenPorch    1451.0      14.760165     55.342585      0.0       0.0   \n",
       "PoolArea       1451.0       2.393522     37.599673      0.0       0.0   \n",
       "MiscVal        1451.0      43.758787    497.648467      0.0       0.0   \n",
       "MoSold         1451.0       6.331496      2.702432      1.0       5.0   \n",
       "YrSold         1451.0    2007.813921      1.326587   2006.0    2007.0   \n",
       "SalePrice      1451.0  178272.872502  71891.119458  34900.0  129900.0   \n",
       "\n",
       "                    50%       75%       max  \n",
       "MSSubClass         50.0      70.0     190.0  \n",
       "LotFrontage        69.0      80.0     313.0  \n",
       "LotArea          9452.0   11506.0  215245.0  \n",
       "OverallQual         6.0       7.0      10.0  \n",
       "OverallCond         5.0       6.0       9.0  \n",
       "YearBuilt        1972.0    2000.0    2010.0  \n",
       "YearRemodAdd     1993.0    2004.0    2010.0  \n",
       "MasVnrArea          0.0     162.0    1600.0  \n",
       "BsmtFinSF1        381.0     705.5    5644.0  \n",
       "BsmtFinSF2          0.0       0.0    1474.0  \n",
       "BsmtUnfSF         476.0     808.0    2336.0  \n",
       "TotalBsmtSF       990.0    1285.0    6110.0  \n",
       "1stFlrSF         1085.0    1382.5    4692.0  \n",
       "2ndFlrSF            0.0     728.0    1818.0  \n",
       "LowQualFinSF        0.0       0.0     572.0  \n",
       "GrLivArea        1456.0    1769.5    5642.0  \n",
       "BsmtFullBath        0.0       1.0       3.0  \n",
       "BsmtHalfBath        0.0       0.0       2.0  \n",
       "FullBath            2.0       2.0       3.0  \n",
       "HalfBath            0.0       1.0       2.0  \n",
       "BedroomAbvGr        3.0       3.0       8.0  \n",
       "KitchenAbvGr        1.0       1.0       3.0  \n",
       "TotRmsAbvGrd        6.0       7.0      14.0  \n",
       "Fireplaces          1.0       1.0       3.0  \n",
       "GarageYrBlt      1979.0    2002.0    2010.0  \n",
       "GarageCars          2.0       2.0       4.0  \n",
       "GarageArea        478.0     576.0    1418.0  \n",
       "WoodDeckSF          0.0     168.0     857.0  \n",
       "OpenPorchSF        24.0      68.0     547.0  \n",
       "EnclosedPorch       0.0       0.0     552.0  \n",
       "3SsnPorch           0.0       0.0     508.0  \n",
       "ScreenPorch         0.0       0.0     480.0  \n",
       "PoolArea            0.0       0.0     738.0  \n",
       "MiscVal             0.0       0.0   15500.0  \n",
       "MoSold              6.0       8.0      12.0  \n",
       "YrSold           2008.0    2009.0    2010.0  \n",
       "SalePrice      162500.0  213000.0  485000.0  "
      ]
     },
     "execution_count": 121,
     "metadata": {},
     "output_type": "execute_result"
    }
   ],
   "source": [
    "Train_set_num_EDA.describe().T"
   ]
  },
  {
   "cell_type": "markdown",
   "metadata": {},
   "source": [
    "We can see that we have some missing values for some features, we will try to impute with the median value."
   ]
  },
  {
   "cell_type": "code",
   "execution_count": 122,
   "metadata": {},
   "outputs": [],
   "source": [
    "from sklearn.impute import SimpleImputer\n",
    "\n",
    "imput_num = SimpleImputer(strategy='median')\n",
    "\n",
    "Train_set_num_impute = imput_num.fit_transform(Train_set_num_EDA)\n",
    "Train_set_num_full = pd.DataFrame(Train_set_num_impute,columns=Train_set_num_EDA.columns)"
   ]
  },
  {
   "cell_type": "code",
   "execution_count": 123,
   "metadata": {},
   "outputs": [
    {
     "data": {
      "text/html": [
       "<div>\n",
       "<style scoped>\n",
       "    .dataframe tbody tr th:only-of-type {\n",
       "        vertical-align: middle;\n",
       "    }\n",
       "\n",
       "    .dataframe tbody tr th {\n",
       "        vertical-align: top;\n",
       "    }\n",
       "\n",
       "    .dataframe thead th {\n",
       "        text-align: right;\n",
       "    }\n",
       "</style>\n",
       "<table border=\"1\" class=\"dataframe\">\n",
       "  <thead>\n",
       "    <tr style=\"text-align: right;\">\n",
       "      <th></th>\n",
       "      <th>count</th>\n",
       "    </tr>\n",
       "  </thead>\n",
       "  <tbody>\n",
       "    <tr>\n",
       "      <th>MSSubClass</th>\n",
       "      <td>1451.0</td>\n",
       "    </tr>\n",
       "    <tr>\n",
       "      <th>LotFrontage</th>\n",
       "      <td>1451.0</td>\n",
       "    </tr>\n",
       "    <tr>\n",
       "      <th>LotArea</th>\n",
       "      <td>1451.0</td>\n",
       "    </tr>\n",
       "    <tr>\n",
       "      <th>OverallQual</th>\n",
       "      <td>1451.0</td>\n",
       "    </tr>\n",
       "    <tr>\n",
       "      <th>OverallCond</th>\n",
       "      <td>1451.0</td>\n",
       "    </tr>\n",
       "    <tr>\n",
       "      <th>YearBuilt</th>\n",
       "      <td>1451.0</td>\n",
       "    </tr>\n",
       "    <tr>\n",
       "      <th>YearRemodAdd</th>\n",
       "      <td>1451.0</td>\n",
       "    </tr>\n",
       "    <tr>\n",
       "      <th>MasVnrArea</th>\n",
       "      <td>1451.0</td>\n",
       "    </tr>\n",
       "    <tr>\n",
       "      <th>BsmtFinSF1</th>\n",
       "      <td>1451.0</td>\n",
       "    </tr>\n",
       "    <tr>\n",
       "      <th>BsmtFinSF2</th>\n",
       "      <td>1451.0</td>\n",
       "    </tr>\n",
       "    <tr>\n",
       "      <th>BsmtUnfSF</th>\n",
       "      <td>1451.0</td>\n",
       "    </tr>\n",
       "    <tr>\n",
       "      <th>TotalBsmtSF</th>\n",
       "      <td>1451.0</td>\n",
       "    </tr>\n",
       "    <tr>\n",
       "      <th>1stFlrSF</th>\n",
       "      <td>1451.0</td>\n",
       "    </tr>\n",
       "    <tr>\n",
       "      <th>2ndFlrSF</th>\n",
       "      <td>1451.0</td>\n",
       "    </tr>\n",
       "    <tr>\n",
       "      <th>LowQualFinSF</th>\n",
       "      <td>1451.0</td>\n",
       "    </tr>\n",
       "    <tr>\n",
       "      <th>GrLivArea</th>\n",
       "      <td>1451.0</td>\n",
       "    </tr>\n",
       "    <tr>\n",
       "      <th>BsmtFullBath</th>\n",
       "      <td>1451.0</td>\n",
       "    </tr>\n",
       "    <tr>\n",
       "      <th>BsmtHalfBath</th>\n",
       "      <td>1451.0</td>\n",
       "    </tr>\n",
       "    <tr>\n",
       "      <th>FullBath</th>\n",
       "      <td>1451.0</td>\n",
       "    </tr>\n",
       "    <tr>\n",
       "      <th>HalfBath</th>\n",
       "      <td>1451.0</td>\n",
       "    </tr>\n",
       "    <tr>\n",
       "      <th>BedroomAbvGr</th>\n",
       "      <td>1451.0</td>\n",
       "    </tr>\n",
       "    <tr>\n",
       "      <th>KitchenAbvGr</th>\n",
       "      <td>1451.0</td>\n",
       "    </tr>\n",
       "    <tr>\n",
       "      <th>TotRmsAbvGrd</th>\n",
       "      <td>1451.0</td>\n",
       "    </tr>\n",
       "    <tr>\n",
       "      <th>Fireplaces</th>\n",
       "      <td>1451.0</td>\n",
       "    </tr>\n",
       "    <tr>\n",
       "      <th>GarageYrBlt</th>\n",
       "      <td>1451.0</td>\n",
       "    </tr>\n",
       "    <tr>\n",
       "      <th>GarageCars</th>\n",
       "      <td>1451.0</td>\n",
       "    </tr>\n",
       "    <tr>\n",
       "      <th>GarageArea</th>\n",
       "      <td>1451.0</td>\n",
       "    </tr>\n",
       "    <tr>\n",
       "      <th>WoodDeckSF</th>\n",
       "      <td>1451.0</td>\n",
       "    </tr>\n",
       "    <tr>\n",
       "      <th>OpenPorchSF</th>\n",
       "      <td>1451.0</td>\n",
       "    </tr>\n",
       "    <tr>\n",
       "      <th>EnclosedPorch</th>\n",
       "      <td>1451.0</td>\n",
       "    </tr>\n",
       "    <tr>\n",
       "      <th>3SsnPorch</th>\n",
       "      <td>1451.0</td>\n",
       "    </tr>\n",
       "    <tr>\n",
       "      <th>ScreenPorch</th>\n",
       "      <td>1451.0</td>\n",
       "    </tr>\n",
       "    <tr>\n",
       "      <th>PoolArea</th>\n",
       "      <td>1451.0</td>\n",
       "    </tr>\n",
       "    <tr>\n",
       "      <th>MiscVal</th>\n",
       "      <td>1451.0</td>\n",
       "    </tr>\n",
       "    <tr>\n",
       "      <th>MoSold</th>\n",
       "      <td>1451.0</td>\n",
       "    </tr>\n",
       "    <tr>\n",
       "      <th>YrSold</th>\n",
       "      <td>1451.0</td>\n",
       "    </tr>\n",
       "    <tr>\n",
       "      <th>SalePrice</th>\n",
       "      <td>1451.0</td>\n",
       "    </tr>\n",
       "  </tbody>\n",
       "</table>\n",
       "</div>"
      ],
      "text/plain": [
       "                count\n",
       "MSSubClass     1451.0\n",
       "LotFrontage    1451.0\n",
       "LotArea        1451.0\n",
       "OverallQual    1451.0\n",
       "OverallCond    1451.0\n",
       "YearBuilt      1451.0\n",
       "YearRemodAdd   1451.0\n",
       "MasVnrArea     1451.0\n",
       "BsmtFinSF1     1451.0\n",
       "BsmtFinSF2     1451.0\n",
       "BsmtUnfSF      1451.0\n",
       "TotalBsmtSF    1451.0\n",
       "1stFlrSF       1451.0\n",
       "2ndFlrSF       1451.0\n",
       "LowQualFinSF   1451.0\n",
       "GrLivArea      1451.0\n",
       "BsmtFullBath   1451.0\n",
       "BsmtHalfBath   1451.0\n",
       "FullBath       1451.0\n",
       "HalfBath       1451.0\n",
       "BedroomAbvGr   1451.0\n",
       "KitchenAbvGr   1451.0\n",
       "TotRmsAbvGrd   1451.0\n",
       "Fireplaces     1451.0\n",
       "GarageYrBlt    1451.0\n",
       "GarageCars     1451.0\n",
       "GarageArea     1451.0\n",
       "WoodDeckSF     1451.0\n",
       "OpenPorchSF    1451.0\n",
       "EnclosedPorch  1451.0\n",
       "3SsnPorch      1451.0\n",
       "ScreenPorch    1451.0\n",
       "PoolArea       1451.0\n",
       "MiscVal        1451.0\n",
       "MoSold         1451.0\n",
       "YrSold         1451.0\n",
       "SalePrice      1451.0"
      ]
     },
     "execution_count": 123,
     "metadata": {},
     "output_type": "execute_result"
    }
   ],
   "source": [
    "Train_set_num_full.describe()[:1].T"
   ]
  },
  {
   "cell_type": "markdown",
   "metadata": {},
   "source": [
    "We can now start our analysis."
   ]
  },
  {
   "cell_type": "markdown",
   "metadata": {},
   "source": [
    "## Make the EDA on numerical features"
   ]
  },
  {
   "cell_type": "code",
   "execution_count": 124,
   "metadata": {},
   "outputs": [
    {
     "data": {
      "text/plain": [
       "<matplotlib.axes._subplots.AxesSubplot at 0x1f20312bc08>"
      ]
     },
     "execution_count": 124,
     "metadata": {},
     "output_type": "execute_result"
    },
    {
     "data": {
      "image/png": "[encoded data removed]",
      "text/plain": [
       "<Figure size 1152x648 with 2 Axes>"
      ]
     },
     "metadata": {
      "needs_background": "light"
     },
     "output_type": "display_data"
    }
   ],
   "source": [
    "plt.figure(figsize=(16,9))\n",
    "sns.heatmap(Train_set_num_full.corr(),annot=False,cmap='RdBu')"
   ]
  },
  {
   "cell_type": "code",
   "execution_count": 125,
   "metadata": {
    "scrolled": true
   },
   "outputs": [
    {
     "data": {
      "text/plain": [
       "SalePrice        1.000000\n",
       "OverallQual      0.802424\n",
       "GrLivArea        0.686872\n",
       "GarageCars       0.654418\n",
       "GarageArea       0.633607\n",
       "TotalBsmtSF      0.596771\n",
       "1stFlrSF         0.589676\n",
       "FullBath         0.553014\n",
       "YearBuilt        0.543898\n",
       "YearRemodAdd     0.531708\n",
       "TotRmsAbvGrd     0.510964\n",
       "GarageYrBlt      0.485149\n",
       "Fireplaces       0.469693\n",
       "MasVnrArea       0.436515\n",
       "BsmtFinSF1       0.357076\n",
       "OpenPorchSF      0.332686\n",
       "WoodDeckSF       0.331999\n",
       "LotFrontage      0.318744\n",
       "2ndFlrSF         0.292447\n",
       "HalfBath         0.284007\n",
       "LotArea          0.252156\n",
       "BsmtFullBath     0.236628\n",
       "BsmtUnfSF        0.223991\n",
       "BedroomAbvGr     0.166543\n",
       "ScreenPorch      0.097277\n",
       "MoSold           0.074689\n",
       "3SsnPorch        0.053722\n",
       "PoolArea         0.032260\n",
       "BsmtFinSF2      -0.014028\n",
       "MiscVal         -0.020247\n",
       "LowQualFinSF    -0.023940\n",
       "BsmtHalfBath    -0.033044\n",
       "YrSold          -0.036607\n",
       "OverallCond     -0.072195\n",
       "MSSubClass      -0.085954\n",
       "EnclosedPorch   -0.129293\n",
       "KitchenAbvGr    -0.142852\n",
       "Name: SalePrice, dtype: float64"
      ]
     },
     "execution_count": 125,
     "metadata": {},
     "output_type": "execute_result"
    }
   ],
   "source": [
    "Train_set_num_full.corr()['SalePrice'].sort_values(ascending=False)"
   ]
  },
  {
   "cell_type": "markdown",
   "metadata": {},
   "source": [
    "Thanks to this correlation, we can build a list with important features and see some regression figure. "
   ]
  },
  {
   "cell_type": "code",
   "execution_count": 130,
   "metadata": {},
   "outputs": [],
   "source": [
    "Lst_Very_Important = ['OverallQual','GrLivArea','GarageCars','GarageArea','TotalBsmtSF','FullBath','TotRmsAbvGrd','SalePrice']"
   ]
  },
  {
   "cell_type": "code",
   "execution_count": 131,
   "metadata": {
    "scrolled": false
   },
   "outputs": [
    {
     "data": {
      "image/png": "[encoded data removed]",
      "text/plain": [
       "<Figure size 432x288 with 1 Axes>"
      ]
     },
     "metadata": {
      "needs_background": "light"
     },
     "output_type": "display_data"
    },
    {
     "data": {
      "image/png": "[encoded data removed]",
      "text/plain": [
       "<Figure size 432x288 with 1 Axes>"
      ]
     },
     "metadata": {
      "needs_background": "light"
     },
     "output_type": "display_data"
    },
    {
     "data": {
      "image/png": "[encoded data removed]",
      "text/plain": [
       "<Figure size 432x288 with 1 Axes>"
      ]
     },
     "metadata": {
      "needs_background": "light"
     },
     "output_type": "display_data"
    },
    {
     "data": {
      "image/png": "[encoded data removed]",
      "text/plain": [
       "<Figure size 432x288 with 1 Axes>"
      ]
     },
     "metadata": {
      "needs_background": "light"
     },
     "output_type": "display_data"
    },
    {
     "data": {
      "image/png": "[encoded data removed]",
      "text/plain": [
       "<Figure size 432x288 with 1 Axes>"
      ]
     },
     "metadata": {
      "needs_background": "light"
     },
     "output_type": "display_data"
    },
    {
     "data": {
      "image/png": "[encoded data removed]",
      "text/plain": [
       "<Figure size 432x288 with 1 Axes>"
      ]
     },
     "metadata": {
      "needs_background": "light"
     },
     "output_type": "display_data"
    },
    {
     "data": {
      "image/png": "[encoded data removed]",
      "text/plain": [
       "<Figure size 432x288 with 1 Axes>"
      ]
     },
     "metadata": {
      "needs_background": "light"
     },
     "output_type": "display_data"
    },
    {
     "data": {
      "image/png": "[encoded data removed]",
      "text/plain": [
       "<Figure size 432x288 with 1 Axes>"
      ]
     },
     "metadata": {
      "needs_background": "light"
     },
     "output_type": "display_data"
    }
   ],
   "source": [
    "for elt in Lst_Very_Important:\n",
    "    plt.figure()\n",
    "    sns.regplot(Train_set_num_full[elt],Train_set_num_full.SalePrice)"
   ]
  },
  {
   "cell_type": "markdown",
   "metadata": {},
   "source": [
    "With this figures, we can see some outliers and we have to check them: \n",
    "- OverallQual : We have values that is less than 150,000 , even with good rate.\n",
    "- GrLivArea : We have some values that is less than 200,000 even with huge area (more than 4000 square feet (SF) )\n",
    "- GarageCars : Even with a car capacity arround 4, the price is not very expensive\n",
    "- GarageArea : Like GarageCars, even we have a lot of area for the garage (more than 1200) the price is not so expensive\n",
    "- TotalBsmtSF: We have one outlier, a basement with more than 6000 SF and sold less than 200,000 \n",
    "- TotRmsAbvGrd: We have one outlier with 14 rooms above ground, but sold less than 200,000"
   ]
  },
  {
   "cell_type": "markdown",
   "metadata": {},
   "source": [
    "### OverallQual \n"
   ]
  },
  {
   "cell_type": "code",
   "execution_count": 141,
   "metadata": {},
   "outputs": [
    {
     "data": {
      "text/html": [
       "<div>\n",
       "<style scoped>\n",
       "    .dataframe tbody tr th:only-of-type {\n",
       "        vertical-align: middle;\n",
       "    }\n",
       "\n",
       "    .dataframe tbody tr th {\n",
       "        vertical-align: top;\n",
       "    }\n",
       "\n",
       "    .dataframe thead th {\n",
       "        text-align: right;\n",
       "    }\n",
       "</style>\n",
       "<table border=\"1\" class=\"dataframe\">\n",
       "  <thead>\n",
       "    <tr style=\"text-align: right;\">\n",
       "      <th></th>\n",
       "      <th>MSSubClass</th>\n",
       "      <th>LotFrontage</th>\n",
       "      <th>LotArea</th>\n",
       "      <th>OverallQual</th>\n",
       "      <th>OverallCond</th>\n",
       "      <th>YearBuilt</th>\n",
       "      <th>YearRemodAdd</th>\n",
       "      <th>MasVnrArea</th>\n",
       "      <th>BsmtFinSF1</th>\n",
       "      <th>BsmtFinSF2</th>\n",
       "      <th>...</th>\n",
       "      <th>WoodDeckSF</th>\n",
       "      <th>OpenPorchSF</th>\n",
       "      <th>EnclosedPorch</th>\n",
       "      <th>3SsnPorch</th>\n",
       "      <th>ScreenPorch</th>\n",
       "      <th>PoolArea</th>\n",
       "      <th>MiscVal</th>\n",
       "      <th>MoSold</th>\n",
       "      <th>YrSold</th>\n",
       "      <th>SalePrice</th>\n",
       "    </tr>\n",
       "  </thead>\n",
       "  <tbody>\n",
       "    <tr>\n",
       "      <th>1289</th>\n",
       "      <td>60.0</td>\n",
       "      <td>313.0</td>\n",
       "      <td>63887.0</td>\n",
       "      <td>10.0</td>\n",
       "      <td>5.0</td>\n",
       "      <td>2008.0</td>\n",
       "      <td>2008.0</td>\n",
       "      <td>796.0</td>\n",
       "      <td>5644.0</td>\n",
       "      <td>0.0</td>\n",
       "      <td>...</td>\n",
       "      <td>214.0</td>\n",
       "      <td>292.0</td>\n",
       "      <td>0.0</td>\n",
       "      <td>0.0</td>\n",
       "      <td>0.0</td>\n",
       "      <td>480.0</td>\n",
       "      <td>0.0</td>\n",
       "      <td>1.0</td>\n",
       "      <td>2008.0</td>\n",
       "      <td>160000.0</td>\n",
       "    </tr>\n",
       "    <tr>\n",
       "      <th>521</th>\n",
       "      <td>60.0</td>\n",
       "      <td>130.0</td>\n",
       "      <td>40094.0</td>\n",
       "      <td>10.0</td>\n",
       "      <td>5.0</td>\n",
       "      <td>2007.0</td>\n",
       "      <td>2008.0</td>\n",
       "      <td>762.0</td>\n",
       "      <td>2260.0</td>\n",
       "      <td>0.0</td>\n",
       "      <td>...</td>\n",
       "      <td>208.0</td>\n",
       "      <td>406.0</td>\n",
       "      <td>0.0</td>\n",
       "      <td>0.0</td>\n",
       "      <td>0.0</td>\n",
       "      <td>0.0</td>\n",
       "      <td>0.0</td>\n",
       "      <td>10.0</td>\n",
       "      <td>2007.0</td>\n",
       "      <td>184750.0</td>\n",
       "    </tr>\n",
       "    <tr>\n",
       "      <th>1433</th>\n",
       "      <td>60.0</td>\n",
       "      <td>85.0</td>\n",
       "      <td>11003.0</td>\n",
       "      <td>10.0</td>\n",
       "      <td>5.0</td>\n",
       "      <td>2008.0</td>\n",
       "      <td>2008.0</td>\n",
       "      <td>160.0</td>\n",
       "      <td>765.0</td>\n",
       "      <td>0.0</td>\n",
       "      <td>...</td>\n",
       "      <td>168.0</td>\n",
       "      <td>52.0</td>\n",
       "      <td>0.0</td>\n",
       "      <td>0.0</td>\n",
       "      <td>0.0</td>\n",
       "      <td>0.0</td>\n",
       "      <td>0.0</td>\n",
       "      <td>4.0</td>\n",
       "      <td>2009.0</td>\n",
       "      <td>310000.0</td>\n",
       "    </tr>\n",
       "    <tr>\n",
       "      <th>581</th>\n",
       "      <td>75.0</td>\n",
       "      <td>75.0</td>\n",
       "      <td>13500.0</td>\n",
       "      <td>10.0</td>\n",
       "      <td>9.0</td>\n",
       "      <td>1893.0</td>\n",
       "      <td>2000.0</td>\n",
       "      <td>0.0</td>\n",
       "      <td>0.0</td>\n",
       "      <td>0.0</td>\n",
       "      <td>...</td>\n",
       "      <td>105.0</td>\n",
       "      <td>502.0</td>\n",
       "      <td>0.0</td>\n",
       "      <td>0.0</td>\n",
       "      <td>0.0</td>\n",
       "      <td>0.0</td>\n",
       "      <td>0.0</td>\n",
       "      <td>7.0</td>\n",
       "      <td>2008.0</td>\n",
       "      <td>325000.0</td>\n",
       "    </tr>\n",
       "    <tr>\n",
       "      <th>988</th>\n",
       "      <td>20.0</td>\n",
       "      <td>96.0</td>\n",
       "      <td>12456.0</td>\n",
       "      <td>10.0</td>\n",
       "      <td>5.0</td>\n",
       "      <td>2006.0</td>\n",
       "      <td>2007.0</td>\n",
       "      <td>230.0</td>\n",
       "      <td>1172.0</td>\n",
       "      <td>0.0</td>\n",
       "      <td>...</td>\n",
       "      <td>216.0</td>\n",
       "      <td>48.0</td>\n",
       "      <td>0.0</td>\n",
       "      <td>0.0</td>\n",
       "      <td>0.0</td>\n",
       "      <td>0.0</td>\n",
       "      <td>0.0</td>\n",
       "      <td>7.0</td>\n",
       "      <td>2009.0</td>\n",
       "      <td>337500.0</td>\n",
       "    </tr>\n",
       "    <tr>\n",
       "      <th>820</th>\n",
       "      <td>20.0</td>\n",
       "      <td>114.0</td>\n",
       "      <td>14803.0</td>\n",
       "      <td>10.0</td>\n",
       "      <td>5.0</td>\n",
       "      <td>2007.0</td>\n",
       "      <td>2008.0</td>\n",
       "      <td>816.0</td>\n",
       "      <td>1636.0</td>\n",
       "      <td>0.0</td>\n",
       "      <td>...</td>\n",
       "      <td>188.0</td>\n",
       "      <td>45.0</td>\n",
       "      <td>0.0</td>\n",
       "      <td>0.0</td>\n",
       "      <td>0.0</td>\n",
       "      <td>0.0</td>\n",
       "      <td>0.0</td>\n",
       "      <td>6.0</td>\n",
       "      <td>2008.0</td>\n",
       "      <td>385000.0</td>\n",
       "    </tr>\n",
       "    <tr>\n",
       "      <th>223</th>\n",
       "      <td>20.0</td>\n",
       "      <td>103.0</td>\n",
       "      <td>13472.0</td>\n",
       "      <td>10.0</td>\n",
       "      <td>5.0</td>\n",
       "      <td>2003.0</td>\n",
       "      <td>2003.0</td>\n",
       "      <td>922.0</td>\n",
       "      <td>56.0</td>\n",
       "      <td>0.0</td>\n",
       "      <td>...</td>\n",
       "      <td>248.0</td>\n",
       "      <td>105.0</td>\n",
       "      <td>0.0</td>\n",
       "      <td>0.0</td>\n",
       "      <td>0.0</td>\n",
       "      <td>0.0</td>\n",
       "      <td>0.0</td>\n",
       "      <td>6.0</td>\n",
       "      <td>2009.0</td>\n",
       "      <td>386250.0</td>\n",
       "    </tr>\n",
       "    <tr>\n",
       "      <th>513</th>\n",
       "      <td>20.0</td>\n",
       "      <td>94.0</td>\n",
       "      <td>12220.0</td>\n",
       "      <td>10.0</td>\n",
       "      <td>5.0</td>\n",
       "      <td>2009.0</td>\n",
       "      <td>2009.0</td>\n",
       "      <td>305.0</td>\n",
       "      <td>1436.0</td>\n",
       "      <td>0.0</td>\n",
       "      <td>...</td>\n",
       "      <td>156.0</td>\n",
       "      <td>54.0</td>\n",
       "      <td>0.0</td>\n",
       "      <td>0.0</td>\n",
       "      <td>0.0</td>\n",
       "      <td>0.0</td>\n",
       "      <td>0.0</td>\n",
       "      <td>9.0</td>\n",
       "      <td>2009.0</td>\n",
       "      <td>402861.0</td>\n",
       "    </tr>\n",
       "    <tr>\n",
       "      <th>388</th>\n",
       "      <td>60.0</td>\n",
       "      <td>96.0</td>\n",
       "      <td>12474.0</td>\n",
       "      <td>10.0</td>\n",
       "      <td>5.0</td>\n",
       "      <td>2007.0</td>\n",
       "      <td>2008.0</td>\n",
       "      <td>272.0</td>\n",
       "      <td>1280.0</td>\n",
       "      <td>0.0</td>\n",
       "      <td>...</td>\n",
       "      <td>196.0</td>\n",
       "      <td>134.0</td>\n",
       "      <td>0.0</td>\n",
       "      <td>0.0</td>\n",
       "      <td>0.0</td>\n",
       "      <td>0.0</td>\n",
       "      <td>0.0</td>\n",
       "      <td>8.0</td>\n",
       "      <td>2008.0</td>\n",
       "      <td>426000.0</td>\n",
       "    </tr>\n",
       "    <tr>\n",
       "      <th>58</th>\n",
       "      <td>60.0</td>\n",
       "      <td>66.0</td>\n",
       "      <td>13682.0</td>\n",
       "      <td>10.0</td>\n",
       "      <td>5.0</td>\n",
       "      <td>2006.0</td>\n",
       "      <td>2006.0</td>\n",
       "      <td>1031.0</td>\n",
       "      <td>0.0</td>\n",
       "      <td>0.0</td>\n",
       "      <td>...</td>\n",
       "      <td>192.0</td>\n",
       "      <td>0.0</td>\n",
       "      <td>37.0</td>\n",
       "      <td>0.0</td>\n",
       "      <td>0.0</td>\n",
       "      <td>0.0</td>\n",
       "      <td>0.0</td>\n",
       "      <td>10.0</td>\n",
       "      <td>2006.0</td>\n",
       "      <td>438780.0</td>\n",
       "    </tr>\n",
       "    <tr>\n",
       "      <th>589</th>\n",
       "      <td>60.0</td>\n",
       "      <td>97.0</td>\n",
       "      <td>13478.0</td>\n",
       "      <td>10.0</td>\n",
       "      <td>5.0</td>\n",
       "      <td>2008.0</td>\n",
       "      <td>2008.0</td>\n",
       "      <td>420.0</td>\n",
       "      <td>1338.0</td>\n",
       "      <td>0.0</td>\n",
       "      <td>...</td>\n",
       "      <td>382.0</td>\n",
       "      <td>274.0</td>\n",
       "      <td>0.0</td>\n",
       "      <td>0.0</td>\n",
       "      <td>0.0</td>\n",
       "      <td>0.0</td>\n",
       "      <td>0.0</td>\n",
       "      <td>6.0</td>\n",
       "      <td>2009.0</td>\n",
       "      <td>451950.0</td>\n",
       "    </tr>\n",
       "    <tr>\n",
       "      <th>1234</th>\n",
       "      <td>20.0</td>\n",
       "      <td>107.0</td>\n",
       "      <td>13891.0</td>\n",
       "      <td>10.0</td>\n",
       "      <td>5.0</td>\n",
       "      <td>2006.0</td>\n",
       "      <td>2006.0</td>\n",
       "      <td>0.0</td>\n",
       "      <td>1386.0</td>\n",
       "      <td>0.0</td>\n",
       "      <td>...</td>\n",
       "      <td>216.0</td>\n",
       "      <td>229.0</td>\n",
       "      <td>0.0</td>\n",
       "      <td>0.0</td>\n",
       "      <td>0.0</td>\n",
       "      <td>0.0</td>\n",
       "      <td>0.0</td>\n",
       "      <td>9.0</td>\n",
       "      <td>2006.0</td>\n",
       "      <td>465000.0</td>\n",
       "    </tr>\n",
       "    <tr>\n",
       "      <th>1364</th>\n",
       "      <td>20.0</td>\n",
       "      <td>69.0</td>\n",
       "      <td>11400.0</td>\n",
       "      <td>10.0</td>\n",
       "      <td>5.0</td>\n",
       "      <td>2001.0</td>\n",
       "      <td>2002.0</td>\n",
       "      <td>705.0</td>\n",
       "      <td>1282.0</td>\n",
       "      <td>0.0</td>\n",
       "      <td>...</td>\n",
       "      <td>314.0</td>\n",
       "      <td>140.0</td>\n",
       "      <td>0.0</td>\n",
       "      <td>0.0</td>\n",
       "      <td>0.0</td>\n",
       "      <td>0.0</td>\n",
       "      <td>0.0</td>\n",
       "      <td>3.0</td>\n",
       "      <td>2007.0</td>\n",
       "      <td>466500.0</td>\n",
       "    </tr>\n",
       "    <tr>\n",
       "      <th>184</th>\n",
       "      <td>75.0</td>\n",
       "      <td>90.0</td>\n",
       "      <td>22950.0</td>\n",
       "      <td>10.0</td>\n",
       "      <td>9.0</td>\n",
       "      <td>1892.0</td>\n",
       "      <td>1993.0</td>\n",
       "      <td>0.0</td>\n",
       "      <td>0.0</td>\n",
       "      <td>0.0</td>\n",
       "      <td>...</td>\n",
       "      <td>0.0</td>\n",
       "      <td>260.0</td>\n",
       "      <td>0.0</td>\n",
       "      <td>0.0</td>\n",
       "      <td>410.0</td>\n",
       "      <td>0.0</td>\n",
       "      <td>0.0</td>\n",
       "      <td>6.0</td>\n",
       "      <td>2006.0</td>\n",
       "      <td>475000.0</td>\n",
       "    </tr>\n",
       "  </tbody>\n",
       "</table>\n",
       "<p>14 rows × 37 columns</p>\n",
       "</div>"
      ],
      "text/plain": [
       "      MSSubClass  LotFrontage  LotArea  OverallQual  OverallCond  YearBuilt  \\\n",
       "1289        60.0        313.0  63887.0         10.0          5.0     2008.0   \n",
       "521         60.0        130.0  40094.0         10.0          5.0     2007.0   \n",
       "1433        60.0         85.0  11003.0         10.0          5.0     2008.0   \n",
       "581         75.0         75.0  13500.0         10.0          9.0     1893.0   \n",
       "988         20.0         96.0  12456.0         10.0          5.0     2006.0   \n",
       "820         20.0        114.0  14803.0         10.0          5.0     2007.0   \n",
       "223         20.0        103.0  13472.0         10.0          5.0     2003.0   \n",
       "513         20.0         94.0  12220.0         10.0          5.0     2009.0   \n",
       "388         60.0         96.0  12474.0         10.0          5.0     2007.0   \n",
       "58          60.0         66.0  13682.0         10.0          5.0     2006.0   \n",
       "589         60.0         97.0  13478.0         10.0          5.0     2008.0   \n",
       "1234        20.0        107.0  13891.0         10.0          5.0     2006.0   \n",
       "1364        20.0         69.0  11400.0         10.0          5.0     2001.0   \n",
       "184         75.0         90.0  22950.0         10.0          9.0     1892.0   \n",
       "\n",
       "      YearRemodAdd  MasVnrArea  BsmtFinSF1  BsmtFinSF2  ...  WoodDeckSF  \\\n",
       "1289        2008.0       796.0      5644.0         0.0  ...       214.0   \n",
       "521         2008.0       762.0      2260.0         0.0  ...       208.0   \n",
       "1433        2008.0       160.0       765.0         0.0  ...       168.0   \n",
       "581         2000.0         0.0         0.0         0.0  ...       105.0   \n",
       "988         2007.0       230.0      1172.0         0.0  ...       216.0   \n",
       "820         2008.0       816.0      1636.0         0.0  ...       188.0   \n",
       "223         2003.0       922.0        56.0         0.0  ...       248.0   \n",
       "513         2009.0       305.0      1436.0         0.0  ...       156.0   \n",
       "388         2008.0       272.0      1280.0         0.0  ...       196.0   \n",
       "58          2006.0      1031.0         0.0         0.0  ...       192.0   \n",
       "589         2008.0       420.0      1338.0         0.0  ...       382.0   \n",
       "1234        2006.0         0.0      1386.0         0.0  ...       216.0   \n",
       "1364        2002.0       705.0      1282.0         0.0  ...       314.0   \n",
       "184         1993.0         0.0         0.0         0.0  ...         0.0   \n",
       "\n",
       "      OpenPorchSF  EnclosedPorch  3SsnPorch  ScreenPorch  PoolArea  MiscVal  \\\n",
       "1289        292.0            0.0        0.0          0.0     480.0      0.0   \n",
       "521         406.0            0.0        0.0          0.0       0.0      0.0   \n",
       "1433         52.0            0.0        0.0          0.0       0.0      0.0   \n",
       "581         502.0            0.0        0.0          0.0       0.0      0.0   \n",
       "988          48.0            0.0        0.0          0.0       0.0      0.0   \n",
       "820          45.0            0.0        0.0          0.0       0.0      0.0   \n",
       "223         105.0            0.0        0.0          0.0       0.0      0.0   \n",
       "513          54.0            0.0        0.0          0.0       0.0      0.0   \n",
       "388         134.0            0.0        0.0          0.0       0.0      0.0   \n",
       "58            0.0           37.0        0.0          0.0       0.0      0.0   \n",
       "589         274.0            0.0        0.0          0.0       0.0      0.0   \n",
       "1234        229.0            0.0        0.0          0.0       0.0      0.0   \n",
       "1364        140.0            0.0        0.0          0.0       0.0      0.0   \n",
       "184         260.0            0.0        0.0        410.0       0.0      0.0   \n",
       "\n",
       "      MoSold  YrSold  SalePrice  \n",
       "1289     1.0  2008.0   160000.0  \n",
       "521     10.0  2007.0   184750.0  \n",
       "1433     4.0  2009.0   310000.0  \n",
       "581      7.0  2008.0   325000.0  \n",
       "988      7.0  2009.0   337500.0  \n",
       "820      6.0  2008.0   385000.0  \n",
       "223      6.0  2009.0   386250.0  \n",
       "513      9.0  2009.0   402861.0  \n",
       "388      8.0  2008.0   426000.0  \n",
       "58      10.0  2006.0   438780.0  \n",
       "589      6.0  2009.0   451950.0  \n",
       "1234     9.0  2006.0   465000.0  \n",
       "1364     3.0  2007.0   466500.0  \n",
       "184      6.0  2006.0   475000.0  \n",
       "\n",
       "[14 rows x 37 columns]"
      ]
     },
     "execution_count": 141,
     "metadata": {},
     "output_type": "execute_result"
    }
   ],
   "source": [
    "Train_set_num_full[Train_set_num_full.OverallQual ==10].sort_values(by='SalePrice')"
   ]
  },
  {
   "cell_type": "markdown",
   "metadata": {},
   "source": [
    "### GrLivArea"
   ]
  },
  {
   "cell_type": "code",
   "execution_count": 179,
   "metadata": {},
   "outputs": [
    {
     "data": {
      "text/html": [
       "<div>\n",
       "<style scoped>\n",
       "    .dataframe tbody tr th:only-of-type {\n",
       "        vertical-align: middle;\n",
       "    }\n",
       "\n",
       "    .dataframe tbody tr th {\n",
       "        vertical-align: top;\n",
       "    }\n",
       "\n",
       "    .dataframe thead th {\n",
       "        text-align: right;\n",
       "    }\n",
       "</style>\n",
       "<table border=\"1\" class=\"dataframe\">\n",
       "  <thead>\n",
       "    <tr style=\"text-align: right;\">\n",
       "      <th></th>\n",
       "      <th>MSSubClass</th>\n",
       "      <th>LotFrontage</th>\n",
       "      <th>LotArea</th>\n",
       "      <th>OverallQual</th>\n",
       "      <th>OverallCond</th>\n",
       "      <th>YearBuilt</th>\n",
       "      <th>YearRemodAdd</th>\n",
       "      <th>MasVnrArea</th>\n",
       "      <th>BsmtFinSF1</th>\n",
       "      <th>BsmtFinSF2</th>\n",
       "      <th>...</th>\n",
       "      <th>WoodDeckSF</th>\n",
       "      <th>OpenPorchSF</th>\n",
       "      <th>EnclosedPorch</th>\n",
       "      <th>3SsnPorch</th>\n",
       "      <th>ScreenPorch</th>\n",
       "      <th>PoolArea</th>\n",
       "      <th>MiscVal</th>\n",
       "      <th>MoSold</th>\n",
       "      <th>YrSold</th>\n",
       "      <th>SalePrice</th>\n",
       "    </tr>\n",
       "  </thead>\n",
       "  <tbody>\n",
       "    <tr>\n",
       "      <th>1289</th>\n",
       "      <td>60.0</td>\n",
       "      <td>313.0</td>\n",
       "      <td>63887.0</td>\n",
       "      <td>10.0</td>\n",
       "      <td>5.0</td>\n",
       "      <td>2008.0</td>\n",
       "      <td>2008.0</td>\n",
       "      <td>796.0</td>\n",
       "      <td>5644.0</td>\n",
       "      <td>0.0</td>\n",
       "      <td>...</td>\n",
       "      <td>214.0</td>\n",
       "      <td>292.0</td>\n",
       "      <td>0.0</td>\n",
       "      <td>0.0</td>\n",
       "      <td>0.0</td>\n",
       "      <td>480.0</td>\n",
       "      <td>0.0</td>\n",
       "      <td>1.0</td>\n",
       "      <td>2008.0</td>\n",
       "      <td>160000.0</td>\n",
       "    </tr>\n",
       "    <tr>\n",
       "      <th>521</th>\n",
       "      <td>60.0</td>\n",
       "      <td>130.0</td>\n",
       "      <td>40094.0</td>\n",
       "      <td>10.0</td>\n",
       "      <td>5.0</td>\n",
       "      <td>2007.0</td>\n",
       "      <td>2008.0</td>\n",
       "      <td>762.0</td>\n",
       "      <td>2260.0</td>\n",
       "      <td>0.0</td>\n",
       "      <td>...</td>\n",
       "      <td>208.0</td>\n",
       "      <td>406.0</td>\n",
       "      <td>0.0</td>\n",
       "      <td>0.0</td>\n",
       "      <td>0.0</td>\n",
       "      <td>0.0</td>\n",
       "      <td>0.0</td>\n",
       "      <td>10.0</td>\n",
       "      <td>2007.0</td>\n",
       "      <td>184750.0</td>\n",
       "    </tr>\n",
       "  </tbody>\n",
       "</table>\n",
       "<p>2 rows × 37 columns</p>\n",
       "</div>"
      ],
      "text/plain": [
       "      MSSubClass  LotFrontage  LotArea  OverallQual  OverallCond  YearBuilt  \\\n",
       "1289        60.0        313.0  63887.0         10.0          5.0     2008.0   \n",
       "521         60.0        130.0  40094.0         10.0          5.0     2007.0   \n",
       "\n",
       "      YearRemodAdd  MasVnrArea  BsmtFinSF1  BsmtFinSF2  ...  WoodDeckSF  \\\n",
       "1289        2008.0       796.0      5644.0         0.0  ...       214.0   \n",
       "521         2008.0       762.0      2260.0         0.0  ...       208.0   \n",
       "\n",
       "      OpenPorchSF  EnclosedPorch  3SsnPorch  ScreenPorch  PoolArea  MiscVal  \\\n",
       "1289        292.0            0.0        0.0          0.0     480.0      0.0   \n",
       "521         406.0            0.0        0.0          0.0       0.0      0.0   \n",
       "\n",
       "      MoSold  YrSold  SalePrice  \n",
       "1289     1.0  2008.0   160000.0  \n",
       "521     10.0  2007.0   184750.0  \n",
       "\n",
       "[2 rows x 37 columns]"
      ]
     },
     "execution_count": 179,
     "metadata": {},
     "output_type": "execute_result"
    }
   ],
   "source": [
    "Train_set_num_full[Train_set_num_full.GrLivArea > 4000].sort_values(by='SalePrice')"
   ]
  },
  {
   "cell_type": "markdown",
   "metadata": {},
   "source": [
    "### GarageCars "
   ]
  },
  {
   "cell_type": "code",
   "execution_count": 194,
   "metadata": {},
   "outputs": [
    {
     "data": {
      "text/html": [
       "<div>\n",
       "<style scoped>\n",
       "    .dataframe tbody tr th:only-of-type {\n",
       "        vertical-align: middle;\n",
       "    }\n",
       "\n",
       "    .dataframe tbody tr th {\n",
       "        vertical-align: top;\n",
       "    }\n",
       "\n",
       "    .dataframe thead th {\n",
       "        text-align: right;\n",
       "    }\n",
       "</style>\n",
       "<table border=\"1\" class=\"dataframe\">\n",
       "  <thead>\n",
       "    <tr style=\"text-align: right;\">\n",
       "      <th></th>\n",
       "      <th>MSSubClass</th>\n",
       "      <th>LotFrontage</th>\n",
       "      <th>LotArea</th>\n",
       "      <th>OverallQual</th>\n",
       "      <th>OverallCond</th>\n",
       "      <th>YearBuilt</th>\n",
       "      <th>YearRemodAdd</th>\n",
       "      <th>MasVnrArea</th>\n",
       "      <th>BsmtFinSF1</th>\n",
       "      <th>BsmtFinSF2</th>\n",
       "      <th>...</th>\n",
       "      <th>WoodDeckSF</th>\n",
       "      <th>OpenPorchSF</th>\n",
       "      <th>EnclosedPorch</th>\n",
       "      <th>3SsnPorch</th>\n",
       "      <th>ScreenPorch</th>\n",
       "      <th>PoolArea</th>\n",
       "      <th>MiscVal</th>\n",
       "      <th>MoSold</th>\n",
       "      <th>YrSold</th>\n",
       "      <th>SalePrice</th>\n",
       "    </tr>\n",
       "  </thead>\n",
       "  <tbody>\n",
       "    <tr>\n",
       "      <th>1331</th>\n",
       "      <td>20.0</td>\n",
       "      <td>70.0</td>\n",
       "      <td>8294.0</td>\n",
       "      <td>4.0</td>\n",
       "      <td>5.0</td>\n",
       "      <td>1971.0</td>\n",
       "      <td>1971.0</td>\n",
       "      <td>0.0</td>\n",
       "      <td>0.0</td>\n",
       "      <td>0.0</td>\n",
       "      <td>...</td>\n",
       "      <td>0.0</td>\n",
       "      <td>0.0</td>\n",
       "      <td>0.0</td>\n",
       "      <td>0.0</td>\n",
       "      <td>0.0</td>\n",
       "      <td>0.0</td>\n",
       "      <td>0.0</td>\n",
       "      <td>6.0</td>\n",
       "      <td>2007.0</td>\n",
       "      <td>123000.0</td>\n",
       "    </tr>\n",
       "    <tr>\n",
       "      <th>1181</th>\n",
       "      <td>190.0</td>\n",
       "      <td>69.0</td>\n",
       "      <td>32463.0</td>\n",
       "      <td>4.0</td>\n",
       "      <td>4.0</td>\n",
       "      <td>1961.0</td>\n",
       "      <td>1975.0</td>\n",
       "      <td>149.0</td>\n",
       "      <td>1159.0</td>\n",
       "      <td>0.0</td>\n",
       "      <td>...</td>\n",
       "      <td>439.0</td>\n",
       "      <td>0.0</td>\n",
       "      <td>0.0</td>\n",
       "      <td>0.0</td>\n",
       "      <td>0.0</td>\n",
       "      <td>0.0</td>\n",
       "      <td>0.0</td>\n",
       "      <td>3.0</td>\n",
       "      <td>2007.0</td>\n",
       "      <td>168000.0</td>\n",
       "    </tr>\n",
       "    <tr>\n",
       "      <th>1341</th>\n",
       "      <td>90.0</td>\n",
       "      <td>91.0</td>\n",
       "      <td>11643.0</td>\n",
       "      <td>5.0</td>\n",
       "      <td>5.0</td>\n",
       "      <td>1969.0</td>\n",
       "      <td>1969.0</td>\n",
       "      <td>368.0</td>\n",
       "      <td>500.0</td>\n",
       "      <td>0.0</td>\n",
       "      <td>...</td>\n",
       "      <td>0.0</td>\n",
       "      <td>0.0</td>\n",
       "      <td>0.0</td>\n",
       "      <td>0.0</td>\n",
       "      <td>0.0</td>\n",
       "      <td>0.0</td>\n",
       "      <td>0.0</td>\n",
       "      <td>8.0</td>\n",
       "      <td>2009.0</td>\n",
       "      <td>200000.0</td>\n",
       "    </tr>\n",
       "    <tr>\n",
       "      <th>419</th>\n",
       "      <td>90.0</td>\n",
       "      <td>78.0</td>\n",
       "      <td>7060.0</td>\n",
       "      <td>7.0</td>\n",
       "      <td>5.0</td>\n",
       "      <td>1997.0</td>\n",
       "      <td>1998.0</td>\n",
       "      <td>200.0</td>\n",
       "      <td>1309.0</td>\n",
       "      <td>0.0</td>\n",
       "      <td>...</td>\n",
       "      <td>0.0</td>\n",
       "      <td>0.0</td>\n",
       "      <td>0.0</td>\n",
       "      <td>0.0</td>\n",
       "      <td>0.0</td>\n",
       "      <td>0.0</td>\n",
       "      <td>0.0</td>\n",
       "      <td>11.0</td>\n",
       "      <td>2008.0</td>\n",
       "      <td>206300.0</td>\n",
       "    </tr>\n",
       "    <tr>\n",
       "      <th>744</th>\n",
       "      <td>70.0</td>\n",
       "      <td>65.0</td>\n",
       "      <td>11700.0</td>\n",
       "      <td>7.0</td>\n",
       "      <td>7.0</td>\n",
       "      <td>1880.0</td>\n",
       "      <td>2003.0</td>\n",
       "      <td>0.0</td>\n",
       "      <td>0.0</td>\n",
       "      <td>0.0</td>\n",
       "      <td>...</td>\n",
       "      <td>181.0</td>\n",
       "      <td>0.0</td>\n",
       "      <td>386.0</td>\n",
       "      <td>0.0</td>\n",
       "      <td>0.0</td>\n",
       "      <td>0.0</td>\n",
       "      <td>0.0</td>\n",
       "      <td>5.0</td>\n",
       "      <td>2009.0</td>\n",
       "      <td>265979.0</td>\n",
       "    </tr>\n",
       "  </tbody>\n",
       "</table>\n",
       "<p>5 rows × 37 columns</p>\n",
       "</div>"
      ],
      "text/plain": [
       "      MSSubClass  LotFrontage  LotArea  OverallQual  OverallCond  YearBuilt  \\\n",
       "1331        20.0         70.0   8294.0          4.0          5.0     1971.0   \n",
       "1181       190.0         69.0  32463.0          4.0          4.0     1961.0   \n",
       "1341        90.0         91.0  11643.0          5.0          5.0     1969.0   \n",
       "419         90.0         78.0   7060.0          7.0          5.0     1997.0   \n",
       "744         70.0         65.0  11700.0          7.0          7.0     1880.0   \n",
       "\n",
       "      YearRemodAdd  MasVnrArea  BsmtFinSF1  BsmtFinSF2  ...  WoodDeckSF  \\\n",
       "1331        1971.0         0.0         0.0         0.0  ...         0.0   \n",
       "1181        1975.0       149.0      1159.0         0.0  ...       439.0   \n",
       "1341        1969.0       368.0       500.0         0.0  ...         0.0   \n",
       "419         1998.0       200.0      1309.0         0.0  ...         0.0   \n",
       "744         2003.0         0.0         0.0         0.0  ...       181.0   \n",
       "\n",
       "      OpenPorchSF  EnclosedPorch  3SsnPorch  ScreenPorch  PoolArea  MiscVal  \\\n",
       "1331          0.0            0.0        0.0          0.0       0.0      0.0   \n",
       "1181          0.0            0.0        0.0          0.0       0.0      0.0   \n",
       "1341          0.0            0.0        0.0          0.0       0.0      0.0   \n",
       "419           0.0            0.0        0.0          0.0       0.0      0.0   \n",
       "744           0.0          386.0        0.0          0.0       0.0      0.0   \n",
       "\n",
       "      MoSold  YrSold  SalePrice  \n",
       "1331     6.0  2007.0   123000.0  \n",
       "1181     3.0  2007.0   168000.0  \n",
       "1341     8.0  2009.0   200000.0  \n",
       "419     11.0  2008.0   206300.0  \n",
       "744      5.0  2009.0   265979.0  \n",
       "\n",
       "[5 rows x 37 columns]"
      ]
     },
     "execution_count": 194,
     "metadata": {},
     "output_type": "execute_result"
    }
   ],
   "source": [
    "Train_set_num_full[Train_set_num_full.GarageCars ==4].sort_values(by='SalePrice')"
   ]
  },
  {
   "cell_type": "markdown",
   "metadata": {},
   "source": [
    "### GarageArea "
   ]
  },
  {
   "cell_type": "code",
   "execution_count": 182,
   "metadata": {},
   "outputs": [
    {
     "data": {
      "text/html": [
       "<div>\n",
       "<style scoped>\n",
       "    .dataframe tbody tr th:only-of-type {\n",
       "        vertical-align: middle;\n",
       "    }\n",
       "\n",
       "    .dataframe tbody tr th {\n",
       "        vertical-align: top;\n",
       "    }\n",
       "\n",
       "    .dataframe thead th {\n",
       "        text-align: right;\n",
       "    }\n",
       "</style>\n",
       "<table border=\"1\" class=\"dataframe\">\n",
       "  <thead>\n",
       "    <tr style=\"text-align: right;\">\n",
       "      <th></th>\n",
       "      <th>MSSubClass</th>\n",
       "      <th>LotFrontage</th>\n",
       "      <th>LotArea</th>\n",
       "      <th>OverallQual</th>\n",
       "      <th>OverallCond</th>\n",
       "      <th>YearBuilt</th>\n",
       "      <th>YearRemodAdd</th>\n",
       "      <th>MasVnrArea</th>\n",
       "      <th>BsmtFinSF1</th>\n",
       "      <th>BsmtFinSF2</th>\n",
       "      <th>...</th>\n",
       "      <th>WoodDeckSF</th>\n",
       "      <th>OpenPorchSF</th>\n",
       "      <th>EnclosedPorch</th>\n",
       "      <th>3SsnPorch</th>\n",
       "      <th>ScreenPorch</th>\n",
       "      <th>PoolArea</th>\n",
       "      <th>MiscVal</th>\n",
       "      <th>MoSold</th>\n",
       "      <th>YrSold</th>\n",
       "      <th>SalePrice</th>\n",
       "    </tr>\n",
       "  </thead>\n",
       "  <tbody>\n",
       "    <tr>\n",
       "      <th>1054</th>\n",
       "      <td>30.0</td>\n",
       "      <td>120.0</td>\n",
       "      <td>18000.0</td>\n",
       "      <td>3.0</td>\n",
       "      <td>4.0</td>\n",
       "      <td>1935.0</td>\n",
       "      <td>1950.0</td>\n",
       "      <td>0.0</td>\n",
       "      <td>0.0</td>\n",
       "      <td>0.0</td>\n",
       "      <td>...</td>\n",
       "      <td>0.0</td>\n",
       "      <td>20.0</td>\n",
       "      <td>0.0</td>\n",
       "      <td>0.0</td>\n",
       "      <td>0.0</td>\n",
       "      <td>0.0</td>\n",
       "      <td>560.0</td>\n",
       "      <td>8.0</td>\n",
       "      <td>2008.0</td>\n",
       "      <td>81000.0</td>\n",
       "    </tr>\n",
       "    <tr>\n",
       "      <th>1289</th>\n",
       "      <td>60.0</td>\n",
       "      <td>313.0</td>\n",
       "      <td>63887.0</td>\n",
       "      <td>10.0</td>\n",
       "      <td>5.0</td>\n",
       "      <td>2008.0</td>\n",
       "      <td>2008.0</td>\n",
       "      <td>796.0</td>\n",
       "      <td>5644.0</td>\n",
       "      <td>0.0</td>\n",
       "      <td>...</td>\n",
       "      <td>214.0</td>\n",
       "      <td>292.0</td>\n",
       "      <td>0.0</td>\n",
       "      <td>0.0</td>\n",
       "      <td>0.0</td>\n",
       "      <td>480.0</td>\n",
       "      <td>0.0</td>\n",
       "      <td>1.0</td>\n",
       "      <td>2008.0</td>\n",
       "      <td>160000.0</td>\n",
       "    </tr>\n",
       "    <tr>\n",
       "      <th>1181</th>\n",
       "      <td>190.0</td>\n",
       "      <td>69.0</td>\n",
       "      <td>32463.0</td>\n",
       "      <td>4.0</td>\n",
       "      <td>4.0</td>\n",
       "      <td>1961.0</td>\n",
       "      <td>1975.0</td>\n",
       "      <td>149.0</td>\n",
       "      <td>1159.0</td>\n",
       "      <td>0.0</td>\n",
       "      <td>...</td>\n",
       "      <td>439.0</td>\n",
       "      <td>0.0</td>\n",
       "      <td>0.0</td>\n",
       "      <td>0.0</td>\n",
       "      <td>0.0</td>\n",
       "      <td>0.0</td>\n",
       "      <td>0.0</td>\n",
       "      <td>3.0</td>\n",
       "      <td>2007.0</td>\n",
       "      <td>168000.0</td>\n",
       "    </tr>\n",
       "    <tr>\n",
       "      <th>579</th>\n",
       "      <td>20.0</td>\n",
       "      <td>98.0</td>\n",
       "      <td>12704.0</td>\n",
       "      <td>8.0</td>\n",
       "      <td>5.0</td>\n",
       "      <td>2008.0</td>\n",
       "      <td>2009.0</td>\n",
       "      <td>306.0</td>\n",
       "      <td>0.0</td>\n",
       "      <td>0.0</td>\n",
       "      <td>...</td>\n",
       "      <td>0.0</td>\n",
       "      <td>90.0</td>\n",
       "      <td>0.0</td>\n",
       "      <td>0.0</td>\n",
       "      <td>0.0</td>\n",
       "      <td>0.0</td>\n",
       "      <td>0.0</td>\n",
       "      <td>8.0</td>\n",
       "      <td>2009.0</td>\n",
       "      <td>253293.0</td>\n",
       "    </tr>\n",
       "    <tr>\n",
       "      <th>820</th>\n",
       "      <td>20.0</td>\n",
       "      <td>114.0</td>\n",
       "      <td>14803.0</td>\n",
       "      <td>10.0</td>\n",
       "      <td>5.0</td>\n",
       "      <td>2007.0</td>\n",
       "      <td>2008.0</td>\n",
       "      <td>816.0</td>\n",
       "      <td>1636.0</td>\n",
       "      <td>0.0</td>\n",
       "      <td>...</td>\n",
       "      <td>188.0</td>\n",
       "      <td>45.0</td>\n",
       "      <td>0.0</td>\n",
       "      <td>0.0</td>\n",
       "      <td>0.0</td>\n",
       "      <td>0.0</td>\n",
       "      <td>0.0</td>\n",
       "      <td>6.0</td>\n",
       "      <td>2008.0</td>\n",
       "      <td>385000.0</td>\n",
       "    </tr>\n",
       "  </tbody>\n",
       "</table>\n",
       "<p>5 rows × 37 columns</p>\n",
       "</div>"
      ],
      "text/plain": [
       "      MSSubClass  LotFrontage  LotArea  OverallQual  OverallCond  YearBuilt  \\\n",
       "1054        30.0        120.0  18000.0          3.0          4.0     1935.0   \n",
       "1289        60.0        313.0  63887.0         10.0          5.0     2008.0   \n",
       "1181       190.0         69.0  32463.0          4.0          4.0     1961.0   \n",
       "579         20.0         98.0  12704.0          8.0          5.0     2008.0   \n",
       "820         20.0        114.0  14803.0         10.0          5.0     2007.0   \n",
       "\n",
       "      YearRemodAdd  MasVnrArea  BsmtFinSF1  BsmtFinSF2  ...  WoodDeckSF  \\\n",
       "1054        1950.0         0.0         0.0         0.0  ...         0.0   \n",
       "1289        2008.0       796.0      5644.0         0.0  ...       214.0   \n",
       "1181        1975.0       149.0      1159.0         0.0  ...       439.0   \n",
       "579         2009.0       306.0         0.0         0.0  ...         0.0   \n",
       "820         2008.0       816.0      1636.0         0.0  ...       188.0   \n",
       "\n",
       "      OpenPorchSF  EnclosedPorch  3SsnPorch  ScreenPorch  PoolArea  MiscVal  \\\n",
       "1054         20.0            0.0        0.0          0.0       0.0    560.0   \n",
       "1289        292.0            0.0        0.0          0.0     480.0      0.0   \n",
       "1181          0.0            0.0        0.0          0.0       0.0      0.0   \n",
       "579          90.0            0.0        0.0          0.0       0.0      0.0   \n",
       "820          45.0            0.0        0.0          0.0       0.0      0.0   \n",
       "\n",
       "      MoSold  YrSold  SalePrice  \n",
       "1054     8.0  2008.0    81000.0  \n",
       "1289     1.0  2008.0   160000.0  \n",
       "1181     3.0  2007.0   168000.0  \n",
       "579      8.0  2009.0   253293.0  \n",
       "820      6.0  2008.0   385000.0  \n",
       "\n",
       "[5 rows x 37 columns]"
      ]
     },
     "execution_count": 182,
     "metadata": {},
     "output_type": "execute_result"
    }
   ],
   "source": [
    "Train_set_num_full[Train_set_num_full.GarageArea > 1200].sort_values(by='SalePrice')"
   ]
  },
  {
   "cell_type": "markdown",
   "metadata": {},
   "source": [
    "### TotalBsmtSF"
   ]
  },
  {
   "cell_type": "code",
   "execution_count": 196,
   "metadata": {},
   "outputs": [
    {
     "data": {
      "text/html": [
       "<div>\n",
       "<style scoped>\n",
       "    .dataframe tbody tr th:only-of-type {\n",
       "        vertical-align: middle;\n",
       "    }\n",
       "\n",
       "    .dataframe tbody tr th {\n",
       "        vertical-align: top;\n",
       "    }\n",
       "\n",
       "    .dataframe thead th {\n",
       "        text-align: right;\n",
       "    }\n",
       "</style>\n",
       "<table border=\"1\" class=\"dataframe\">\n",
       "  <thead>\n",
       "    <tr style=\"text-align: right;\">\n",
       "      <th></th>\n",
       "      <th>MSSubClass</th>\n",
       "      <th>LotFrontage</th>\n",
       "      <th>LotArea</th>\n",
       "      <th>OverallQual</th>\n",
       "      <th>OverallCond</th>\n",
       "      <th>YearBuilt</th>\n",
       "      <th>YearRemodAdd</th>\n",
       "      <th>MasVnrArea</th>\n",
       "      <th>BsmtFinSF1</th>\n",
       "      <th>BsmtFinSF2</th>\n",
       "      <th>...</th>\n",
       "      <th>WoodDeckSF</th>\n",
       "      <th>OpenPorchSF</th>\n",
       "      <th>EnclosedPorch</th>\n",
       "      <th>3SsnPorch</th>\n",
       "      <th>ScreenPorch</th>\n",
       "      <th>PoolArea</th>\n",
       "      <th>MiscVal</th>\n",
       "      <th>MoSold</th>\n",
       "      <th>YrSold</th>\n",
       "      <th>SalePrice</th>\n",
       "    </tr>\n",
       "  </thead>\n",
       "  <tbody>\n",
       "    <tr>\n",
       "      <th>1289</th>\n",
       "      <td>60.0</td>\n",
       "      <td>313.0</td>\n",
       "      <td>63887.0</td>\n",
       "      <td>10.0</td>\n",
       "      <td>5.0</td>\n",
       "      <td>2008.0</td>\n",
       "      <td>2008.0</td>\n",
       "      <td>796.0</td>\n",
       "      <td>5644.0</td>\n",
       "      <td>0.0</td>\n",
       "      <td>...</td>\n",
       "      <td>214.0</td>\n",
       "      <td>292.0</td>\n",
       "      <td>0.0</td>\n",
       "      <td>0.0</td>\n",
       "      <td>0.0</td>\n",
       "      <td>480.0</td>\n",
       "      <td>0.0</td>\n",
       "      <td>1.0</td>\n",
       "      <td>2008.0</td>\n",
       "      <td>160000.0</td>\n",
       "    </tr>\n",
       "  </tbody>\n",
       "</table>\n",
       "<p>1 rows × 37 columns</p>\n",
       "</div>"
      ],
      "text/plain": [
       "      MSSubClass  LotFrontage  LotArea  OverallQual  OverallCond  YearBuilt  \\\n",
       "1289        60.0        313.0  63887.0         10.0          5.0     2008.0   \n",
       "\n",
       "      YearRemodAdd  MasVnrArea  BsmtFinSF1  BsmtFinSF2  ...  WoodDeckSF  \\\n",
       "1289        2008.0       796.0      5644.0         0.0  ...       214.0   \n",
       "\n",
       "      OpenPorchSF  EnclosedPorch  3SsnPorch  ScreenPorch  PoolArea  MiscVal  \\\n",
       "1289        292.0            0.0        0.0          0.0     480.0      0.0   \n",
       "\n",
       "      MoSold  YrSold  SalePrice  \n",
       "1289     1.0  2008.0   160000.0  \n",
       "\n",
       "[1 rows x 37 columns]"
      ]
     },
     "execution_count": 196,
     "metadata": {},
     "output_type": "execute_result"
    }
   ],
   "source": [
    "Train_set_num_full[Train_set_num_full.TotalBsmtSF > 4000].sort_values(by='SalePrice')"
   ]
  },
  {
   "cell_type": "markdown",
   "metadata": {},
   "source": [
    "\n",
    "### TotRmsAbvGrd"
   ]
  },
  {
   "cell_type": "code",
   "execution_count": 192,
   "metadata": {},
   "outputs": [
    {
     "data": {
      "text/html": [
       "<div>\n",
       "<style scoped>\n",
       "    .dataframe tbody tr th:only-of-type {\n",
       "        vertical-align: middle;\n",
       "    }\n",
       "\n",
       "    .dataframe tbody tr th {\n",
       "        vertical-align: top;\n",
       "    }\n",
       "\n",
       "    .dataframe thead th {\n",
       "        text-align: right;\n",
       "    }\n",
       "</style>\n",
       "<table border=\"1\" class=\"dataframe\">\n",
       "  <thead>\n",
       "    <tr style=\"text-align: right;\">\n",
       "      <th></th>\n",
       "      <th>MSSubClass</th>\n",
       "      <th>LotFrontage</th>\n",
       "      <th>LotArea</th>\n",
       "      <th>OverallQual</th>\n",
       "      <th>OverallCond</th>\n",
       "      <th>YearBuilt</th>\n",
       "      <th>YearRemodAdd</th>\n",
       "      <th>MasVnrArea</th>\n",
       "      <th>BsmtFinSF1</th>\n",
       "      <th>BsmtFinSF2</th>\n",
       "      <th>...</th>\n",
       "      <th>WoodDeckSF</th>\n",
       "      <th>OpenPorchSF</th>\n",
       "      <th>EnclosedPorch</th>\n",
       "      <th>3SsnPorch</th>\n",
       "      <th>ScreenPorch</th>\n",
       "      <th>PoolArea</th>\n",
       "      <th>MiscVal</th>\n",
       "      <th>MoSold</th>\n",
       "      <th>YrSold</th>\n",
       "      <th>SalePrice</th>\n",
       "    </tr>\n",
       "  </thead>\n",
       "  <tbody>\n",
       "    <tr>\n",
       "      <th>633</th>\n",
       "      <td>190.0</td>\n",
       "      <td>60.0</td>\n",
       "      <td>10896.0</td>\n",
       "      <td>6.0</td>\n",
       "      <td>7.0</td>\n",
       "      <td>1914.0</td>\n",
       "      <td>1995.0</td>\n",
       "      <td>0.0</td>\n",
       "      <td>256.0</td>\n",
       "      <td>0.0</td>\n",
       "      <td>...</td>\n",
       "      <td>0.0</td>\n",
       "      <td>110.0</td>\n",
       "      <td>0.0</td>\n",
       "      <td>0.0</td>\n",
       "      <td>0.0</td>\n",
       "      <td>0.0</td>\n",
       "      <td>0.0</td>\n",
       "      <td>3.0</td>\n",
       "      <td>2007.0</td>\n",
       "      <td>200000.0</td>\n",
       "    </tr>\n",
       "  </tbody>\n",
       "</table>\n",
       "<p>1 rows × 37 columns</p>\n",
       "</div>"
      ],
      "text/plain": [
       "     MSSubClass  LotFrontage  LotArea  OverallQual  OverallCond  YearBuilt  \\\n",
       "633       190.0         60.0  10896.0          6.0          7.0     1914.0   \n",
       "\n",
       "     YearRemodAdd  MasVnrArea  BsmtFinSF1  BsmtFinSF2  ...  WoodDeckSF  \\\n",
       "633        1995.0         0.0       256.0         0.0  ...         0.0   \n",
       "\n",
       "     OpenPorchSF  EnclosedPorch  3SsnPorch  ScreenPorch  PoolArea  MiscVal  \\\n",
       "633        110.0            0.0        0.0          0.0       0.0      0.0   \n",
       "\n",
       "     MoSold  YrSold  SalePrice  \n",
       "633     3.0  2007.0   200000.0  \n",
       "\n",
       "[1 rows x 37 columns]"
      ]
     },
     "execution_count": 192,
     "metadata": {},
     "output_type": "execute_result"
    }
   ],
   "source": [
    "Train_set_num_full[Train_set_num_full.TotRmsAbvGrd > 12].sort_values(by='SalePrice')"
   ]
  },
  {
   "cell_type": "code",
   "execution_count": null,
   "metadata": {},
   "outputs": [],
   "source": []
  },
  {
   "cell_type": "code",
   "execution_count": null,
   "metadata": {},
   "outputs": [],
   "source": []
  },
  {
   "cell_type": "code",
   "execution_count": null,
   "metadata": {},
   "outputs": [],
   "source": []
  },
  {
   "cell_type": "code",
   "execution_count": 180,
   "metadata": {},
   "outputs": [],
   "source": [
    "Outliers_index = list(Train_set_num_full[Train_set_num_full.OverallQual ==10].sort_values(by='SalePrice')[:2].index)"
   ]
  },
  {
   "cell_type": "code",
   "execution_count": 204,
   "metadata": {},
   "outputs": [],
   "source": [
    "test = pd.DataFrame([1,2,3])"
   ]
  },
  {
   "cell_type": "code",
   "execution_count": 203,
   "metadata": {},
   "outputs": [
    {
     "data": {
      "text/html": [
       "<div>\n",
       "<style scoped>\n",
       "    .dataframe tbody tr th:only-of-type {\n",
       "        vertical-align: middle;\n",
       "    }\n",
       "\n",
       "    .dataframe tbody tr th {\n",
       "        vertical-align: top;\n",
       "    }\n",
       "\n",
       "    .dataframe thead th {\n",
       "        text-align: right;\n",
       "    }\n",
       "</style>\n",
       "<table border=\"1\" class=\"dataframe\">\n",
       "  <thead>\n",
       "    <tr style=\"text-align: right;\">\n",
       "      <th></th>\n",
       "      <th>0</th>\n",
       "    </tr>\n",
       "  </thead>\n",
       "  <tbody>\n",
       "    <tr>\n",
       "      <th>1</th>\n",
       "      <td>2</td>\n",
       "    </tr>\n",
       "    <tr>\n",
       "      <th>2</th>\n",
       "      <td>3</td>\n",
       "    </tr>\n",
       "  </tbody>\n",
       "</table>\n",
       "</div>"
      ],
      "text/plain": [
       "   0\n",
       "1  2\n",
       "2  3"
      ]
     },
     "execution_count": 203,
     "metadata": {},
     "output_type": "execute_result"
    }
   ],
   "source": [
    "test.drop(0)"
   ]
  },
  {
   "cell_type": "markdown",
   "metadata": {},
   "source": [
    "We can also plot some figures, using categorical price instead of values. \n",
    "For example : \n",
    "\n",
    "- Cheap :  price is less than the first quantile (Q1)\n",
    "- Normal:  price is in the IQR\n",
    "- Quite expensive: price is the third quantile and the upper whisker (with boxplot = Q3 + 1.5 x IQR )  \n",
    "- Expensive: price is more than the upper whisker "
   ]
  },
  {
   "cell_type": "code",
   "execution_count": 114,
   "metadata": {},
   "outputs": [
    {
     "name": "stdout",
     "output_type": "stream",
     "text": [
      "Cheap means less than 129,900 $\n",
      "Normal means between 129,900 $ and 213,000 $\n",
      "Quite expensive means between 213,000 $ and 337,650 $\n",
      "Expensive means more than 337,650 $\n"
     ]
    }
   ],
   "source": [
    "Q1 = Train_y.quantile(0.25)\n",
    "Q3 = Train_y.quantile(0.75)\n",
    "IQR = Q3 - Q1\n",
    " \n",
    "Upper_whisker = Q3 + 1.5*IQR\n",
    "\n",
    "Train_y_cat = Train_y.copy()\n",
    "\n",
    "Train_y_cat[Train_y < Q1] = 'Cheap'\n",
    "print('Cheap means less than {:3,.0f} $'.format(Q1))\n",
    "\n",
    "Train_y_cat[np.logical_and(Train_y >= Q1,Train_y <= Q3)] = 'Normal'\n",
    "print('Normal means between {:3,.0f} $ and {:3,.0f} $'.format(Q1,Q3))\n",
    "\n",
    "Train_y_cat[np.logical_and(Train_y > Q3,Train_y <= Upper_whisker)] = 'Quite_Expensive'\n",
    "print('Quite expensive means between {:3,.0f} $ and {:3,.0f} $'.format(Q3,Upper_whisker))\n",
    "\n",
    "Train_y_cat[Train_y > Upper_whisker ] = 'Expensive'\n",
    "print('Expensive means more than {:3,.0f} $'.format(Upper_whisker))\n",
    "\n",
    "Train_y_cat_order = ['Cheap','Normal','Quite_Expensive','Expensive']"
   ]
  },
  {
   "cell_type": "code",
   "execution_count": null,
   "metadata": {},
   "outputs": [],
   "source": []
  },
  {
   "cell_type": "code",
   "execution_count": null,
   "metadata": {},
   "outputs": [],
   "source": []
  },
  {
   "cell_type": "code",
   "execution_count": null,
   "metadata": {},
   "outputs": [],
   "source": []
  },
  {
   "cell_type": "code",
   "execution_count": null,
   "metadata": {},
   "outputs": [],
   "source": []
  },
  {
   "cell_type": "code",
   "execution_count": null,
   "metadata": {},
   "outputs": [],
   "source": []
  },
  {
   "cell_type": "code",
   "execution_count": 192,
   "metadata": {},
   "outputs": [],
   "source": [
    "from sklearn.base import BaseEstimator, TransformerMixin\n",
    "from sklearn.pipeline import Pipeline\n",
    "\n",
    "\n",
    "Train_set_num = Train_set.select_dtypes(exclude='object')\n",
    "List_num_Features = list(Train_set.select_dtypes(exclude='object'))\n",
    "\n",
    "OverallCond_ix,OverallQual_ix = Train_set_num.columns.get_loc('OverallCond') , Train_set_num.columns.get_loc('OverallQual')\n",
    "FullBath_ix , HalfBath_ix = Train_set_num.columns.get_loc('FullBath'),Train_set_num.columns.get_loc('HalfBath')\n",
    "OpenPorchSF_ix,EnclosedPorch_ix,snPorch_ix,ScreenPorch_ix = Train_set_num.columns.get_loc('OpenPorchSF'),Train_set_num.columns.get_loc('EnclosedPorch'),Train_set_num.columns.get_loc('3SsnPorch'),Train_set_num.columns.get_loc('ScreenPorch')\n",
    "\n",
    "Lst_to_drop=[Train_set_num.columns.get_loc('MSSubClass'),Train_set_num.columns.get_loc('OverallCond'),\n",
    "             Train_set_num.columns.get_loc('OverallQual'),Train_set_num.columns.get_loc('OverallCond'),\n",
    "             Train_set_num.columns.get_loc('YearBuilt'),Train_set_num.columns.get_loc('GarageYrBlt'),\n",
    "             Train_set_num.columns.get_loc('BedroomAbvGr'),Train_set_num.columns.get_loc('BsmtFullBath'),\n",
    "             Train_set_num.columns.get_loc('BsmtHalfBath'),Train_set_num.columns.get_loc('1stFlrSF'),\n",
    "             Train_set_num.columns.get_loc('2ndFlrSF'),Train_set_num.columns.get_loc('FullBath'),\n",
    "             Train_set_num.columns.get_loc('HalfBath'), Train_set_num.columns.get_loc('GarageArea'),\n",
    "             Train_set_num.columns.get_loc('MiscVal'),Train_set_num.columns.get_loc('MoSold'),\n",
    "             Train_set_num.columns.get_loc('YrSold'),Train_set_num.columns.get_loc('OpenPorchSF'),\n",
    "             Train_set_num.columns.get_loc('EnclosedPorch'),Train_set_num.columns.get_loc('3SsnPorch'),\n",
    "             Train_set_num.columns.get_loc('ScreenPorch'),]\n",
    "\n",
    "class Num_Features_Transformation (BaseEstimator,TransformerMixin):\n",
    "    def __init__(self,drop_features=False):\n",
    "        self.drop_features = drop_features\n",
    "    \n",
    "    def fit(self,X,y=None):\n",
    "        self.OverallCond,self.OverallQual = OverallCond_ix,OverallQual_ix\n",
    "        self.FullBath , self.HalfBath = FullBath_ix , HalfBath_ix\n",
    "        self.OpenPorchSF,self.EnclosedPorch,self.SsnPorch,self.ScreenPorch = OpenPorchSF_ix,EnclosedPorch_ix,snPorch_ix,ScreenPorch_ix\n",
    "        return self\n",
    "    \n",
    "    def transform(self,X):\n",
    "        coef=0.8\n",
    "        OverallRates = (coef*X[:,self.OverallCond] + (1-coef)*X[:,self.OverallQual])\n",
    "        NbBath=X[:,self.FullBath]+0.5*X[:,self.HalfBath]\n",
    "        PorchSF=0.7*X[:,self.OpenPorchSF] + 0.1 * (X[:,self.EnclosedPorch]+X[:,self.SsnPorch]+X[:,self.ScreenPorch])\n",
    "        \n",
    "        if self.drop_features:\n",
    "            X_drop = np.delete(X,Lst_to_drop,axis=1)\n",
    "            return np.c_[X_drop,OverallRates,NbBath,PorchSF] \n",
    "        else:\n",
    "            return np.c_[X,OverallRates,NbBath,PorchSF]  "
   ]
  },
  {
   "cell_type": "code",
   "execution_count": 193,
   "metadata": {},
   "outputs": [],
   "source": [
    "from sklearn.impute import SimpleImputer\n",
    "\n",
    "Drop_features_num = False   \n",
    "\n",
    "num_Pipeline = Pipeline([('imput_num',SimpleImputer(strategy='median')),\n",
    "                         ('Num_Features_Transformation',Num_Features_Transformation(Drop_features_num))\n",
    "                        ])\n",
    "\n",
    "Train_set_num = Train_set.select_dtypes(exclude='object')\n",
    "Train_set_num_full_EDA = num_Pipeline.fit_transform(Train_set_num)\n",
    "\n",
    "\n",
    "if Drop_features_num:\n",
    "    Garage_cars_ix = 13\n",
    "else: \n",
    "    Garage_cars_ix = Train_set_num.columns.get_loc('GarageCars')"
   ]
  },
  {
   "cell_type": "code",
   "execution_count": 194,
   "metadata": {},
   "outputs": [],
   "source": [
    "from sklearn.model_selection import StratifiedShuffleSplit\n",
    "split = StratifiedShuffleSplit(n_splits=1,test_size=0.15,random_state=42)\n",
    "\n",
    "#since our data set is small, we have to take care about the sampling bias !!\n",
    "for train_index,val_index in split.split(Train_set_num_full_EDA,Train_set_num_full_EDA[:,Garage_cars_ix]):\n",
    "    X_train = Train_set_num_full_EDA[train_index,:]\n",
    "    X_val = Train_set_num_full_EDA[val_index,:]\n",
    "    y_train = Train_y.loc[train_index]\n",
    "    y_val = Train_y.loc[val_index]"
   ]
  },
  {
   "cell_type": "markdown",
   "metadata": {},
   "source": [
    "# Second : EDA on categorical features"
   ]
  },
  {
   "cell_type": "code",
   "execution_count": 195,
   "metadata": {},
   "outputs": [],
   "source": [
    "Train_set_alpha = Train_set.select_dtypes(include='object')\n",
    "List_alpha_Features = list(Train_set.select_dtypes(include='object'))\n",
    "\n",
    "\n",
    "BsmtFinType1_ix,BsmtFinType2_ix = Train_set_alpha.columns.get_loc('BsmtFinType1') ,Train_set_alpha.columns.get_loc('BsmtFinType2') \n",
    "\n",
    "Lst_to_keep=[Train_set_alpha.columns.get_loc('Street'),Train_set_alpha.columns.get_loc('ExterQual'),\n",
    "             Train_set_alpha.columns.get_loc('ExterCond'),Train_set_alpha.columns.get_loc('BsmtQual'),\n",
    "             Train_set_alpha.columns.get_loc('BsmtCond'),Train_set_alpha.columns.get_loc('BsmtExposure'),       \n",
    "             Train_set_alpha.columns.get_loc('HeatingQC'),Train_set_alpha.columns.get_loc('CentralAir'),\n",
    "             Train_set_alpha.columns.get_loc('KitchenQual'),Train_set_alpha.columns.get_loc('GarageFinish'),\n",
    "             Train_set_alpha.columns.get_loc('GarageQual'),Train_set_alpha.columns.get_loc('PavedDrive'),\n",
    "             Train_set_alpha.columns.get_loc('FireplaceQu'), Train_set_alpha.columns.get_loc('BsmtFinType2'),\n",
    "             Train_set_alpha.columns.get_loc('BsmtFinType1'),len(Train_set_alpha.columns),\n",
    "            ]\n",
    "\n",
    "class Alpha_Features_Transformation (BaseEstimator,TransformerMixin):\n",
    "    def __init__(self,drop_features_alpha=False):\n",
    "        self.drop_features_alpha = drop_features_alpha\n",
    "    \n",
    "    def fit(self,X,y=None):\n",
    "        self.BsmtFinType1,self.BsmtFinType2 = BsmtFinType1_ix,BsmtFinType2_ix\n",
    "        return self\n",
    "    \n",
    "    def transform(self,X):\n",
    "        BsmtFinRate = (X[:,self.BsmtFinType1] + X[:,self.BsmtFinType2]) / 2\n",
    "        X_full = np.c_[X,BsmtFinRate]\n",
    "        if self.drop_features_alpha:\n",
    "            return  X_full[:,Lst_to_keep]\n",
    "        else:\n",
    "            return X_full "
   ]
  },
  {
   "cell_type": "code",
   "execution_count": 196,
   "metadata": {},
   "outputs": [],
   "source": [
    "from sklearn.preprocessing import OrdinalEncoder\n",
    "Drop_features_alpha = True   \n",
    "\n",
    "alpha_Pipeline = Pipeline([('imput_alpha',SimpleImputer(strategy='most_frequent')),\n",
    "                           ('ordinal_encod',OrdinalEncoder()),\n",
    "                         ('Alpha_Features_Transformation',Alpha_Features_Transformation(Drop_features_alpha))\n",
    "                        ])\n",
    "\n",
    "Train_set_alpha = Train_set.select_dtypes(include='object')\n",
    "\n",
    "Train_set_alpha_full_EDA = alpha_Pipeline.fit_transform(Train_set_alpha)"
   ]
  },
  {
   "cell_type": "markdown",
   "metadata": {},
   "source": [
    "We can now try to concatenate the categorical data with the numerical. "
   ]
  },
  {
   "cell_type": "code",
   "execution_count": 197,
   "metadata": {},
   "outputs": [],
   "source": [
    "from sklearn.compose import ColumnTransformer\n",
    "Full_pipeline = ColumnTransformer([('num',num_Pipeline,List_num_Features),\n",
    "                                   ('alpha',alpha_Pipeline,List_alpha_Features),\n",
    "                                  ])"
   ]
  },
  {
   "cell_type": "code",
   "execution_count": 245,
   "metadata": {},
   "outputs": [],
   "source": [
    "Full_Training_Set = Full_pipeline.fit_transform(Train_set)\n",
    "\n",
    "from sklearn.model_selection import StratifiedShuffleSplit\n",
    "split = StratifiedShuffleSplit(n_splits=1,test_size=0.3,random_state=42)\n",
    "\n",
    "#since our data set is small, we have to take care about the sampling bias !!\n",
    "for train_index,val_index in split.split(Full_Training_Set,Full_Training_Set[:,Garage_cars_ix]):\n",
    "    X_train = Full_Training_Set[train_index,:]\n",
    "    X_val = Full_Training_Set[val_index,:]\n",
    "    y_train = Train_y.loc[train_index]\n",
    "    y_val = Train_y.loc[val_index]"
   ]
  },
  {
   "cell_type": "markdown",
   "metadata": {
    "scrolled": true
   },
   "source": [
    "-----------------------------------------------------------------------------------"
   ]
  },
  {
   "cell_type": "markdown",
   "metadata": {},
   "source": [
    "## Test some models\n",
    "\n",
    "We have a to make prediction, to compare models we will use the standard score : The  Root Mean Square Error (RMSE).\n",
    "\n",
    "For each model we will test Grid Search CV to find the best estimator."
   ]
  },
  {
   "cell_type": "code",
   "execution_count": 200,
   "metadata": {},
   "outputs": [],
   "source": [
    "from sklearn.preprocessing import PolynomialFeatures\n",
    "poly_features = PolynomialFeatures(degree=2,include_bias=False)\n",
    "\n",
    "#X_inter0 = X_train.copy()\n",
    "#X_inter1 = X_val.copy()\n",
    "\n",
    "#X_train = poly_features.fit_transform(X_train)\n",
    "#X_val = poly_features.transform(X_val)\n"
   ]
  },
  {
   "cell_type": "markdown",
   "metadata": {},
   "source": [
    "### Test the Ordinary least squares Linear Regression"
   ]
  },
  {
   "cell_type": "code",
   "execution_count": 201,
   "metadata": {},
   "outputs": [
    {
     "name": "stdout",
     "output_type": "stream",
     "text": [
      "Wall time: 3.95 ms\n"
     ]
    },
    {
     "data": {
      "text/plain": [
       "LinearRegression(copy_X=True, fit_intercept=True, n_jobs=None, normalize=False)"
      ]
     },
     "execution_count": 201,
     "metadata": {},
     "output_type": "execute_result"
    }
   ],
   "source": [
    "from sklearn.linear_model import LinearRegression\n",
    "from sklearn.model_selection import GridSearchCV\n",
    "# No need to make grid search since we don't have hyperparameters\n",
    "\n",
    "lin_reg = LinearRegression()\n",
    "%time lin_reg.fit(X_train,y_train)"
   ]
  },
  {
   "cell_type": "code",
   "execution_count": 202,
   "metadata": {},
   "outputs": [
    {
     "name": "stdout",
     "output_type": "stream",
     "text": [
      "RMSE for basic Linear Regression : 21326.54\n"
     ]
    }
   ],
   "source": [
    "from sklearn.metrics import mean_squared_error\n",
    "\n",
    "y_train_lin_reg_predict = lin_reg.predict(X_train)\n",
    "\n",
    "print(\"RMSE for basic Linear Regression : {:0.2f}\".format(np.sqrt(mean_squared_error(y_train,y_train_lin_reg_predict))))"
   ]
  },
  {
   "cell_type": "markdown",
   "metadata": {},
   "source": [
    "We will now check the overfitting, with cross validation on the training set. "
   ]
  },
  {
   "cell_type": "code",
   "execution_count": 203,
   "metadata": {},
   "outputs": [
    {
     "name": "stdout",
     "output_type": "stream",
     "text": [
      "The mean RMSE score for cross vlaidation : 22599.55\n"
     ]
    }
   ],
   "source": [
    "from sklearn.model_selection import cross_val_score\n",
    "\n",
    "lin_reg_cv = cross_val_score(lin_reg,X_train,y_train,scoring='neg_root_mean_squared_error',cv=8)\n",
    "\n",
    "print(\"The mean RMSE score for cross vlaidation : {:0.2f}\".format(-lin_reg_cv.mean()))"
   ]
  },
  {
   "cell_type": "markdown",
   "metadata": {},
   "source": [
    "We have more than 5% on the RMSE cross val score compare to the \"simple\" score. This means that we overfitt the data.\n",
    "\n",
    "But since we use a ordinary linear regression, we can't do nothing to control the overfitting.\n",
    "\n",
    "Lets check the RMSE on the validation set."
   ]
  },
  {
   "cell_type": "code",
   "execution_count": 204,
   "metadata": {
    "scrolled": true
   },
   "outputs": [
    {
     "name": "stdout",
     "output_type": "stream",
     "text": [
      "RMSE for basic Linear Regression on test set : 32785.23\n"
     ]
    }
   ],
   "source": [
    "y_val_lin_reg_predict = lin_reg.predict(X_val)\n",
    "\n",
    "print(\"RMSE for basic Linear Regression on test set : {:0.2f}\".format(np.sqrt(mean_squared_error(y_val,y_val_lin_reg_predict))))"
   ]
  },
  {
   "cell_type": "markdown",
   "metadata": {},
   "source": [
    "Quite good, but we have to select a more powerfull model"
   ]
  },
  {
   "cell_type": "markdown",
   "metadata": {},
   "source": [
    "### Test the BayesianRidge"
   ]
  },
  {
   "cell_type": "code",
   "execution_count": 284,
   "metadata": {},
   "outputs": [],
   "source": [
    "from sklearn.linear_model import BayesianRidge\n",
    "\n",
    "bayes_ridge_params = [\n",
    "                      {'n_iter':np.linspace(1,501,50).astype(int),\n",
    "                       'alpha_1':np.linspace(1e-6,1e-5,5),\n",
    "                       'alpha_2':np.linspace(1e-6,1e-5,5),\n",
    "                       'lambda_1':np.linspace(1e-6,1e-5,5),\n",
    "                       'lambda_2':np.linspace(1e-6,1e-5,5),\n",
    "                      }\n",
    "                    ]\n",
    "\n",
    "grid_bayesian = GridSearchCV(BayesianRidge(),bayes_ridge_params,cv=3,verbose=1,n_jobs=-1,\n",
    "                        return_train_score=True,scoring='neg_root_mean_squared_error')\n"
   ]
  },
  {
   "cell_type": "code",
   "execution_count": 285,
   "metadata": {},
   "outputs": [
    {
     "name": "stdout",
     "output_type": "stream",
     "text": [
      "Fitting 3 folds for each of 243 candidates, totalling 729 fits\n"
     ]
    },
    {
     "name": "stderr",
     "output_type": "stream",
     "text": [
      "[Parallel(n_jobs=-1)]: Using backend LokyBackend with 8 concurrent workers.\n",
      "[Parallel(n_jobs=-1)]: Done  59 tasks      | elapsed:    0.3s\n"
     ]
    },
    {
     "name": "stdout",
     "output_type": "stream",
     "text": [
      "Wall time: 1.59 s\n"
     ]
    },
    {
     "name": "stderr",
     "output_type": "stream",
     "text": [
      "[Parallel(n_jobs=-1)]: Done 729 out of 729 | elapsed:    1.5s finished\n"
     ]
    },
    {
     "data": {
      "text/plain": [
       "GridSearchCV(cv=3, error_score=nan,\n",
       "             estimator=BayesianRidge(alpha_1=1e-06, alpha_2=1e-06,\n",
       "                                     alpha_init=None, compute_score=False,\n",
       "                                     copy_X=True, fit_intercept=True,\n",
       "                                     lambda_1=1e-06, lambda_2=1e-06,\n",
       "                                     lambda_init=None, n_iter=300,\n",
       "                                     normalize=False, tol=0.001,\n",
       "                                     verbose=False),\n",
       "             iid='deprecated', n_jobs=-1,\n",
       "             param_grid=[{'alpha_1': array([1.0e-06, 5.5e-06, 1.0e-05]),\n",
       "                          'alpha_2': array([1.0e-06, 5.5e-06, 1.0e-05]),\n",
       "                          'lambda_1': array([1.0e-06, 5.5e-06, 1.0e-05]),\n",
       "                          'lambda_2': array([1.0e-06, 5.5e-06, 1.0e-05]),\n",
       "                          'n_iter': array([  1, 251, 501])}],\n",
       "             pre_dispatch='2*n_jobs', refit=True, return_train_score=True,\n",
       "             scoring='neg_root_mean_squared_error', verbose=1)"
      ]
     },
     "execution_count": 285,
     "metadata": {},
     "output_type": "execute_result"
    }
   ],
   "source": [
    "%time grid_bayesian.fit(X_train,y_train) "
   ]
  },
  {
   "cell_type": "code",
   "execution_count": 286,
   "metadata": {
    "scrolled": true
   },
   "outputs": [
    {
     "name": "stdout",
     "output_type": "stream",
     "text": [
      "RMSE for BayesianRidge: 28217.86\n",
      "\n",
      "The mean RMSE score for cross vlaidation : 38593.23\n",
      "\n",
      "RMSE for BayesianRidge on test set : 26813.10\n"
     ]
    }
   ],
   "source": [
    "bayesian_reg = grid_bayesian.best_estimator_\n",
    "\n",
    "y_train_sgd_reg_predict = bayesian_reg.predict(X_train)\n",
    "\n",
    "print(\"RMSE for BayesianRidge: {:0.2f}\".format(np.sqrt(mean_squared_error(y_train,y_train_sgd_reg_predict))))\n",
    "print(\"\\nThe mean RMSE score for cross vlaidation : {:0.2f}\".format(-grid_bayesian.best_score_))\n",
    "\n",
    "y_val_sgd_reg_predict = bayesian_reg.predict(X_val)\n",
    "\n",
    "print(\"\\nRMSE for BayesianRidge on test set : {:0.2f}\".format(np.sqrt(mean_squared_error(y_val,y_val_sgd_reg_predict))))\n"
   ]
  },
  {
   "cell_type": "markdown",
   "metadata": {},
   "source": [
    "### Test the Linear least squares with l2 regularization (Ridge)"
   ]
  },
  {
   "cell_type": "code",
   "execution_count": 284,
   "metadata": {},
   "outputs": [],
   "source": [
    "from sklearn.linear_model import Ridge\n",
    "\n",
    "lin_ridge_params = [\n",
    "                      {\n",
    "                       'alpha':np.linspace(1e-6,1e-5,3),\n",
    "                      }\n",
    "                    ]\n",
    "\n",
    "grid_ridge = GridSearchCV(Ridge(),lin_ridge_params,cv=5,verbose=1,n_jobs=-1,\n",
    "                        return_train_score=True,scoring='neg_root_mean_squared_error')\n"
   ]
  },
  {
   "cell_type": "code",
   "execution_count": 285,
   "metadata": {},
   "outputs": [
    {
     "name": "stdout",
     "output_type": "stream",
     "text": [
      "Fitting 3 folds for each of 243 candidates, totalling 729 fits\n"
     ]
    },
    {
     "name": "stderr",
     "output_type": "stream",
     "text": [
      "[Parallel(n_jobs=-1)]: Using backend LokyBackend with 8 concurrent workers.\n",
      "[Parallel(n_jobs=-1)]: Done  59 tasks      | elapsed:    0.3s\n"
     ]
    },
    {
     "name": "stdout",
     "output_type": "stream",
     "text": [
      "Wall time: 1.59 s\n"
     ]
    },
    {
     "name": "stderr",
     "output_type": "stream",
     "text": [
      "[Parallel(n_jobs=-1)]: Done 729 out of 729 | elapsed:    1.5s finished\n"
     ]
    },
    {
     "data": {
      "text/plain": [
       "GridSearchCV(cv=3, error_score=nan,\n",
       "             estimator=BayesianRidge(alpha_1=1e-06, alpha_2=1e-06,\n",
       "                                     alpha_init=None, compute_score=False,\n",
       "                                     copy_X=True, fit_intercept=True,\n",
       "                                     lambda_1=1e-06, lambda_2=1e-06,\n",
       "                                     lambda_init=None, n_iter=300,\n",
       "                                     normalize=False, tol=0.001,\n",
       "                                     verbose=False),\n",
       "             iid='deprecated', n_jobs=-1,\n",
       "             param_grid=[{'alpha_1': array([1.0e-06, 5.5e-06, 1.0e-05]),\n",
       "                          'alpha_2': array([1.0e-06, 5.5e-06, 1.0e-05]),\n",
       "                          'lambda_1': array([1.0e-06, 5.5e-06, 1.0e-05]),\n",
       "                          'lambda_2': array([1.0e-06, 5.5e-06, 1.0e-05]),\n",
       "                          'n_iter': array([  1, 251, 501])}],\n",
       "             pre_dispatch='2*n_jobs', refit=True, return_train_score=True,\n",
       "             scoring='neg_root_mean_squared_error', verbose=1)"
      ]
     },
     "execution_count": 285,
     "metadata": {},
     "output_type": "execute_result"
    }
   ],
   "source": [
    "%time grid_ridge.fit(X_train,y_train) "
   ]
  },
  {
   "cell_type": "code",
   "execution_count": 286,
   "metadata": {
    "scrolled": true
   },
   "outputs": [
    {
     "name": "stdout",
     "output_type": "stream",
     "text": [
      "RMSE for BayesianRidge: 28217.86\n",
      "\n",
      "The mean RMSE score for cross vlaidation : 38593.23\n",
      "\n",
      "RMSE for BayesianRidge on test set : 26813.10\n"
     ]
    }
   ],
   "source": [
    "ridge_reg = grid_ridge.best_estimator_\n",
    "\n",
    "y_train_sgd_reg_predict = ridge_reg.predict(X_train)\n",
    "\n",
    "print(\"RMSE for BayesianRidge: {:0.2f}\".format(np.sqrt(mean_squared_error(y_train,y_train_sgd_reg_predict))))\n",
    "print(\"\\nThe mean RMSE score for cross vlaidation : {:0.2f}\".format(-grid_ridge.best_score_))\n",
    "\n",
    "y_val_sgd_reg_predict = ridge_reg.predict(X_val)\n",
    "\n",
    "print(\"\\nRMSE for BayesianRidge on test set : {:0.2f}\".format(np.sqrt(mean_squared_error(y_val,y_val_sgd_reg_predict))))\n"
   ]
  },
  {
   "cell_type": "markdown",
   "metadata": {},
   "source": [
    "Classical linear regressors\n",
    "\n",
    "\n",
    "linear_model.RidgeCV([alphas, …])\n",
    "Ridge regression with built-in cross-validation.\n",
    "\n",
    "linear_model.SGDRegressor([loss, penalty, …])\n",
    "Linear model fitted by minimizing a regularized empirical loss with SGD\n",
    "\n",
    "Regressors with variable selection\n",
    "The following estimators have built-in variable selection fitting procedures, \n",
    "but any estimator using a L1 or elastic-net penalty also performs variable selection: typically SGDRegressor or SGDClassifier with an appropriate penalty.\n",
    "\n",
    "linear_model.ElasticNet([alpha, l1_ratio, …])\n",
    "\n",
    "Linear regression with combined L1 and L2 priors as regularizer.\n",
    "\n",
    "linear_model.ElasticNetCV(*[, l1_ratio, …])\n",
    "\n",
    "Elastic Net model with iterative fitting along a regularization path.\n",
    "\n",
    "linear_model.Lars(*[, fit_intercept, …])\n",
    "\n",
    "Least Angle Regression model a.k.a.\n",
    "\n",
    "linear_model.LarsCV(*[, fit_intercept, …])\n",
    "\n",
    "Cross-validated Least Angle Regression model.\n",
    "\n",
    "linear_model.Lasso([alpha, fit_intercept, …])\n",
    "\n",
    "Linear Model trained with L1 prior as regularizer (aka the Lasso)\n",
    "\n",
    "linear_model.LassoCV(*[, eps, n_alphas, …])\n",
    "\n",
    "Lasso linear model with iterative fitting along a regularization path.\n",
    "\n",
    "linear_model.LassoLars([alpha, …])\n",
    "\n",
    "Lasso model fit with Least Angle Regression a.k.a.\n",
    "\n",
    "linear_model.LassoLarsCV(*[, fit_intercept, …])\n",
    "\n",
    "Cross-validated Lasso, using the LARS algorithm.\n",
    "\n",
    "linear_model.LassoLarsIC([criterion, …])\n",
    "\n",
    "Lasso model fit with Lars using BIC or AIC for model selection\n",
    "\n",
    "linear_model.OrthogonalMatchingPursuit(*[, …])\n",
    "\n",
    "Orthogonal Matching Pursuit model (OMP)\n",
    "\n",
    "linear_model.OrthogonalMatchingPursuitCV(*)\n",
    "\n",
    "Cross-validated Orthogonal Matching Pursuit model (OMP).\n",
    "\n",
    "Bayesian regressors\n",
    "linear_model.ARDRegression(*[, n_iter, tol, …])\n",
    "\n",
    "Bayesian ARD regression.\n",
    "\n",
    "linear_model.BayesianRidge(*[, n_iter, tol, …])\n",
    "\n",
    "Bayesian ridge regression."
   ]
  },
  {
   "cell_type": "markdown",
   "metadata": {},
   "source": [
    "### Test the Stochastic Gradient Descent"
   ]
  },
  {
   "cell_type": "code",
   "execution_count": 205,
   "metadata": {},
   "outputs": [],
   "source": [
    "from sklearn.linear_model import SGDRegressor\n",
    "from sklearn.preprocessing import StandardScaler\n",
    "\n",
    "scaler = StandardScaler()\n",
    "X_train_scaled = scaler.fit_transform(X_train)\n",
    "X_val_scaled = scaler.transform(X_val)\n",
    "\n",
    "sgd_params = [#{'penalty':['l2'] , 'alpha':np.linspace(0,1,10)},\n",
    "              #{'penalty':['l1'] , 'alpha':np.linspace(0,1,10)},\n",
    "              {'penalty':['elasticnet'] ,'alpha':[0.04040404040404041],'l1_ratio':[0.9595959595959597]}]\n",
    "\n",
    "grid_sgd = GridSearchCV(SGDRegressor(),sgd_params,cv=5,verbose=0,\n",
    "                        return_train_score=True,scoring='neg_root_mean_squared_error')\n"
   ]
  },
  {
   "cell_type": "code",
   "execution_count": 206,
   "metadata": {},
   "outputs": [
    {
     "name": "stdout",
     "output_type": "stream",
     "text": [
      "Wall time: 63 ms\n"
     ]
    },
    {
     "data": {
      "text/plain": [
       "GridSearchCV(cv=5, error_score=nan,\n",
       "             estimator=SGDRegressor(alpha=0.0001, average=False,\n",
       "                                    early_stopping=False, epsilon=0.1,\n",
       "                                    eta0=0.01, fit_intercept=True,\n",
       "                                    l1_ratio=0.15, learning_rate='invscaling',\n",
       "                                    loss='squared_loss', max_iter=1000,\n",
       "                                    n_iter_no_change=5, penalty='l2',\n",
       "                                    power_t=0.25, random_state=None,\n",
       "                                    shuffle=True, tol=0.001,\n",
       "                                    validation_fraction=0.1, verbose=0,\n",
       "                                    warm_start=False),\n",
       "             iid='deprecated', n_jobs=None,\n",
       "             param_grid=[{'alpha': [0.04040404040404041],\n",
       "                          'l1_ratio': [0.9595959595959597],\n",
       "                          'penalty': ['elasticnet']}],\n",
       "             pre_dispatch='2*n_jobs', refit=True, return_train_score=True,\n",
       "             scoring='neg_root_mean_squared_error', verbose=0)"
      ]
     },
     "execution_count": 206,
     "metadata": {},
     "output_type": "execute_result"
    }
   ],
   "source": [
    "%time grid_sgd.fit(X_train_scaled,y_train) "
   ]
  },
  {
   "cell_type": "code",
   "execution_count": 207,
   "metadata": {
    "scrolled": true
   },
   "outputs": [
    {
     "name": "stdout",
     "output_type": "stream",
     "text": [
      "RMSE for an optimised Stochastic Gradient Descent : 21410.33\n",
      "\n",
      "The mean RMSE score for cross vlaidation : 23376.99\n",
      "\n",
      "RMSE for basic Stochastic Gradient Descent on test set : 33356.25\n"
     ]
    }
   ],
   "source": [
    "sgd_reg = grid_sgd.best_estimator_\n",
    "\n",
    "y_train_sgd_reg_predict = sgd_reg.predict(X_train_scaled)\n",
    "\n",
    "print(\"RMSE for an optimised Stochastic Gradient Descent : {:0.2f}\".format(np.sqrt(mean_squared_error(y_train,y_train_sgd_reg_predict))))\n",
    "print(\"\\nThe mean RMSE score for cross vlaidation : {:0.2f}\".format(-grid_sgd.best_score_))\n",
    "\n",
    "y_val_sgd_reg_predict = sgd_reg.predict(X_val_scaled)\n",
    "\n",
    "print(\"\\nRMSE for basic Stochastic Gradient Descent on test set : {:0.2f}\".format(np.sqrt(mean_squared_error(y_val,y_val_sgd_reg_predict))))\n"
   ]
  },
  {
   "cell_type": "markdown",
   "metadata": {},
   "source": [
    "The model is quite good, we don't overfitt too much, but the score is not very good ! "
   ]
  },
  {
   "cell_type": "markdown",
   "metadata": {},
   "source": [
    "### Test the Linear Support Vector Regression"
   ]
  },
  {
   "cell_type": "code",
   "execution_count": 208,
   "metadata": {},
   "outputs": [],
   "source": [
    "from sklearn.svm import LinearSVR"
   ]
  },
  {
   "cell_type": "code",
   "execution_count": 209,
   "metadata": {},
   "outputs": [],
   "source": [
    "svr_params = {'C':np.linspace(1,100,50)}\n",
    "\n",
    "grid_svr= GridSearchCV(LinearSVR(),svr_params,cv=5,verbose=0,\n",
    "                        return_train_score=True,scoring='neg_root_mean_squared_error')\n"
   ]
  },
  {
   "cell_type": "code",
   "execution_count": 210,
   "metadata": {},
   "outputs": [
    {
     "name": "stdout",
     "output_type": "stream",
     "text": [
      "Wall time: 714 ms\n"
     ]
    },
    {
     "data": {
      "text/plain": [
       "GridSearchCV(cv=5, error_score=nan,\n",
       "             estimator=LinearSVR(C=1.0, dual=True, epsilon=0.0,\n",
       "                                 fit_intercept=True, intercept_scaling=1.0,\n",
       "                                 loss='epsilon_insensitive', max_iter=1000,\n",
       "                                 random_state=None, tol=0.0001, verbose=0),\n",
       "             iid='deprecated', n_jobs=None,\n",
       "             param_grid={'C': array([  1.        ,   3.02040816,   5.04081633,   7.06122449,\n",
       "         9.08163265,  11.10204082,  13.12244898,  15.14285714,\n",
       "        17.16326531...\n",
       "        57.57142857,  59.59183673,  61.6122449 ,  63.63265306,\n",
       "        65.65306122,  67.67346939,  69.69387755,  71.71428571,\n",
       "        73.73469388,  75.75510204,  77.7755102 ,  79.79591837,\n",
       "        81.81632653,  83.83673469,  85.85714286,  87.87755102,\n",
       "        89.89795918,  91.91836735,  93.93877551,  95.95918367,\n",
       "        97.97959184, 100.        ])},\n",
       "             pre_dispatch='2*n_jobs', refit=True, return_train_score=True,\n",
       "             scoring='neg_root_mean_squared_error', verbose=0)"
      ]
     },
     "execution_count": 210,
     "metadata": {},
     "output_type": "execute_result"
    }
   ],
   "source": [
    "%time grid_svr.fit(X_train_scaled,y_train)"
   ]
  },
  {
   "cell_type": "code",
   "execution_count": 211,
   "metadata": {},
   "outputs": [
    {
     "name": "stdout",
     "output_type": "stream",
     "text": [
      "\n",
      "RMSE for an optimised Linear Support Vector : 86320.43\n",
      "\n",
      "The mean RMSE score for cross vlaidation : 109589.51\n",
      "\n",
      "RMSE for basic Stochastic Gradient Descent on test set : 84701.52\n"
     ]
    }
   ],
   "source": [
    "svr_reg = grid_svr.best_estimator_\n",
    "\n",
    "y_train_svr_reg_predict = svr_reg.predict(X_train_scaled)\n",
    "\n",
    "\n",
    "print(\"\\nRMSE for an optimised Linear Support Vector : {:0.2f}\".format(np.sqrt(mean_squared_error(y_train,y_train_svr_reg_predict))))\n",
    "print(\"\\nThe mean RMSE score for cross vlaidation : {:0.2f}\".format(-grid_svr.best_score_))\n",
    "\n",
    "y_val_svr_reg_predict = svr_reg.predict(X_val_scaled)\n",
    "print(\"\\nRMSE for basic Stochastic Gradient Descent on test set : {:0.2f}\".format(np.sqrt(mean_squared_error(y_val,y_val_svr_reg_predict))))"
   ]
  },
  {
   "cell_type": "markdown",
   "metadata": {},
   "source": [
    "We can see that we underfit our model, we have to select a stronger model. "
   ]
  },
  {
   "cell_type": "markdown",
   "metadata": {},
   "source": [
    "### Test the Decision Tree Regression"
   ]
  },
  {
   "cell_type": "code",
   "execution_count": 212,
   "metadata": {},
   "outputs": [],
   "source": [
    "from sklearn.tree import DecisionTreeRegressor\n",
    "\n",
    "tree_params = {'max_depth':np.arange(1,50,1)}\n",
    "\n",
    "\n",
    "grid_tree = GridSearchCV(DecisionTreeRegressor(),tree_params,cv=5,verbose=0,\n",
    "                        return_train_score=True,scoring='neg_root_mean_squared_error')\n"
   ]
  },
  {
   "cell_type": "code",
   "execution_count": 213,
   "metadata": {},
   "outputs": [
    {
     "name": "stdout",
     "output_type": "stream",
     "text": [
      "Wall time: 3.3 s\n"
     ]
    },
    {
     "data": {
      "text/plain": [
       "GridSearchCV(cv=5, error_score=nan,\n",
       "             estimator=DecisionTreeRegressor(ccp_alpha=0.0, criterion='mse',\n",
       "                                             max_depth=None, max_features=None,\n",
       "                                             max_leaf_nodes=None,\n",
       "                                             min_impurity_decrease=0.0,\n",
       "                                             min_impurity_split=None,\n",
       "                                             min_samples_leaf=1,\n",
       "                                             min_samples_split=2,\n",
       "                                             min_weight_fraction_leaf=0.0,\n",
       "                                             presort='deprecated',\n",
       "                                             random_state=None,\n",
       "                                             splitter='best'),\n",
       "             iid='deprecated', n_jobs=None,\n",
       "             param_grid={'max_depth': array([ 1,  2,  3,  4,  5,  6,  7,  8,  9, 10, 11, 12, 13, 14, 15, 16, 17,\n",
       "       18, 19, 20, 21, 22, 23, 24, 25, 26, 27, 28, 29, 30, 31, 32, 33, 34,\n",
       "       35, 36, 37, 38, 39, 40, 41, 42, 43, 44, 45, 46, 47, 48, 49])},\n",
       "             pre_dispatch='2*n_jobs', refit=True, return_train_score=True,\n",
       "             scoring='neg_root_mean_squared_error', verbose=0)"
      ]
     },
     "execution_count": 213,
     "metadata": {},
     "output_type": "execute_result"
    }
   ],
   "source": [
    "%time grid_tree.fit(X_train,y_train)"
   ]
  },
  {
   "cell_type": "code",
   "execution_count": 214,
   "metadata": {},
   "outputs": [
    {
     "name": "stdout",
     "output_type": "stream",
     "text": [
      "RMSE for an optimised Decision Tree : 18614.85\n",
      "\n",
      "The mean RMSE score for cross vlaidation : 29419.72\n",
      "\n",
      "RMSE for basic Stochastic Gradient Descent on test set : 31851.31\n"
     ]
    }
   ],
   "source": [
    "tree_reg = grid_tree.best_estimator_\n",
    "\n",
    "y_train_tree_reg_predict = tree_reg.predict(X_train)\n",
    "\n",
    "\n",
    "print(\"RMSE for an optimised Decision Tree : {:0.2f}\".format(np.sqrt(mean_squared_error(y_train,y_train_tree_reg_predict))))\n",
    "print(\"\\nThe mean RMSE score for cross vlaidation : {:0.2f}\".format(-grid_tree.best_score_))\n",
    "\n",
    "y_val_tree_reg_predict = tree_reg.predict(X_val)\n",
    "print(\"\\nRMSE for basic Stochastic Gradient Descent on test set : {:0.2f}\".format(np.sqrt(mean_squared_error(y_val,y_val_tree_reg_predict))))"
   ]
  },
  {
   "cell_type": "markdown",
   "metadata": {},
   "source": [
    "We overfit too much !"
   ]
  },
  {
   "cell_type": "markdown",
   "metadata": {},
   "source": [
    "### Test the Random Forest Regressor"
   ]
  },
  {
   "cell_type": "code",
   "execution_count": 215,
   "metadata": {},
   "outputs": [],
   "source": [
    "from sklearn.ensemble import RandomForestRegressor\n",
    "\n",
    "forest_params = {'n_estimators':[95],#np.arange(90,96,1),\n",
    "                 'max_depth':[9],#np.arange(8,10,1),\n",
    "                 #'min_samples_leaf':np.arange()\n",
    "                 #'min_samples_leaf':np.arange()    \n",
    "                }\n",
    "\n",
    "\n",
    "grid_forest = GridSearchCV(RandomForestRegressor(),forest_params,cv=5,verbose=0,\n",
    "                        return_train_score=True,scoring='neg_root_mean_squared_error')\n"
   ]
  },
  {
   "cell_type": "code",
   "execution_count": 216,
   "metadata": {},
   "outputs": [
    {
     "name": "stdout",
     "output_type": "stream",
     "text": [
      "Wall time: 4.53 s\n"
     ]
    },
    {
     "data": {
      "text/plain": [
       "GridSearchCV(cv=5, error_score=nan,\n",
       "             estimator=RandomForestRegressor(bootstrap=True, ccp_alpha=0.0,\n",
       "                                             criterion='mse', max_depth=None,\n",
       "                                             max_features='auto',\n",
       "                                             max_leaf_nodes=None,\n",
       "                                             max_samples=None,\n",
       "                                             min_impurity_decrease=0.0,\n",
       "                                             min_impurity_split=None,\n",
       "                                             min_samples_leaf=1,\n",
       "                                             min_samples_split=2,\n",
       "                                             min_weight_fraction_leaf=0.0,\n",
       "                                             n_estimators=100, n_jobs=None,\n",
       "                                             oob_score=False, random_state=None,\n",
       "                                             verbose=0, warm_start=False),\n",
       "             iid='deprecated', n_jobs=None,\n",
       "             param_grid={'max_depth': [9], 'n_estimators': [95]},\n",
       "             pre_dispatch='2*n_jobs', refit=True, return_train_score=True,\n",
       "             scoring='neg_root_mean_squared_error', verbose=0)"
      ]
     },
     "execution_count": 216,
     "metadata": {},
     "output_type": "execute_result"
    }
   ],
   "source": [
    "%time grid_forest.fit(X_train,y_train)"
   ]
  },
  {
   "cell_type": "code",
   "execution_count": 217,
   "metadata": {},
   "outputs": [
    {
     "name": "stdout",
     "output_type": "stream",
     "text": [
      "-21381.817122696993\n",
      "{'max_depth': 9, 'n_estimators': 95}\n"
     ]
    }
   ],
   "source": [
    "print(grid_forest.best_score_)\n",
    "print(grid_forest.best_params_)"
   ]
  },
  {
   "cell_type": "markdown",
   "metadata": {},
   "source": [
    "-30026.85529878788\n",
    "{'n_estimators': 96}\n",
    "\n",
    "-31199.293455766532\n",
    "{'max_depth': 9, 'n_estimators': 94}\n",
    "\n",
    "-31059.78340949902\n",
    "{'max_depth': 9, 'n_estimators': 96}\n",
    "\n",
    "1. For {'max_depth': 9, 'n_estimators': 91}\n",
    "    - RMSE for an optimised Random Forest : 13013.65\n",
    "    - The mean RMSE score for cross vlaidation : 30970.35\n",
    "    - RMSE for Random Forest on test set : 28050.14\n",
    "\n",
    "\n"
   ]
  },
  {
   "cell_type": "code",
   "execution_count": 218,
   "metadata": {
    "scrolled": true
   },
   "outputs": [
    {
     "name": "stdout",
     "output_type": "stream",
     "text": [
      "RMSE for an optimised Random Forest : 9480.27\n",
      "\n",
      "The mean RMSE score for cross vlaidation : 21381.82\n",
      "\n",
      "RMSE for Random Forest on test set : 24115.85\n"
     ]
    }
   ],
   "source": [
    "forest_reg = grid_forest.best_estimator_\n",
    "\n",
    "y_train_forest_reg_predict = forest_reg.predict(X_train)\n",
    "\n",
    "\n",
    "print(\"RMSE for an optimised Random Forest : {:0.2f}\".format(np.sqrt(mean_squared_error(y_train,y_train_forest_reg_predict))))\n",
    "print(\"\\nThe mean RMSE score for cross vlaidation : {:0.2f}\".format(-grid_forest.best_score_))\n",
    "\n",
    "y_val_forest_reg_predict = forest_reg.predict(X_val)\n",
    "print(\"\\nRMSE for Random Forest on test set : {:0.2f}\".format(np.sqrt(mean_squared_error(y_val,y_val_forest_reg_predict))))"
   ]
  },
  {
   "cell_type": "markdown",
   "metadata": {},
   "source": [
    "We can see that we overfit too much, we can try to reduce this overfitting by searching betters hyperparameters !"
   ]
  },
  {
   "cell_type": "markdown",
   "metadata": {},
   "source": [
    "### Test a Voting "
   ]
  },
  {
   "cell_type": "code",
   "execution_count": 246,
   "metadata": {},
   "outputs": [],
   "source": [
    "scaler = StandardScaler()\n",
    "X_train_scaled = scaler.fit_transform(X_train)\n",
    "X_val_scaled = scaler.transform(X_val)"
   ]
  },
  {
   "cell_type": "code",
   "execution_count": 277,
   "metadata": {},
   "outputs": [],
   "source": [
    "from sklearn.ensemble import VotingRegressor\n",
    "\n",
    "voting_params = {\n",
    "                    #'forest_reg__n_estimators':[40,50,60],\n",
    "                    #'sgd_reg__penalty':['elasticnet'],\n",
    "                    #'sgd_reg__alpha':np.linspace(0,1,10),\n",
    "                    #'sgd_reg__l1_ratio':np.linspace(0,1,10),\n",
    "                    'weights':[[2,0.8,1.5]],    \n",
    "                }\n",
    "\n",
    "\n",
    "Lst_estimators = [('lin_reg',lin_reg),\n",
    "                  ('forest_reg',forest_reg),\n",
    "                  ('bayesian_reg',bayesian_reg)\n",
    "                  #('tree_reg',tree_reg),\n",
    "                  #('sgd_reg',sgd_reg)\n",
    "                 ]\n",
    "\n",
    "grid_voting = GridSearchCV(VotingRegressor(Lst_estimators),voting_params,cv=7,verbose=2,\n",
    "                        return_train_score=True,scoring='neg_root_mean_squared_error',n_jobs=-1)\n",
    "\n",
    "#Choose between Scaled Data or not scale !\n",
    "SCALING = False"
   ]
  },
  {
   "cell_type": "code",
   "execution_count": 278,
   "metadata": {},
   "outputs": [
    {
     "name": "stdout",
     "output_type": "stream",
     "text": [
      "NOSCALING\n",
      "Fitting 7 folds for each of 1 candidates, totalling 7 fits\n"
     ]
    },
    {
     "name": "stderr",
     "output_type": "stream",
     "text": [
      "[Parallel(n_jobs=-1)]: Using backend LokyBackend with 8 concurrent workers.\n",
      "[Parallel(n_jobs=-1)]: Done   4 out of   7 | elapsed:    2.8s remaining:    2.1s\n",
      "[Parallel(n_jobs=-1)]: Done   7 out of   7 | elapsed:    2.9s finished\n"
     ]
    }
   ],
   "source": [
    "if SCALING:\n",
    "    print(\"SCALING\")\n",
    "    grid_voting.fit(X_train_scaled,y_train);\n",
    "else:\n",
    "    print(\"NOSCALING\")\n",
    "    grid_voting.fit(X_train,y_train)"
   ]
  },
  {
   "cell_type": "code",
   "execution_count": 281,
   "metadata": {},
   "outputs": [
    {
     "name": "stdout",
     "output_type": "stream",
     "text": [
      "NOSCALING\n",
      "RMSE for Voting Regressor: 24516.07\n",
      "\n",
      "The mean RMSE score for cross vlaidation : 29925.47\n",
      "\n",
      "RMSE for Voting Regressor on test set : 25304.97\n"
     ]
    }
   ],
   "source": [
    "voting_reg = grid_voting.best_estimator_\n",
    "\n",
    "if SCALING:\n",
    "    print(\"SCALING\")\n",
    "    voting_reg.fit(X_train_scaled,y_train) ;\n",
    "    y_voting_predict = voting_reg.predict(X_train_scaled)\n",
    "\n",
    "    print(\"RMSE for Voting Regressor : {:0.2f}\".format(np.sqrt(mean_squared_error(y_train,y_voting_predict))))\n",
    "    print(\"\\nThe mean RMSE score for cross vlaidation : {:0.2f}\".format(-grid_voting.best_score_))\n",
    "\n",
    "    y_val_voting_predict = voting_reg.predict(X_val_scaled)\n",
    "\n",
    "\n",
    "    print(\"\\nRMSE for Voting Regressor on test set : {:0.2f}\".format(np.sqrt(mean_squared_error(y_val,y_val_voting_predict)))) \n",
    "else:\n",
    "    print(\"NOSCALING\")\n",
    "    voting_reg.fit(X_train,y_train) ;\n",
    "    y_voting_predict = voting_reg.predict(X_train)\n",
    "\n",
    "    print(\"RMSE for Voting Regressor: {:0.2f}\".format(np.sqrt(mean_squared_error(y_train,y_voting_predict))))\n",
    "    print(\"\\nThe mean RMSE score for cross vlaidation : {:0.2f}\".format(-grid_voting.best_score_))\n",
    "\n",
    "    y_val_voting_predict = voting_reg.predict(X_val)\n",
    "\n",
    "\n",
    "    print(\"\\nRMSE for Voting Regressor on test set : {:0.2f}\".format(np.sqrt(mean_squared_error(y_val,y_val_voting_predict))))    "
   ]
  },
  {
   "cell_type": "markdown",
   "metadata": {},
   "source": [
    "# Final Model on Full Training Set "
   ]
  },
  {
   "cell_type": "code",
   "execution_count": 280,
   "metadata": {},
   "outputs": [
    {
     "name": "stdout",
     "output_type": "stream",
     "text": [
      "------------------------ ON FULL TRAINING SET ------------------------\n",
      "NOSCALING\n",
      "RMSE for Voting Regressor: 24037.37\n",
      "The mean RMSE score for cross vlaidation : 27841.23\n"
     ]
    }
   ],
   "source": [
    "Full_Training_Set_scaled = scaler.fit_transform(Full_Training_Set)\n",
    "print('------------------------ ON FULL TRAINING SET ------------------------')\n",
    "if SCALING:\n",
    "    print(\"SCALING\")\n",
    "    voting_reg.fit(Full_Training_Set_scaled,Train_y);\n",
    "\n",
    "    y_voting_predict = voting_reg.predict(Full_Training_Set_scaled)\n",
    "\n",
    "    print(\"RMSE for Voting Regressor: {:0.2f}\".format(np.sqrt(mean_squared_error(Train_y,y_voting_predict))))\n",
    "\n",
    "    voting_reg_cv = cross_val_score(voting_reg,Full_Training_Set_scaled,Train_y,scoring='neg_root_mean_squared_error',cv=8)\n",
    "    print(\"The mean RMSE score for cross vlaidation : {:0.2f}\".format(-voting_reg_cv.mean()))  \n",
    "    \n",
    "else:\n",
    "    print(\"NOSCALING\")\n",
    "    #Full_Training_Set_inter = Full_Training_Set.copy()\n",
    "    #Full_Training_Set = poly_features.fit_transform(Full_Training_Set_inter)\n",
    "    voting_reg.fit(Full_Training_Set,Train_y);\n",
    "    y_voting_predict = voting_reg.predict(Full_Training_Set)\n",
    "\n",
    "    print(\"RMSE for Voting Regressor: {:0.2f}\".format(np.sqrt(mean_squared_error(Train_y,y_voting_predict))))\n",
    "    voting_reg_cv = cross_val_score(voting_reg,Full_Training_Set,Train_y,scoring='neg_root_mean_squared_error',cv=8)\n",
    "    print(\"The mean RMSE score for cross vlaidation : {:0.2f}\".format(-voting_reg_cv.mean())) \n",
    "\n"
   ]
  },
  {
   "cell_type": "markdown",
   "metadata": {},
   "source": [
    "---------------------------------------------------------------------------------------"
   ]
  },
  {
   "cell_type": "markdown",
   "metadata": {},
   "source": [
    "## Optimisation with Feature Selection"
   ]
  },
  {
   "cell_type": "code",
   "execution_count": 60,
   "metadata": {},
   "outputs": [
    {
     "name": "stdout",
     "output_type": "stream",
     "text": [
      "[3, 16, 17, 18, 21, 22, 23, 25, 36, 39, 40, 42, 46, 47, 50]\n",
      "[3, 16, 17, 18, 21, 22, 23, 25, 36, 39, 40, 42, 46, 47, 50]\n"
     ]
    }
   ],
   "source": [
    "print(Best_features_lin)\n",
    "print(Best_features_sgd)"
   ]
  },
  {
   "cell_type": "code",
   "execution_count": 59,
   "metadata": {},
   "outputs": [
    {
     "name": "stdout",
     "output_type": "stream",
     "text": [
      "3\n",
      "16\n",
      "17\n",
      "18\n",
      "21\n",
      "22\n",
      "23\n",
      "25\n",
      "36\n",
      "39\n",
      "40\n",
      "42\n",
      "46\n",
      "47\n",
      "50\n"
     ]
    }
   ],
   "source": [
    "from sklearn.feature_selection import RFE\n",
    "\n",
    "rfe_sgd = RFE(sgd_reg,15).fit(X_train_scaled,y_train)\n",
    "\n",
    "Best_features_sgd = []\n",
    "for feature, support in zip(np.arange(0,X_train_scaled.shape[1]),rfe_forest.support_):\n",
    "    if support:\n",
    "        print(feature)\n",
    "        Best_features_sgd.append(feature)"
   ]
  },
  {
   "cell_type": "code",
   "execution_count": 56,
   "metadata": {},
   "outputs": [
    {
     "name": "stdout",
     "output_type": "stream",
     "text": [
      "3\n",
      "16\n",
      "17\n",
      "18\n",
      "21\n",
      "22\n",
      "23\n",
      "25\n",
      "36\n",
      "39\n",
      "40\n",
      "42\n",
      "46\n",
      "47\n",
      "50\n"
     ]
    }
   ],
   "source": [
    "from sklearn.feature_selection import RFE\n",
    "\n",
    "rfe_lin = RFE(lin_reg,15).fit(X_train,y_train)\n",
    "\n",
    "Best_features_lin = []\n",
    "for feature, support in zip(np.arange(0,X_train.shape[1]),rfe_lin.support_):\n",
    "    if support:\n",
    "        print(feature)\n",
    "        Best_features_lin.append(feature)"
   ]
  },
  {
   "cell_type": "code",
   "execution_count": 44,
   "metadata": {},
   "outputs": [
    {
     "name": "stdout",
     "output_type": "stream",
     "text": [
      "1\n",
      "2\n",
      "3\n",
      "5\n",
      "6\n",
      "8\n",
      "10\n",
      "11\n",
      "12\n",
      "15\n",
      "25\n",
      "26\n",
      "36\n",
      "37\n",
      "40\n"
     ]
    }
   ],
   "source": [
    "from sklearn.feature_selection import RFE\n",
    "\n",
    "rfe_forest = RFE(forest_reg,15).fit(X_train,y_train)\n",
    "\n",
    "Best_features = []\n",
    "for feature, support in zip(np.arange(0,X_train.shape[1]),rfe_forest.support_):\n",
    "    if support:\n",
    "        print(feature)\n",
    "        Best_features.append(feature)"
   ]
  },
  {
   "cell_type": "markdown",
   "metadata": {},
   "source": [
    "------------------------------------------"
   ]
  },
  {
   "cell_type": "markdown",
   "metadata": {},
   "source": [
    "# The Test set"
   ]
  },
  {
   "cell_type": "code",
   "execution_count": 225,
   "metadata": {},
   "outputs": [],
   "source": [
    "X_test = pd.read_csv('Dataset/test.csv')\n",
    "Test_set = X_test.drop(['Id'],axis=1)\n",
    "\n",
    "X_to_predict_full = Full_pipeline.transform(Test_set)"
   ]
  },
  {
   "cell_type": "code",
   "execution_count": 282,
   "metadata": {},
   "outputs": [
    {
     "name": "stdout",
     "output_type": "stream",
     "text": [
      "NOSCALING\n",
      "ESTIMATOR:\n",
      " [LinearRegression(copy_X=True, fit_intercept=True, n_jobs=None, normalize=False), RandomForestRegressor(bootstrap=True, ccp_alpha=0.0, criterion='mse',\n",
      "                      max_depth=9, max_features='auto', max_leaf_nodes=None,\n",
      "                      max_samples=None, min_impurity_decrease=0.0,\n",
      "                      min_impurity_split=None, min_samples_leaf=1,\n",
      "                      min_samples_split=2, min_weight_fraction_leaf=0.0,\n",
      "                      n_estimators=95, n_jobs=None, oob_score=False,\n",
      "                      random_state=None, verbose=0, warm_start=False), BayesianRidge(alpha_1=1e-05, alpha_2=1e-06, alpha_init=None,\n",
      "              compute_score=False, copy_X=True, fit_intercept=True,\n",
      "              lambda_1=1e-06, lambda_2=5.5e-06, lambda_init=None, n_iter=251,\n",
      "              normalize=False, tol=0.001, verbose=False)]\n"
     ]
    }
   ],
   "source": [
    "if SCALING:\n",
    "    print(\"SCALING\")\n",
    "    print(\"ESTIMATOR:\\n\",voting_reg.estimators_)\n",
    "    test_predictions_full = voting_reg.predict(scaler.transform(X_to_predict_full))\n",
    "else:\n",
    "    print(\"NOSCALING\")\n",
    "    #X_to_predict_full_inter = X_to_predict_full.copy()\n",
    "    #X_to_predict_full = poly_features.fit_transform(X_to_predict_full_inter)\n",
    "    print(\"ESTIMATOR:\\n\",voting_reg.estimators_)\n",
    "    test_predictions_full = voting_reg.predict(X_to_predict_full)"
   ]
  },
  {
   "cell_type": "code",
   "execution_count": 283,
   "metadata": {},
   "outputs": [
    {
     "name": "stdout",
     "output_type": "stream",
     "text": [
      "Warning: Looks like you're using an outdated API Version, please consider updating (server 1.5.10 / client 1.5.9)\n",
      "403 - Your team has used its submission allowance (40 of 40). This resets at midnight UTC (4.9 hours from now).\n"
     ]
    },
    {
     "name": "stderr",
     "output_type": "stream",
     "text": [
      "\n",
      "  0%|          | 0.00/35.0k [00:00<?, ?B/s]\n",
      "100%|##########| 35.0k/35.0k [00:05<00:00, 6.00kB/s]\n"
     ]
    }
   ],
   "source": [
    "output = pd.DataFrame({'Id': X_test.Id, 'SalePrice': test_predictions_full})\n",
    "\n",
    "output.to_csv('dataset/submission.csv', index=False)\n",
    "\n",
    "!kaggle competitions submit -c home-data-for-ml-course -f dataset/submission.csv -m \"Noscaling, voting, Bayesian+LinReg+RandomForest & treshold at 500k \""
   ]
  },
  {
   "cell_type": "code",
   "execution_count": null,
   "metadata": {},
   "outputs": [],
   "source": []
  }
 ],
 "metadata": {
  "kernelspec": {
   "display_name": "Python 3",
   "language": "python",
   "name": "python3"
  },
  "language_info": {
   "codemirror_mode": {
    "name": "ipython",
    "version": 3
   },
   "file_extension": ".py",
   "mimetype": "text/x-python",
   "name": "python",
   "nbconvert_exporter": "python",
   "pygments_lexer": "ipython3",
   "version": "3.7.6"
  }
 },
 "nbformat": 4,
 "nbformat_minor": 4
}
