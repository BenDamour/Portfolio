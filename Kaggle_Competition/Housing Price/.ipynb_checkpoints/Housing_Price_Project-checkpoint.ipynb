{
 "cells": [
  {
   "cell_type": "code",
   "execution_count": 1,
   "metadata": {},
   "outputs": [
    {
     "name": "stdout",
     "output_type": "stream",
     "text": [
      "MSSubClass: Identifies the type of dwelling involved in the sale.\t\n",
      "\n",
      "        20\t1-STORY 1946 & NEWER ALL STYLES\n",
      "        30\t1-STORY 1945 & OLDER\n",
      "        40\t1-STORY W/FINISHED ATTIC ALL AGES\n",
      "        45\t1-1/2 STORY - UNFINISHED ALL AGES\n",
      "        50\t1-1/2 STORY FINISHED ALL AGES\n",
      "        60\t2-STORY 1946 & NEWER\n",
      "        70\t2-STORY 1945 & OLDER\n",
      "        75\t2-1/2 STORY ALL AGES\n",
      "        80\tSPLIT OR MULTI-LEVEL\n",
      "        85\tSPLIT FOYER\n",
      "        90\tDUPLEX - ALL STYLES AND AGES\n",
      "       120\t1-STORY PUD (Planned Unit Development) - 1946 & NEWER\n",
      "       150\t1-1/2 STORY PUD - ALL AGES\n",
      "       160\t2-STORY PUD - 1946 & NEWER\n",
      "       180\tPUD - MULTILEVEL - INCL SPLIT LEV/FOYER\n",
      "       190\t2 FAMILY CONVERSION - ALL STYLES AND AGES\n",
      "\n",
      "MSZoning: Identifies the general zoning classification of the sale.\n",
      "\t\t\n",
      "       A\tAgriculture\n",
      "       C\tCommercial\n",
      "       FV\tFloating Village Residential\n",
      "       I\tIndustrial\n",
      "       RH\tResidential High Density\n",
      "       RL\tResidential Low Density\n",
      "       RP\tResidential Low Density Park \n",
      "       RM\tResidential Medium Density\n",
      "\t\n",
      "LotFrontage: Linear feet of street connected to property\n",
      "\n",
      "LotArea: Lot size in square feet\n",
      "\n",
      "Street: Type of road access to property\n",
      "\n",
      "       Grvl\tGravel\t\n",
      "       Pave\tPaved\n",
      "       \t\n",
      "Alley: Type of alley access to property\n",
      "\n",
      "       Grvl\tGravel\n",
      "       Pave\tPaved\n",
      "       NA \tNo alley access\n",
      "\t\t\n",
      "LotShape: General shape of property\n",
      "\n",
      "       Reg\tRegular\t\n",
      "       IR1\tSlightly irregular\n",
      "       IR2\tModerately Irregular\n",
      "       IR3\tIrregular\n",
      "       \n",
      "LandContour: Flatness of the property\n",
      "\n",
      "       Lvl\tNear Flat/Level\t\n",
      "       Bnk\tBanked - Quick and significant rise from street grade to building\n",
      "       HLS\tHillside - Significant slope from side to side\n",
      "       Low\tDepression\n",
      "\t\t\n",
      "Utilities: Type of utilities available\n",
      "\t\t\n",
      "       AllPub\tAll public Utilities (E,G,W,& S)\t\n",
      "       NoSewr\tElectricity, Gas, and Water (Septic Tank)\n",
      "       NoSeWa\tElectricity and Gas Only\n",
      "       ELO\tElectricity only\t\n",
      "\t\n",
      "LotConfig: Lot configuration\n",
      "\n",
      "       Inside\tInside lot\n",
      "       Corner\tCorner lot\n",
      "       CulDSac\tCul-de-sac\n",
      "       FR2\tFrontage on 2 sides of property\n",
      "       FR3\tFrontage on 3 sides of property\n",
      "\t\n",
      "LandSlope: Slope of property\n",
      "\t\t\n",
      "       Gtl\tGentle slope\n",
      "       Mod\tModerate Slope\t\n",
      "       Sev\tSevere Slope\n",
      "\t\n",
      "Neighborhood: Physical locations within Ames city limits\n",
      "\n",
      "       Blmngtn\tBloomington Heights\n",
      "       Blueste\tBluestem\n",
      "       BrDale\tBriardale\n",
      "       BrkSide\tBrookside\n",
      "       ClearCr\tClear Creek\n",
      "       CollgCr\tCollege Creek\n",
      "       Crawfor\tCrawford\n",
      "       Edwards\tEdwards\n",
      "       Gilbert\tGilbert\n",
      "       IDOTRR\tIowa DOT and Rail Road\n",
      "       MeadowV\tMeadow Village\n",
      "       Mitchel\tMitchell\n",
      "       Names\tNorth Ames\n",
      "       NoRidge\tNorthridge\n",
      "       NPkVill\tNorthpark Villa\n",
      "       NridgHt\tNorthridge Heights\n",
      "       NWAmes\tNorthwest Ames\n",
      "       OldTown\tOld Town\n",
      "       SWISU\tSouth & West of Iowa State University\n",
      "       Sawyer\tSawyer\n",
      "       SawyerW\tSawyer West\n",
      "       Somerst\tSomerset\n",
      "       StoneBr\tStone Brook\n",
      "       Timber\tTimberland\n",
      "       Veenker\tVeenker\n",
      "\t\t\t\n",
      "Condition1: Proximity to various conditions\n",
      "\t\n",
      "       Artery\tAdjacent to arterial street\n",
      "       Feedr\tAdjacent to feeder street\t\n",
      "       Norm\tNormal\t\n",
      "       RRNn\tWithin 200' of North-South Railroad\n",
      "       RRAn\tAdjacent to North-South Railroad\n",
      "       PosN\tNear positive off-site feature--park, greenbelt, etc.\n",
      "       PosA\tAdjacent to postive off-site feature\n",
      "       RRNe\tWithin 200' of East-West Railroad\n",
      "       RRAe\tAdjacent to East-West Railroad\n",
      "\t\n",
      "Condition2: Proximity to various conditions (if more than one is present)\n",
      "\t\t\n",
      "       Artery\tAdjacent to arterial street\n",
      "       Feedr\tAdjacent to feeder street\t\n",
      "       Norm\tNormal\t\n",
      "       RRNn\tWithin 200' of North-South Railroad\n",
      "       RRAn\tAdjacent to North-South Railroad\n",
      "       PosN\tNear positive off-site feature--park, greenbelt, etc.\n",
      "       PosA\tAdjacent to postive off-site feature\n",
      "       RRNe\tWithin 200' of East-West Railroad\n",
      "       RRAe\tAdjacent to East-West Railroad\n",
      "\t\n",
      "BldgType: Type of dwelling\n",
      "\t\t\n",
      "       1Fam\tSingle-family Detached\t\n",
      "       2FmCon\tTwo-family Conversion; originally built as one-family dwelling\n",
      "       Duplx\tDuplex\n",
      "       TwnhsE\tTownhouse End Unit\n",
      "       TwnhsI\tTownhouse Inside Unit\n",
      "\t\n",
      "HouseStyle: Style of dwelling\n",
      "\t\n",
      "       1Story\tOne story\n",
      "       1.5Fin\tOne and one-half story: 2nd level finished\n",
      "       1.5Unf\tOne and one-half story: 2nd level unfinished\n",
      "       2Story\tTwo story\n",
      "       2.5Fin\tTwo and one-half story: 2nd level finished\n",
      "       2.5Unf\tTwo and one-half story: 2nd level unfinished\n",
      "       SFoyer\tSplit Foyer\n",
      "       SLvl\tSplit Level\n",
      "\t\n",
      "OverallQual: Rates the overall material and finish of the house\n",
      "\n",
      "       10\tVery Excellent\n",
      "       9\tExcellent\n",
      "       8\tVery Good\n",
      "       7\tGood\n",
      "       6\tAbove Average\n",
      "       5\tAverage\n",
      "       4\tBelow Average\n",
      "       3\tFair\n",
      "       2\tPoor\n",
      "       1\tVery Poor\n",
      "\t\n",
      "OverallCond: Rates the overall condition of the house\n",
      "\n",
      "       10\tVery Excellent\n",
      "       9\tExcellent\n",
      "       8\tVery Good\n",
      "       7\tGood\n",
      "       6\tAbove Average\t\n",
      "       5\tAverage\n",
      "       4\tBelow Average\t\n",
      "       3\tFair\n",
      "       2\tPoor\n",
      "       1\tVery Poor\n",
      "\t\t\n",
      "YearBuilt: Original construction date\n",
      "\n",
      "YearRemodAdd: Remodel date (same as construction date if no remodeling or additions)\n",
      "\n",
      "RoofStyle: Type of roof\n",
      "\n",
      "       Flat\tFlat\n",
      "       Gable\tGable\n",
      "       Gambrel\tGabrel (Barn)\n",
      "       Hip\tHip\n",
      "       Mansard\tMansard\n",
      "       Shed\tShed\n",
      "\t\t\n",
      "RoofMatl: Roof material\n",
      "\n",
      "       ClyTile\tClay or Tile\n",
      "       CompShg\tStandard (Composite) Shingle\n",
      "       Membran\tMembrane\n",
      "       Metal\tMetal\n",
      "       Roll\tRoll\n",
      "       Tar&Grv\tGravel & Tar\n",
      "       WdShake\tWood Shakes\n",
      "       WdShngl\tWood Shingles\n",
      "\t\t\n",
      "Exterior1st: Exterior covering on house\n",
      "\n",
      "       AsbShng\tAsbestos Shingles\n",
      "       AsphShn\tAsphalt Shingles\n",
      "       BrkComm\tBrick Common\n",
      "       BrkFace\tBrick Face\n",
      "       CBlock\tCinder Block\n",
      "       CemntBd\tCement Board\n",
      "       HdBoard\tHard Board\n",
      "       ImStucc\tImitation Stucco\n",
      "       MetalSd\tMetal Siding\n",
      "       Other\tOther\n",
      "       Plywood\tPlywood\n",
      "       PreCast\tPreCast\t\n",
      "       Stone\tStone\n",
      "       Stucco\tStucco\n",
      "       VinylSd\tVinyl Siding\n",
      "       Wd Sdng\tWood Siding\n",
      "       WdShing\tWood Shingles\n",
      "\t\n",
      "Exterior2nd: Exterior covering on house (if more than one material)\n",
      "\n",
      "       AsbShng\tAsbestos Shingles\n",
      "       AsphShn\tAsphalt Shingles\n",
      "       BrkComm\tBrick Common\n",
      "       BrkFace\tBrick Face\n",
      "       CBlock\tCinder Block\n",
      "       CemntBd\tCement Board\n",
      "       HdBoard\tHard Board\n",
      "       ImStucc\tImitation Stucco\n",
      "       MetalSd\tMetal Siding\n",
      "       Other\tOther\n",
      "       Plywood\tPlywood\n",
      "       PreCast\tPreCast\n",
      "       Stone\tStone\n",
      "       Stucco\tStucco\n",
      "       VinylSd\tVinyl Siding\n",
      "       Wd Sdng\tWood Siding\n",
      "       WdShing\tWood Shingles\n",
      "\t\n",
      "MasVnrType: Masonry veneer type\n",
      "\n",
      "       BrkCmn\tBrick Common\n",
      "       BrkFace\tBrick Face\n",
      "       CBlock\tCinder Block\n",
      "       None\tNone\n",
      "       Stone\tStone\n",
      "\t\n",
      "MasVnrArea: Masonry veneer area in square feet\n",
      "\n",
      "ExterQual: Evaluates the quality of the material on the exterior \n",
      "\t\t\n",
      "       Ex\tExcellent\n",
      "       Gd\tGood\n",
      "       TA\tAverage/Typical\n",
      "       Fa\tFair\n",
      "       Po\tPoor\n",
      "\t\t\n",
      "ExterCond: Evaluates the present condition of the material on the exterior\n",
      "\t\t\n",
      "       Ex\tExcellent\n",
      "       Gd\tGood\n",
      "       TA\tAverage/Typical\n",
      "       Fa\tFair\n",
      "       Po\tPoor\n",
      "\t\t\n",
      "Foundation: Type of foundation\n",
      "\t\t\n",
      "       BrkTil\tBrick & Tile\n",
      "       CBlock\tCinder Block\n",
      "       PConc\tPoured Contrete\t\n",
      "       Slab\tSlab\n",
      "       Stone\tStone\n",
      "       Wood\tWood\n",
      "\t\t\n",
      "BsmtQual: Evaluates the height of the basement\n",
      "\n",
      "       Ex\tExcellent (100+ inches)\t\n",
      "       Gd\tGood (90-99 inches)\n",
      "       TA\tTypical (80-89 inches)\n",
      "       Fa\tFair (70-79 inches)\n",
      "       Po\tPoor (<70 inches\n",
      "       NA\tNo Basement\n",
      "\t\t\n",
      "BsmtCond: Evaluates the general condition of the basement\n",
      "\n",
      "       Ex\tExcellent\n",
      "       Gd\tGood\n",
      "       TA\tTypical - slight dampness allowed\n",
      "       Fa\tFair - dampness or some cracking or settling\n",
      "       Po\tPoor - Severe cracking, settling, or wetness\n",
      "       NA\tNo Basement\n",
      "\t\n",
      "BsmtExposure: Refers to walkout or garden level walls\n",
      "\n",
      "       Gd\tGood Exposure\n",
      "       Av\tAverage Exposure (split levels or foyers typically score average or above)\t\n",
      "       Mn\tMimimum Exposure\n",
      "       No\tNo Exposure\n",
      "       NA\tNo Basement\n",
      "\t\n",
      "BsmtFinType1: Rating of basement finished area\n",
      "\n",
      "       GLQ\tGood Living Quarters\n",
      "       ALQ\tAverage Living Quarters\n",
      "       BLQ\tBelow Average Living Quarters\t\n",
      "       Rec\tAverage Rec Room\n",
      "       LwQ\tLow Quality\n",
      "       Unf\tUnfinshed\n",
      "       NA\tNo Basement\n",
      "\t\t\n",
      "BsmtFinSF1: Type 1 finished square feet\n",
      "\n",
      "BsmtFinType2: Rating of basement finished area (if multiple types)\n",
      "\n",
      "       GLQ\tGood Living Quarters\n",
      "       ALQ\tAverage Living Quarters\n",
      "       BLQ\tBelow Average Living Quarters\t\n",
      "       Rec\tAverage Rec Room\n",
      "       LwQ\tLow Quality\n",
      "       Unf\tUnfinshed\n",
      "       NA\tNo Basement\n",
      "\n",
      "BsmtFinSF2: Type 2 finished square feet\n",
      "\n",
      "BsmtUnfSF: Unfinished square feet of basement area\n",
      "\n",
      "TotalBsmtSF: Total square feet of basement area\n",
      "\n",
      "Heating: Type of heating\n",
      "\t\t\n",
      "       Floor\tFloor Furnace\n",
      "       GasA\tGas forced warm air furnace\n",
      "       GasW\tGas hot water or steam heat\n",
      "       Grav\tGravity furnace\t\n",
      "       OthW\tHot water or steam heat other than gas\n",
      "       Wall\tWall furnace\n",
      "\t\t\n",
      "HeatingQC: Heating quality and condition\n",
      "\n",
      "       Ex\tExcellent\n",
      "       Gd\tGood\n",
      "       TA\tAverage/Typical\n",
      "       Fa\tFair\n",
      "       Po\tPoor\n",
      "\t\t\n",
      "CentralAir: Central air conditioning\n",
      "\n",
      "       N\tNo\n",
      "       Y\tYes\n",
      "\t\t\n",
      "Electrical: Electrical system\n",
      "\n",
      "       SBrkr\tStandard Circuit Breakers & Romex\n",
      "       FuseA\tFuse Box over 60 AMP and all Romex wiring (Average)\t\n",
      "       FuseF\t60 AMP Fuse Box and mostly Romex wiring (Fair)\n",
      "       FuseP\t60 AMP Fuse Box and mostly knob & tube wiring (poor)\n",
      "       Mix\tMixed\n",
      "\t\t\n",
      "1stFlrSF: First Floor square feet\n",
      " \n",
      "2ndFlrSF: Second floor square feet\n",
      "\n",
      "LowQualFinSF: Low quality finished square feet (all floors)\n",
      "\n",
      "GrLivArea: Above grade (ground) living area square feet\n",
      "\n",
      "BsmtFullBath: Basement full bathrooms\n",
      "\n",
      "BsmtHalfBath: Basement half bathrooms\n",
      "\n",
      "FullBath: Full bathrooms above grade\n",
      "\n",
      "HalfBath: Half baths above grade\n",
      "\n",
      "Bedroom: Bedrooms above grade (does NOT include basement bedrooms)\n",
      "\n",
      "Kitchen: Kitchens above grade\n",
      "\n",
      "KitchenQual: Kitchen quality\n",
      "\n",
      "       Ex\tExcellent\n",
      "       Gd\tGood\n",
      "       TA\tTypical/Average\n",
      "       Fa\tFair\n",
      "       Po\tPoor\n",
      "       \t\n",
      "TotRmsAbvGrd: Total rooms above grade (does not include bathrooms)\n",
      "\n",
      "Functional: Home functionality (Assume typical unless deductions are warranted)\n",
      "\n",
      "       Typ\tTypical Functionality\n",
      "       Min1\tMinor Deductions 1\n",
      "       Min2\tMinor Deductions 2\n",
      "       Mod\tModerate Deductions\n",
      "       Maj1\tMajor Deductions 1\n",
      "       Maj2\tMajor Deductions 2\n",
      "       Sev\tSeverely Damaged\n",
      "       Sal\tSalvage only\n",
      "\t\t\n",
      "Fireplaces: Number of fireplaces\n",
      "\n",
      "FireplaceQu: Fireplace quality\n",
      "\n",
      "       Ex\tExcellent - Exceptional Masonry Fireplace\n",
      "       Gd\tGood - Masonry Fireplace in main level\n",
      "       TA\tAverage - Prefabricated Fireplace in main living area or Masonry Fireplace in basement\n",
      "       Fa\tFair - Prefabricated Fireplace in basement\n",
      "       Po\tPoor - Ben Franklin Stove\n",
      "       NA\tNo Fireplace\n",
      "\t\t\n",
      "GarageType: Garage location\n",
      "\t\t\n",
      "       2Types\tMore than one type of garage\n",
      "       Attchd\tAttached to home\n",
      "       Basment\tBasement Garage\n",
      "       BuiltIn\tBuilt-In (Garage part of house - typically has room above garage)\n",
      "       CarPort\tCar Port\n",
      "       Detchd\tDetached from home\n",
      "       NA\tNo Garage\n",
      "\t\t\n",
      "GarageYrBlt: Year garage was built\n",
      "\t\t\n",
      "GarageFinish: Interior finish of the garage\n",
      "\n",
      "       Fin\tFinished\n",
      "       RFn\tRough Finished\t\n",
      "       Unf\tUnfinished\n",
      "       NA\tNo Garage\n",
      "\t\t\n",
      "GarageCars: Size of garage in car capacity\n",
      "\n",
      "GarageArea: Size of garage in square feet\n",
      "\n",
      "GarageQual: Garage quality\n",
      "\n",
      "       Ex\tExcellent\n",
      "       Gd\tGood\n",
      "       TA\tTypical/Average\n",
      "       Fa\tFair\n",
      "       Po\tPoor\n",
      "       NA\tNo Garage\n",
      "\t\t\n",
      "GarageCond: Garage condition\n",
      "\n",
      "       Ex\tExcellent\n",
      "       Gd\tGood\n",
      "       TA\tTypical/Average\n",
      "       Fa\tFair\n",
      "       Po\tPoor\n",
      "       NA\tNo Garage\n",
      "\t\t\n",
      "PavedDrive: Paved driveway\n",
      "\n",
      "       Y\tPaved \n",
      "       P\tPartial Pavement\n",
      "       N\tDirt/Gravel\n",
      "\t\t\n",
      "WoodDeckSF: Wood deck area in square feet\n",
      "\n",
      "OpenPorchSF: Open porch area in square feet\n",
      "\n",
      "EnclosedPorch: Enclosed porch area in square feet\n",
      "\n",
      "3SsnPorch: Three season porch area in square feet\n",
      "\n",
      "ScreenPorch: Screen porch area in square feet\n",
      "\n",
      "PoolArea: Pool area in square feet\n",
      "\n",
      "PoolQC: Pool quality\n",
      "\t\t\n",
      "       Ex\tExcellent\n",
      "       Gd\tGood\n",
      "       TA\tAverage/Typical\n",
      "       Fa\tFair\n",
      "       NA\tNo Pool\n",
      "\t\t\n",
      "Fence: Fence quality\n",
      "\t\t\n",
      "       GdPrv\tGood Privacy\n",
      "       MnPrv\tMinimum Privacy\n",
      "       GdWo\tGood Wood\n",
      "       MnWw\tMinimum Wood/Wire\n",
      "       NA\tNo Fence\n",
      "\t\n",
      "MiscFeature: Miscellaneous feature not covered in other categories\n",
      "\t\t\n",
      "       Elev\tElevator\n",
      "       Gar2\t2nd Garage (if not described in garage section)\n",
      "       Othr\tOther\n",
      "       Shed\tShed (over 100 SF)\n",
      "       TenC\tTennis Court\n",
      "       NA\tNone\n",
      "\t\t\n",
      "MiscVal: $Value of miscellaneous feature\n",
      "\n",
      "MoSold: Month Sold (MM)\n",
      "\n",
      "YrSold: Year Sold (YYYY)\n",
      "\n",
      "SaleType: Type of sale\n",
      "\t\t\n",
      "       WD \tWarranty Deed - Conventional\n",
      "       CWD\tWarranty Deed - Cash\n",
      "       VWD\tWarranty Deed - VA Loan\n",
      "       New\tHome just constructed and sold\n",
      "       COD\tCourt Officer Deed/Estate\n",
      "       Con\tContract 15% Down payment regular terms\n",
      "       ConLw\tContract Low Down payment and low interest\n",
      "       ConLI\tContract Low Interest\n",
      "       ConLD\tContract Low Down\n",
      "       Oth\tOther\n",
      "\t\t\n",
      "SaleCondition: Condition of sale\n",
      "\n",
      "       Normal\tNormal Sale\n",
      "       Abnorml\tAbnormal Sale -  trade, foreclosure, short sale\n",
      "       AdjLand\tAdjoining Land Purchase\n",
      "       Alloca\tAllocation - two linked properties with separate deeds, typically condo with a garage unit\t\n",
      "       Family\tSale between family members\n",
      "       Partial\tHome was not completed when last assessed (associated with New Homes)\n",
      "\n"
     ]
    }
   ],
   "source": [
    "file = open('Dataset/data_description.txt','r')\n",
    "print(file.read())"
   ]
  },
  {
   "cell_type": "code",
   "execution_count": 2,
   "metadata": {},
   "outputs": [],
   "source": [
    "import pandas as pd \n",
    "import numpy as np\n",
    "import matplotlib.pyplot as plt \n",
    "import seaborn as sns\n",
    "\n",
    "Train_set = pd.read_csv('Dataset/train.csv')\n",
    "\n",
    "Train_y = Train_set.SalePrice\n",
    "Train_set.drop(['SalePrice','Id'],axis=1,inplace=True)"
   ]
  },
  {
   "cell_type": "code",
   "execution_count": 3,
   "metadata": {},
   "outputs": [
    {
     "name": "stdout",
     "output_type": "stream",
     "text": [
      "<class 'pandas.core.frame.DataFrame'>\n",
      "RangeIndex: 1460 entries, 0 to 1459\n",
      "Data columns (total 79 columns):\n",
      " #   Column         Non-Null Count  Dtype  \n",
      "---  ------         --------------  -----  \n",
      " 0   MSSubClass     1460 non-null   int64  \n",
      " 1   MSZoning       1460 non-null   object \n",
      " 2   LotFrontage    1201 non-null   float64\n",
      " 3   LotArea        1460 non-null   int64  \n",
      " 4   Street         1460 non-null   object \n",
      " 5   Alley          91 non-null     object \n",
      " 6   LotShape       1460 non-null   object \n",
      " 7   LandContour    1460 non-null   object \n",
      " 8   Utilities      1460 non-null   object \n",
      " 9   LotConfig      1460 non-null   object \n",
      " 10  LandSlope      1460 non-null   object \n",
      " 11  Neighborhood   1460 non-null   object \n",
      " 12  Condition1     1460 non-null   object \n",
      " 13  Condition2     1460 non-null   object \n",
      " 14  BldgType       1460 non-null   object \n",
      " 15  HouseStyle     1460 non-null   object \n",
      " 16  OverallQual    1460 non-null   int64  \n",
      " 17  OverallCond    1460 non-null   int64  \n",
      " 18  YearBuilt      1460 non-null   int64  \n",
      " 19  YearRemodAdd   1460 non-null   int64  \n",
      " 20  RoofStyle      1460 non-null   object \n",
      " 21  RoofMatl       1460 non-null   object \n",
      " 22  Exterior1st    1460 non-null   object \n",
      " 23  Exterior2nd    1460 non-null   object \n",
      " 24  MasVnrType     1452 non-null   object \n",
      " 25  MasVnrArea     1452 non-null   float64\n",
      " 26  ExterQual      1460 non-null   object \n",
      " 27  ExterCond      1460 non-null   object \n",
      " 28  Foundation     1460 non-null   object \n",
      " 29  BsmtQual       1423 non-null   object \n",
      " 30  BsmtCond       1423 non-null   object \n",
      " 31  BsmtExposure   1422 non-null   object \n",
      " 32  BsmtFinType1   1423 non-null   object \n",
      " 33  BsmtFinSF1     1460 non-null   int64  \n",
      " 34  BsmtFinType2   1422 non-null   object \n",
      " 35  BsmtFinSF2     1460 non-null   int64  \n",
      " 36  BsmtUnfSF      1460 non-null   int64  \n",
      " 37  TotalBsmtSF    1460 non-null   int64  \n",
      " 38  Heating        1460 non-null   object \n",
      " 39  HeatingQC      1460 non-null   object \n",
      " 40  CentralAir     1460 non-null   object \n",
      " 41  Electrical     1459 non-null   object \n",
      " 42  1stFlrSF       1460 non-null   int64  \n",
      " 43  2ndFlrSF       1460 non-null   int64  \n",
      " 44  LowQualFinSF   1460 non-null   int64  \n",
      " 45  GrLivArea      1460 non-null   int64  \n",
      " 46  BsmtFullBath   1460 non-null   int64  \n",
      " 47  BsmtHalfBath   1460 non-null   int64  \n",
      " 48  FullBath       1460 non-null   int64  \n",
      " 49  HalfBath       1460 non-null   int64  \n",
      " 50  BedroomAbvGr   1460 non-null   int64  \n",
      " 51  KitchenAbvGr   1460 non-null   int64  \n",
      " 52  KitchenQual    1460 non-null   object \n",
      " 53  TotRmsAbvGrd   1460 non-null   int64  \n",
      " 54  Functional     1460 non-null   object \n",
      " 55  Fireplaces     1460 non-null   int64  \n",
      " 56  FireplaceQu    770 non-null    object \n",
      " 57  GarageType     1379 non-null   object \n",
      " 58  GarageYrBlt    1379 non-null   float64\n",
      " 59  GarageFinish   1379 non-null   object \n",
      " 60  GarageCars     1460 non-null   int64  \n",
      " 61  GarageArea     1460 non-null   int64  \n",
      " 62  GarageQual     1379 non-null   object \n",
      " 63  GarageCond     1379 non-null   object \n",
      " 64  PavedDrive     1460 non-null   object \n",
      " 65  WoodDeckSF     1460 non-null   int64  \n",
      " 66  OpenPorchSF    1460 non-null   int64  \n",
      " 67  EnclosedPorch  1460 non-null   int64  \n",
      " 68  3SsnPorch      1460 non-null   int64  \n",
      " 69  ScreenPorch    1460 non-null   int64  \n",
      " 70  PoolArea       1460 non-null   int64  \n",
      " 71  PoolQC         7 non-null      object \n",
      " 72  Fence          281 non-null    object \n",
      " 73  MiscFeature    54 non-null     object \n",
      " 74  MiscVal        1460 non-null   int64  \n",
      " 75  MoSold         1460 non-null   int64  \n",
      " 76  YrSold         1460 non-null   int64  \n",
      " 77  SaleType       1460 non-null   object \n",
      " 78  SaleCondition  1460 non-null   object \n",
      "dtypes: float64(3), int64(33), object(43)\n",
      "memory usage: 901.2+ KB\n"
     ]
    }
   ],
   "source": [
    "Train_set.info() "
   ]
  },
  {
   "cell_type": "code",
   "execution_count": 3,
   "metadata": {
    "scrolled": false
   },
   "outputs": [
    {
     "name": "stdout",
     "output_type": "stream",
     "text": [
      "count      1460.000000\n",
      "mean     180921.195890\n",
      "std       79442.502883\n",
      "min       34900.000000\n",
      "25%      129975.000000\n",
      "50%      163000.000000\n",
      "75%      214000.000000\n",
      "max      755000.000000\n",
      "Name: SalePrice, dtype: float64 \n",
      "\n",
      "Treshold = 600,000 $\n",
      "False    1456\n",
      "True        4\n",
      "Name: SalePrice, dtype: int64\n"
     ]
    },
    {
     "data": {
      "text/plain": [
       "<matplotlib.axes._subplots.AxesSubplot at 0x158df8a9888>"
      ]
     },
     "execution_count": 3,
     "metadata": {},
     "output_type": "execute_result"
    },
    {
     "data": {
      "image/png": "[encoded data removed]",
      "text/plain": [
       "<Figure size 432x288 with 1 Axes>"
      ]
     },
     "metadata": {
      "needs_background": "light"
     },
     "output_type": "display_data"
    }
   ],
   "source": [
    "print(Train_y.describe(),'\\n')\n",
    "treshold = 600 *1000\n",
    "\n",
    "print('Treshold = {:3,.0f} $'.format(treshold))\n",
    "print((Train_y>treshold).value_counts())\n",
    "sns.boxplot(Train_y)"
   ]
  },
  {
   "cell_type": "markdown",
   "metadata": {},
   "source": [
    "Remove outliers !!"
   ]
  },
  {
   "cell_type": "code",
   "execution_count": 4,
   "metadata": {},
   "outputs": [],
   "source": [
    "Train_set = pd.DataFrame(Train_set[Train_y<treshold],columns=Train_set.columns)\n",
    "Train_y = pd.Series(Train_y[Train_y<treshold].values)"
   ]
  },
  {
   "cell_type": "markdown",
   "metadata": {},
   "source": [
    "We have 1460 instances and 80 features. \n",
    "\n",
    "Let's handle only the numerical columns. "
   ]
  },
  {
   "cell_type": "markdown",
   "metadata": {},
   "source": [
    "# First : EDA on numerical features"
   ]
  },
  {
   "cell_type": "markdown",
   "metadata": {},
   "source": [
    "We try to complete the NaN values with the SimpleIputer"
   ]
  },
  {
   "cell_type": "code",
   "execution_count": null,
   "metadata": {},
   "outputs": [],
   "source": [
    "from sklearn.impute import SimpleImputer\n",
    "\n",
    "imput_num = SimpleImputer(strategy='median')\n",
    "\n",
    "Train_set_num = Train_set.select_dtypes(exclude='object')\n",
    "\n",
    "Train_set_num_full = imput_num.fit_transform(Train_set_num)\n",
    "Train_set_num_full = pd.DataFrame(Train_set_num_full,columns=Train_set_num.columns)"
   ]
  },
  {
   "cell_type": "code",
   "execution_count": null,
   "metadata": {},
   "outputs": [],
   "source": [
    "Train_set_num_full.describe().T"
   ]
  },
  {
   "cell_type": "code",
   "execution_count": null,
   "metadata": {
    "scrolled": false
   },
   "outputs": [],
   "source": [
    "Train_set_num_full_EDA = pd.concat([Train_set_num_full,Train_y],axis=1)"
   ]
  },
  {
   "cell_type": "markdown",
   "metadata": {},
   "source": [
    "## Let's analyse in details the numerical features. "
   ]
  },
  {
   "cell_type": "markdown",
   "metadata": {},
   "source": [
    "0   Id             1460 non-null   int64  \n",
    "\n",
    " 1   MSSubClass     1460 non-null   int64  \n",
    "MSSubClass: Identifies the type of dwelling involved in the sale.\n",
    "\n",
    "\n",
    " 3   LotFrontage    1201 non-null   float64\n",
    " LotFrontage: Linear feet of street connected to property\n",
    " \n",
    " \n",
    " 4   LotArea        1460 non-null   int64 \n",
    " LotArea: Lot size in square feet\n",
    " \n",
    " \n",
    " \n",
    " 17  OverallQual    1460 non-null   int64  \n",
    " Rates the overall material and finish of the house\n",
    " \n",
    " 18  OverallCond    1460 non-null   int64  \n",
    " Rates the overall condition of the house\n",
    " \n",
    " \n",
    " \n",
    " 19  YearBuilt      1460 non-null   int64  \n",
    " YearBuilt: Original construction date\n",
    " \n",
    " \n",
    " \n",
    " 20  YearRemodAdd   1460 non-null   int64 \n",
    "YearRemodAdd: Remodel date (same as construction date if no remodeling or additions)\n",
    "\n",
    "\n",
    " 26  MasVnrArea     1452 non-null   float64 (brique, maçonnerie)\n",
    "MasVnrArea: Masonry veneer area in square feet\n",
    "\n",
    " 34  BsmtFinSF1     1460 non-null   int64 \n",
    "BsmtFinSF1: Type 1 finished square feet \n",
    "\n",
    " \n",
    " 36  BsmtFinSF2     1460 non-null   int64 \n",
    "BsmtFinSF2: Type 2 finished square feet\n",
    " \n",
    " 37  BsmtUnfSF      1460 non-null   int64 \n",
    " BsmtUnfSF: Unfinished square feet of basement area\n",
    " \n",
    " \n",
    " 38  TotalBsmtSF    1460 non-null   int64 \n",
    " TotalBsmtSF: Total square feet of basement area\n",
    " \n",
    " \n",
    " 43  1stFlrSF       1460 non-null   int64  \n",
    " 1stFlrSF: First Floor square feet\n",
    "\n",
    " 44  2ndFlrSF       1460 non-null   int64 \n",
    "2ndFlrSF: Second floor square feet\n",
    "\n",
    "\n",
    " 45  LowQualFinSF   1460 non-null   int64  \n",
    " LowQualFinSF: Low quality finished square feet (all floors)\n",
    "\n",
    " 46  GrLivArea      1460 non-null   int64 \n",
    "GrLivArea: Above grade (ground) living area square feet\n",
    "\n",
    " \n",
    " 47  BsmtFullBath   1460 non-null   int64 \n",
    "BsmtFullBath: Basement full bathrooms\n",
    "\n",
    " \n",
    " 48  BsmtHalfBath   1460 non-null   int64\n",
    " BsmtHalfBath: Basement half bathrooms\n",
    " \n",
    " 49  FullBath       1460 non-null   int64\n",
    "FullBath: Full bathrooms above grade\n",
    " \n",
    " 50  HalfBath       1460 non-null   int64 \n",
    " HalfBath: Half baths above grade\n",
    " \n",
    " 51  BedroomAbvGr   1460 non-null   int64 \n",
    " Bedroom: Bedrooms above grade (does NOT include basement bedrooms)\n",
    " \n",
    " \n",
    " 52  KitchenAbvGr   1460 non-null   int64  \n",
    " Kitchen: Kitchens above grade\n",
    " \n",
    " 54  TotRmsAbvGrd   1460 non-null   int64 \n",
    " TotRmsAbvGrd: Total rooms above grade (does not include bathrooms)\n",
    " \n",
    " 56  Fireplaces     1460 non-null   int64 \n",
    " Fireplaces: Number of fireplaces\n",
    " \n",
    " \n",
    " 59  GarageYrBlt    1379 non-null   float64\n",
    " GarageYrBlt: Year garage was built\n",
    " \n",
    " 61  GarageCars     1460 non-null   int64 \n",
    " GarageCars: Size of garage in car capacity\n",
    " \n",
    " 62  GarageArea     1460 non-null   int64 \n",
    " GarageArea: Size of garage in square feet\n",
    " \n",
    " \n",
    " 66  WoodDeckSF     1460 non-null   int64 \n",
    " WoodDeckSF: Wood deck area in square feet\n",
    "\n",
    "\n",
    " \n",
    " \n",
    " 67  OpenPorchSF    1460 non-null   int64\n",
    " OpenPorchSF: Open porch area in square feet\n",
    "\n",
    " \n",
    " \n",
    " \n",
    " 68  EnclosedPorch  1460 non-null   int64\n",
    "EnclosedPorch: Enclosed porch area in square feet\n",
    "\n",
    " \n",
    " \n",
    " 69  3SsnPorch      1460 non-null   int64  \n",
    "3SsnPorch: Three season porch area in square feet\n",
    "\n",
    "\n",
    "\n",
    " 70  ScreenPorch    1460 non-null   int64 \n",
    " ScreenPorch: Screen porch area in square feet\n",
    " \n",
    " 71  PoolArea       1460 non-null   int64 \n",
    " PoolArea: Pool area in square feet\n",
    " \n",
    " 75  MiscVal        1460 non-null   int64\n",
    " MiscVal: $Value of miscellaneous (divers) feature\n",
    "\n",
    " 76  MoSold         1460 non-null   int64\n",
    " MoSold: Month Sold (MM)\n",
    " \n",
    " \n",
    " 77  YrSold         1460 non-null   int64 \n",
    " YrSold: Year Sold (YYYY)"
   ]
  },
  {
   "cell_type": "markdown",
   "metadata": {},
   "source": [
    "Assumptions : \n",
    "\n",
    "Very import :\n",
    "\n",
    "- 4   LotArea  - Lot size in square feet\n",
    "- 17  OverallQual - Rates the overall material and finish of the house\n",
    "- 18  OverallCond - Rates the overall condition of the house\n",
    "- 38  TotalBsmtSF - TotalBsmtSF: Total square feet of basement area\n",
    "- 43  1stFlrSF - 1stFlrSF: First Floor square feet\n",
    "- 44  2ndFlrSF - 2ndFlrSF: Second floor square feet\n",
    "- 46  GrLivArea - GrLivArea: Above grade (ground) living area square feet\n",
    "- 54  TotRmsAbvGrd - TotRmsAbvGrd: Total rooms above grade (does not include bathrooms)\n",
    "\n",
    "\n",
    "Could be interesting to investigate:\n",
    "\n",
    "- 19  YearBuilt - YearBuilt: Original construction date\n",
    "- 20  YearRemodAdd - YearRemodAdd: Remodel date (same as construction date if no remodeling or additions)\n",
    "- 34  BsmtFinSF1 - BsmtFinSF1: Type 1 finished square feet \n",
    "- 36  BsmtFinSF2 - BsmtFinSF2: Type 2 finished square feet\n",
    "- 37  BsmtUnfSF - BsmtUnfSF: Unfinished square feet of basement area\n",
    "- 61  GarageCars  - GarageCars: Size of garage in car capacity\n",
    " \n",
    "- 62  GarageArea -  GarageArea: Size of garage in square feet\n",
    "- 66  WoodDeckSF - WoodDeckSF: Wood deck area in square feet\n",
    "- 71  PoolArea -  PoolArea: Pool area in square feet\n",
    "- 75  MiscVal- MiscVal: $Value of miscellaneous (divers) feature\n",
    "- 76  MoSold - MoSold: Month Sold (MM)\n",
    "- 77  YrSold - YrSold: Year Sold (YYYY)\n",
    "\n",
    "Others:\n",
    "- 47  BsmtFullBath  - BsmtFullBath: Basement full bathrooms\n",
    "- 48  BsmtHalfBath  - BsmtHalfBath: Basement half bathrooms"
   ]
  },
  {
   "cell_type": "code",
   "execution_count": null,
   "metadata": {},
   "outputs": [],
   "source": [
    "Train_set_num_full_EDA.describe().T"
   ]
  },
  {
   "cell_type": "code",
   "execution_count": null,
   "metadata": {},
   "outputs": [],
   "source": [
    "List_features = (Train_set_num_full_EDA.corr()['SalePrice'].sort_values(ascending=False)[:28].index)"
   ]
  },
  {
   "cell_type": "code",
   "execution_count": null,
   "metadata": {},
   "outputs": [],
   "source": [
    "Train_set_num_full_EDA.corr()['SalePrice'].sort_values(ascending=False)"
   ]
  },
  {
   "cell_type": "markdown",
   "metadata": {},
   "source": [
    "List_features_num = List_features.drop(['MoSold','GarageCars'])"
   ]
  },
  {
   "cell_type": "markdown",
   "metadata": {},
   "source": [
    "def remove_outlier(col):\n",
    "    sorted(col)\n",
    "    Q1,Q3 = col.quantile([0.25,0.75])\n",
    "    IQR=Q3-Q1\n",
    "    lower_range=Q1-(1.5 * IQR)\n",
    "    upper_range=Q3+(1.5 * IQR)\n",
    "    return lower_range,upper_range"
   ]
  },
  {
   "cell_type": "markdown",
   "metadata": {},
   "source": [
    "for elt in List_features_num:\n",
    "    low_tresh,upp_tresh = remove_outlier(Train_set_num_full_EDA[elt])\n",
    "    Train_set_num_full_EDA[elt] = np.where(Train_set_num_full_EDA[elt]>upp_tresh,upp_tresh,Train_set_num_full_EDA[elt])\n",
    "    Train_set_num_full_EDA[elt] = np.where(Train_set_num_full_EDA[elt]<low_tresh,low_tresh,Train_set_num_full_EDA[elt])\n"
   ]
  },
  {
   "cell_type": "markdown",
   "metadata": {},
   "source": [
    "Lst_Very_Important = ['LotArea','OverallQual','OverallCond','TotalBsmtSF','1stFlrSF','2ndFlrSF','GrLivArea','TotRmsAbvGrd','SalePrice']"
   ]
  },
  {
   "cell_type": "code",
   "execution_count": null,
   "metadata": {},
   "outputs": [],
   "source": [
    "from pandas.plotting import scatter_matrix\n",
    "import seaborn as sns\n",
    "scatter_matrix(Train_set_num_full_EDA[Lst_Very_Important],figsize=(16,9))"
   ]
  },
  {
   "cell_type": "code",
   "execution_count": null,
   "metadata": {},
   "outputs": [],
   "source": [
    "# OR \n",
    "Train_set_num_full_EDA[Lst_Very_Important].corr()"
   ]
  },
  {
   "cell_type": "code",
   "execution_count": null,
   "metadata": {
    "scrolled": true
   },
   "outputs": [],
   "source": [
    "#OR \n",
    "plt.figure(figsize=(16,9))\n",
    "sns.heatmap(Train_set_num_full_EDA.corr(),annot=False,cmap='RdBu')"
   ]
  },
  {
   "cell_type": "markdown",
   "metadata": {},
   "source": [
    "We have a lot of features, we can try to make features selection :"
   ]
  },
  {
   "cell_type": "code",
   "execution_count": null,
   "metadata": {},
   "outputs": [],
   "source": [
    "plt.figure(figsize=(16,9))\n",
    "sns.heatmap(Train_set_num_full_EDA[['OverallCond','OverallQual','SalePrice']].corr(),annot=True,cmap='RdBu')\n",
    "\n",
    "# Since the OverallQual is more correlated to the SalePrice, we can put more weights !\n",
    "# e.g. 0.8 * OverallQual + 0.2 * OverallCond \n",
    "\n",
    "coef = 0.8#Train_set_num_full_EDA[['OverallCond','OverallQual','SalePrice']].corr()['OverallQual']['SalePrice']\n",
    "\n",
    "# Replace the 'OverallCond','OverallQual features !\n",
    "Train_set_num_full_EDA['OverallRates']=(coef*Train_set_num_full_EDA.OverallCond + (1-coef)*Train_set_num_full_EDA.OverallQual)\n",
    "Train_set_num_full_EDA.drop(['OverallCond','OverallQual'],axis=1,inplace=True)"
   ]
  },
  {
   "cell_type": "code",
   "execution_count": null,
   "metadata": {},
   "outputs": [],
   "source": [
    "sns.heatmap(Train_set_num_full_EDA[['YearBuilt','YearRemodAdd','GarageYrBlt','SalePrice']].corr(),annot=True,cmap='RdBu')\n",
    "# Since the correlation between both year built and year remodel date is quite the same, we can ignore one of this date;\n",
    "\n",
    "# We can make the assumption that the remodAdd is better (the date take into acount the remodel !)\n",
    "# Garage Year built is very corellated to the Year built, we can remove the Garage Year built !\n",
    "\n",
    "Train_set_num_full_EDA.drop(['YearBuilt','GarageYrBlt'],axis=1,inplace=True)"
   ]
  },
  {
   "cell_type": "code",
   "execution_count": null,
   "metadata": {},
   "outputs": [],
   "source": [
    "(Train_set_num_full_EDA['1stFlrSF'] + Train_set_num_full_EDA['2ndFlrSF'] == Train_set_num_full_EDA.GrLivArea).value_counts()\n",
    "\n",
    "# Since the sum is quite the same, we can ignore the 1stFlrSF & 2ndFlrSF sicne it's the same as GrLivArea\n",
    "Train_set_num_full_EDA.drop(['1stFlrSF','2ndFlrSF'],axis=1,inplace=True)"
   ]
  },
  {
   "cell_type": "code",
   "execution_count": null,
   "metadata": {},
   "outputs": [],
   "source": [
    "(Train_set_num_full_EDA.HalfBath == Train_set_num_full_EDA.BsmtHalfBath).value_counts()"
   ]
  },
  {
   "cell_type": "code",
   "execution_count": null,
   "metadata": {},
   "outputs": [],
   "source": [
    "(Train_set_num_full_EDA.FullBath == Train_set_num_full_EDA.BsmtFullBath).value_counts()"
   ]
  },
  {
   "cell_type": "code",
   "execution_count": null,
   "metadata": {},
   "outputs": [],
   "source": [
    "sns.heatmap(Train_set_num_full_EDA[['FullBath','HalfBath','BsmtFullBath','BsmtHalfBath','BedroomAbvGr','TotRmsAbvGrd','SalePrice']].corr(),annot=True,cmap='RdBu')\n",
    "# We can see that the number ob bedrooms is correlated with the number of rooms ! \n",
    "# We can drop this columns (bedrooms) and also the bsmt baths !\n",
    "Train_set_num_full_EDA.drop(['BedroomAbvGr','BsmtFullBath','BsmtHalfBath'],axis=1,inplace=True)\n",
    "\n",
    "# We can also add the full and half bathrooms to one feature = Nb_Bathrooms\n",
    "Train_set_num_full_EDA['NbBath']=Train_set_num_full_EDA['FullBath']+0.5*Train_set_num_full_EDA['HalfBath']\n",
    "Train_set_num_full_EDA.drop(['FullBath','HalfBath'],axis=1,inplace=True)"
   ]
  },
  {
   "cell_type": "code",
   "execution_count": null,
   "metadata": {},
   "outputs": [],
   "source": [
    "sns.heatmap(Train_set_num_full_EDA[['GarageCars','GarageArea','Fireplaces','SalePrice']].corr(),annot=True,cmap='RdBu')\n",
    "#Garage Cars is correlated to the Garage Area and SalePrice \n",
    "# We can drop Garage Area (too much information) and keep Garage Cars (values is less huge than the area)!\n",
    "Train_set_num_full_EDA.drop(['GarageArea'],axis=1,inplace=True)"
   ]
  },
  {
   "cell_type": "code",
   "execution_count": null,
   "metadata": {},
   "outputs": [],
   "source": [
    "Train_set_num_full_EDA.MiscVal.value_counts().sort_index(ascending=True)\n",
    "# Since MiscVal has a lot of informations equal to zero we can drop this columns !\n",
    "Train_set_num_full_EDA.drop(['MiscVal'],axis=1,inplace=True)"
   ]
  },
  {
   "cell_type": "code",
   "execution_count": null,
   "metadata": {},
   "outputs": [],
   "source": [
    "sns.heatmap(Train_set_num_full_EDA[['MoSold','YrSold','SalePrice']].corr(),annot=True,cmap='RdBu')\n",
    "# No correlation with the saleprice, we can remove the MoSold and the YrSold !\n",
    "Train_set_num_full_EDA.drop(['MoSold','YrSold'],axis=1,inplace=True)"
   ]
  },
  {
   "cell_type": "code",
   "execution_count": null,
   "metadata": {},
   "outputs": [],
   "source": [
    "sns.heatmap(Train_set_num_full_EDA[['WoodDeckSF','OpenPorchSF','EnclosedPorch','3SsnPorch','ScreenPorch','SalePrice']].corr(),annot=True,cmap='RdBu')"
   ]
  },
  {
   "cell_type": "code",
   "execution_count": null,
   "metadata": {},
   "outputs": [],
   "source": [
    "Train_set_num_full_EDA[['WoodDeckSF','OpenPorchSF','EnclosedPorch','3SsnPorch','ScreenPorch','SalePrice']]\n",
    "#We can tranfomr the three porch features  with one feature, and add more weight for the OpenPorchSF\n",
    "\n",
    "# e.g. 0.7*OpenPorchSF + 0.1 * ['EnclosedPorch','3SsnPorch','ScreenPorch']\n",
    "\n",
    "Train_set_num_full_EDA['PorchSF']=0.7*Train_set_num_full_EDA.OpenPorchSF + 0.1 * (Train_set_num_full_EDA.EnclosedPorch+Train_set_num_full_EDA['3SsnPorch']+Train_set_num_full_EDA['ScreenPorch'])\n",
    "Train_set_num_full_EDA.drop(['OpenPorchSF','EnclosedPorch','3SsnPorch','ScreenPorch'],axis=1,inplace=True)"
   ]
  },
  {
   "cell_type": "markdown",
   "metadata": {},
   "source": [
    "All the transformation resume here ! "
   ]
  },
  {
   "cell_type": "code",
   "execution_count": null,
   "metadata": {},
   "outputs": [],
   "source": [
    "Train_set_num = Train_set.select_dtypes(exclude='object')\n",
    "\n",
    "\n",
    "imput_num = SimpleImputer(strategy='median')\n",
    "Train_set_num_full = imput_num.fit_transform(Train_set_num)\n",
    "Train_set_num_full = pd.DataFrame(Train_set_num_full,columns=Train_set_num.columns)\n",
    "\n",
    "Train_set_num_full_EDA = Train_set_num_full\n",
    "print('Train_set_num_full_EDA.shape before optimization = ',Train_set_num_full_EDA.shape)\n",
    "\n",
    "#It's useless for now\n",
    "#Train_set_num_full_EDA.drop(['MSSubClass'],axis=1,inplace=True)\n",
    "coef=0.8\n",
    "Train_set_num_full_EDA['OverallRates']=(coef*Train_set_num_full_EDA.OverallCond + (1-coef)*Train_set_num_full_EDA.OverallQual)\n",
    "#Train_set_num_full_EDA.drop(['OverallCond','OverallQual'],axis=1,inplace=True)\n",
    "\n",
    "#Train_set_num_full_EDA.drop(['YearBuilt','GarageYrBlt'],axis=1,inplace=True)\n",
    "\n",
    "#Train_set_num_full_EDA.drop(['BedroomAbvGr','BsmtFullBath','BsmtHalfBath'],axis=1,inplace=True)\n",
    "\n",
    "#Train_set_num_full_EDA.drop(['1stFlrSF','2ndFlrSF'],axis=1,inplace=True)\n",
    "\n",
    "# We can also add the full and half bathrooms to one feature = Nb_Bathrooms\n",
    "Train_set_num_full_EDA['NbBath']=Train_set_num_full_EDA['FullBath']+0.5*Train_set_num_full_EDA['HalfBath']\n",
    "#Train_set_num_full_EDA.drop(['FullBath','HalfBath'],axis=1,inplace=True)\n",
    "\n",
    "#Train_set_num_full_EDA.drop(['GarageArea'],axis=1,inplace=True)\n",
    "\n",
    "#Train_set_num_full_EDA.drop(['MiscVal'],axis=1,inplace=True)\n",
    "\n",
    "#Train_set_num_full_EDA.drop(['MoSold','YrSold'],axis=1,inplace=True)\n",
    "\n",
    "Train_set_num_full_EDA['PorchSF']=0.7*Train_set_num_full_EDA.OpenPorchSF + 0.1 * (Train_set_num_full_EDA.EnclosedPorch+Train_set_num_full_EDA['3SsnPorch']+Train_set_num_full_EDA['ScreenPorch'])\n",
    "#Train_set_num_full_EDA.drop(['OpenPorchSF','EnclosedPorch','3SsnPorch','ScreenPorch'],axis=1,inplace=True)\n",
    "\n",
    "print('Train_set_num_full_EDA.shape after optimization = ',Train_set_num_full_EDA.shape)\n"
   ]
  },
  {
   "cell_type": "markdown",
   "metadata": {},
   "source": [
    "Since our transformer is quite good, we can our own numerical transformer !"
   ]
  },
  {
   "cell_type": "code",
   "execution_count": null,
   "metadata": {},
   "outputs": [],
   "source": [
    "Train_set_num.head()"
   ]
  },
  {
   "cell_type": "code",
   "execution_count": null,
   "metadata": {},
   "outputs": [],
   "source": [
    "t = np.array(Train_set_num)"
   ]
  },
  {
   "cell_type": "code",
   "execution_count": null,
   "metadata": {},
   "outputs": [],
   "source": [
    "np.delete(t,Lst_to_drop,axis=1).shape"
   ]
  },
  {
   "cell_type": "code",
   "execution_count": 79,
   "metadata": {},
   "outputs": [],
   "source": [
    "from sklearn.base import BaseEstimator, TransformerMixin\n",
    "from sklearn.pipeline import Pipeline\n",
    "\n",
    "\n",
    "Train_set_num = Train_set.select_dtypes(exclude='object')\n",
    "List_num_Features = list(Train_set.select_dtypes(exclude='object'))\n",
    "\n",
    "OverallCond_ix,OverallQual_ix = Train_set_num.columns.get_loc('OverallCond') , Train_set_num.columns.get_loc('OverallQual')\n",
    "FullBath_ix , HalfBath_ix = Train_set_num.columns.get_loc('FullBath'),Train_set_num.columns.get_loc('HalfBath')\n",
    "OpenPorchSF_ix,EnclosedPorch_ix,snPorch_ix,ScreenPorch_ix = Train_set_num.columns.get_loc('OpenPorchSF'),Train_set_num.columns.get_loc('EnclosedPorch'),Train_set_num.columns.get_loc('3SsnPorch'),Train_set_num.columns.get_loc('ScreenPorch')\n",
    "\n",
    "Lst_to_drop=[Train_set_num.columns.get_loc('MSSubClass'),Train_set_num.columns.get_loc('OverallCond'),\n",
    "             Train_set_num.columns.get_loc('OverallQual'),Train_set_num.columns.get_loc('OverallCond'),\n",
    "             Train_set_num.columns.get_loc('YearBuilt'),Train_set_num.columns.get_loc('GarageYrBlt'),\n",
    "             Train_set_num.columns.get_loc('BedroomAbvGr'),Train_set_num.columns.get_loc('BsmtFullBath'),\n",
    "             Train_set_num.columns.get_loc('BsmtHalfBath'),Train_set_num.columns.get_loc('1stFlrSF'),\n",
    "             Train_set_num.columns.get_loc('2ndFlrSF'),Train_set_num.columns.get_loc('FullBath'),\n",
    "             Train_set_num.columns.get_loc('HalfBath'), Train_set_num.columns.get_loc('GarageArea'),\n",
    "             Train_set_num.columns.get_loc('MiscVal'),Train_set_num.columns.get_loc('MoSold'),\n",
    "             Train_set_num.columns.get_loc('YrSold'),Train_set_num.columns.get_loc('OpenPorchSF'),\n",
    "             Train_set_num.columns.get_loc('EnclosedPorch'),Train_set_num.columns.get_loc('3SsnPorch'),\n",
    "             Train_set_num.columns.get_loc('ScreenPorch'),]\n",
    "\n",
    "class Num_Features_Transformation (BaseEstimator,TransformerMixin):\n",
    "    def __init__(self,drop_features=False):\n",
    "        self.drop_features = drop_features\n",
    "    \n",
    "    def fit(self,X,y=None):\n",
    "        self.OverallCond,self.OverallQual = OverallCond_ix,OverallQual_ix\n",
    "        self.FullBath , self.HalfBath = FullBath_ix , HalfBath_ix\n",
    "        self.OpenPorchSF,self.EnclosedPorch,self.SsnPorch,self.ScreenPorch = OpenPorchSF_ix,EnclosedPorch_ix,snPorch_ix,ScreenPorch_ix\n",
    "        return self\n",
    "    \n",
    "    def transform(self,X):\n",
    "        coef=0.8\n",
    "        OverallRates = (coef*X[:,self.OverallCond] + (1-coef)*X[:,self.OverallQual])\n",
    "        NbBath=X[:,self.FullBath]+0.5*X[:,self.HalfBath]\n",
    "        PorchSF=0.7*X[:,self.OpenPorchSF] + 0.1 * (X[:,self.EnclosedPorch]+X[:,self.SsnPorch]+X[:,self.ScreenPorch])\n",
    "        \n",
    "        if self.drop_features:\n",
    "            X_drop = np.delete(X,Lst_to_drop,axis=1)\n",
    "            return np.c_[X_drop,OverallRates,NbBath,PorchSF] \n",
    "        else:\n",
    "            return np.c_[X,OverallRates,NbBath,PorchSF]  "
   ]
  },
  {
   "cell_type": "code",
   "execution_count": 80,
   "metadata": {},
   "outputs": [],
   "source": [
    "from sklearn.impute import SimpleImputer\n",
    "\n",
    "Drop_features_num = False   \n",
    "\n",
    "num_Pipeline = Pipeline([('imput_num',SimpleImputer(strategy='median')),\n",
    "                         ('Num_Features_Transformation',Num_Features_Transformation(Drop_features_num))\n",
    "                        ])\n",
    "\n",
    "Train_set_num = Train_set.select_dtypes(exclude='object')\n",
    "Train_set_num_full_EDA = num_Pipeline.fit_transform(Train_set_num)\n",
    "\n",
    "\n",
    "if Drop_features_num:\n",
    "    Garage_cars_ix = 13\n",
    "else: \n",
    "    Garage_cars_ix = Train_set_num.columns.get_loc('GarageCars')"
   ]
  },
  {
   "cell_type": "code",
   "execution_count": 86,
   "metadata": {},
   "outputs": [],
   "source": [
    "from sklearn.model_selection import StratifiedShuffleSplit\n",
    "split = StratifiedShuffleSplit(n_splits=1,test_size=0.15,random_state=42)\n",
    "\n",
    "#since our data set is small, we have to take care about the sampling bias !!\n",
    "for train_index,val_index in split.split(Train_set_num_full_EDA,Train_set_num_full_EDA[:,Garage_cars_ix]):\n",
    "    X_train = Train_set_num_full_EDA[train_index,:]\n",
    "    X_val = Train_set_num_full_EDA[val_index,:]\n",
    "    y_train = Train_y.loc[train_index]\n",
    "    y_val = Train_y.loc[val_index]"
   ]
  },
  {
   "cell_type": "markdown",
   "metadata": {},
   "source": [
    "# Second : EDA on categorical features"
   ]
  },
  {
   "cell_type": "markdown",
   "metadata": {},
   "source": [
    " 0   MSZoning      : Identifies the general zoning classification of the sale.\n",
    "\t\t\n",
    "       A\tAgriculture\n",
    "       C\tCommercial\n",
    "       FV\tFloating Village Residential\n",
    "       I\tIndustrial\n",
    "       RH\tResidential High Density\n",
    "       RL\tResidential Low Density\n",
    "       RP\tResidential Low Density Park \n",
    "       RM\tResidential Medium Density\n",
    "\n",
    "\n",
    "\n",
    " 1   Street         : Type of road access to property\n",
    " \n",
    "       Grvl\tGravel\t\n",
    "       Pave\tPaved\n",
    "\n",
    "\n",
    " 2   Alley          :Type of alley access to property\n",
    " \n",
    "        Grvl\tGravel\n",
    "       Pave\tPaved\n",
    "       NA \tNo alley access\n",
    "\n",
    "\n",
    " 3   LotShape       :General shape of property\n",
    " \n",
    "        Reg\tRegular\t\n",
    "       IR1\tSlightly irregular\n",
    "       IR2\tModerately Irregular\n",
    "       IR3\tIrregular\n",
    "\n",
    "\n",
    " 4   LandContour    :Flatness of the property\n",
    " \n",
    "       Lvl\tNear Flat/Level\t\n",
    "       Bnk\tBanked - Quick and significant rise from street grade to building\n",
    "       HLS\tHillside - Significant slope from side to side\n",
    "       Low\tDepression\n",
    "\n",
    " 5   Utilities      :Type of utilities available\n",
    " \n",
    "        AllPub\tAll public Utilities (E,G,W,& S)\t\n",
    "       NoSewr\tElectricity, Gas, and Water (Septic Tank)\n",
    "       NoSeWa\tElectricity and Gas Only\n",
    "       ELO\tElectricity only\n",
    "\n",
    " 6   LotConfig      :Lot configuration\n",
    " \n",
    "        Inside\tInside lot\n",
    "       Corner\tCorner lot\n",
    "       CulDSac\tCul-de-sac\n",
    "       FR2\tFrontage on 2 sides of property\n",
    "       FR3\tFrontage on 3 sides of property\n",
    "\n",
    "\n",
    " 7   LandSlope      :Slope of property\n",
    " \n",
    "       Gtl\tGentle slope\n",
    "       Mod\tModerate Slope\t\n",
    "       Sev\tSevere Slope\n",
    "\n",
    " 8   Neighborhood   :Physical locations within Ames city limits\n",
    " \n",
    "        Blmngtn\tBloomington Heights\n",
    "       Blueste\tBluestem\n",
    "       BrDale\tBriardale\n",
    "       BrkSide\tBrookside\n",
    "       ClearCr\tClear Creek\n",
    "       CollgCr\tCollege Creek\n",
    "       Crawfor\tCrawford\n",
    "       Edwards\tEdwards\n",
    "       Gilbert\tGilbert\n",
    "       IDOTRR\tIowa DOT and Rail Road\n",
    "       MeadowV\tMeadow Village\n",
    "       Mitchel\tMitchell\n",
    "       Names\tNorth Ames\n",
    "       NoRidge\tNorthridge\n",
    "       NPkVill\tNorthpark Villa\n",
    "       NridgHt\tNorthridge Heights\n",
    "       NWAmes\tNorthwest Ames\n",
    "       OldTown\tOld Town\n",
    "       SWISU\tSouth & West of Iowa State University\n",
    "       Sawyer\tSawyer\n",
    "       SawyerW\tSawyer West\n",
    "       Somerst\tSomerset\n",
    "       StoneBr\tStone Brook\n",
    "       Timber\tTimberland\n",
    "       Veenker\tVeenker\n",
    "\t\t\t\n",
    "\n",
    " 9   Condition1     :Proximity to various conditions\n",
    " \n",
    "       Artery\tAdjacent to arterial street\n",
    "       Feedr\tAdjacent to feeder street\t\n",
    "       Norm\tNormal\t\n",
    "       RRNn\tWithin 200' of North-South Railroad\n",
    "       RRAn\tAdjacent to North-South Railroad\n",
    "       PosN\tNear positive off-site feature--park, greenbelt, etc.\n",
    "       PosA\tAdjacent to postive off-site feature\n",
    "       RRNe\tWithin 200' of East-West Railroad\n",
    "       RRAe\tAdjacent to East-West Railroad\n",
    "\n",
    "\n",
    "\n",
    "\n",
    " 10  Condition2     :Proximity to various conditions (if more than one is present)\n",
    " \n",
    "        Artery\tAdjacent to arterial street\n",
    "       Feedr\tAdjacent to feeder street\t\n",
    "       Norm\tNormal\t\n",
    "       RRNn\tWithin 200' of North-South Railroad\n",
    "       RRAn\tAdjacent to North-South Railroad\n",
    "       PosN\tNear positive off-site feature--park, greenbelt, etc.\n",
    "       PosA\tAdjacent to postive off-site feature\n",
    "       RRNe\tWithin 200' of East-West Railroad\n",
    "       RRAe\tAdjacent to East-West Railroad\n",
    "\n",
    " 11  BldgType       :Type of dwelling\n",
    " \n",
    "       1Fam\tSingle-family Detached\t\n",
    "       2FmCon\tTwo-family Conversion; originally built as one-family dwelling\n",
    "       Duplx\tDuplex\n",
    "       TwnhsE\tTownhouse End Unit\n",
    "       TwnhsI\tTownhouse Inside Unit\n",
    "\n",
    "\n",
    "\n",
    " 12  HouseStyle     :Style of dwelling\n",
    " \n",
    "        1Story\tOne story\n",
    "       1.5Fin\tOne and one-half story: 2nd level finished\n",
    "       1.5Unf\tOne and one-half story: 2nd level unfinished\n",
    "       2Story\tTwo story\n",
    "       2.5Fin\tTwo and one-half story: 2nd level finished\n",
    "       2.5Unf\tTwo and one-half story: 2nd level unfinished\n",
    "       SFoyer\tSplit Foyer\n",
    "       SLvl\tSplit Level\n",
    "\n",
    "\n",
    "\n",
    " 13  RoofStyle      :Type of roof\n",
    " \n",
    "        Flat\tFlat\n",
    "       Gable\tGable\n",
    "       Gambrel\tGabrel (Barn)\n",
    "       Hip\tHip\n",
    "       Mansard\tMansard\n",
    "       Shed\tShed\n",
    "\n",
    "\n",
    "\n",
    " 14  RoofMatl       :Roof material\n",
    " \n",
    "       ClyTile\tClay or Tile\n",
    "       CompShg\tStandard (Composite) Shingle\n",
    "       Membran\tMembrane\n",
    "       Metal\tMetal\n",
    "       Roll\tRoll\n",
    "       Tar&Grv\tGravel & Tar\n",
    "       WdShake\tWood Shakes\n",
    "       WdShngl\tWood Shingles\n",
    "\n",
    " 15  Exterior1st    :xterior covering on house\n",
    " \n",
    "        AsbShng\tAsbestos Shingles\n",
    "       AsphShn\tAsphalt Shingles\n",
    "       BrkComm\tBrick Common\n",
    "       BrkFace\tBrick Face\n",
    "       CBlock\tCinder Block\n",
    "       CemntBd\tCement Board\n",
    "       HdBoard\tHard Board\n",
    "       ImStucc\tImitation Stucco\n",
    "       MetalSd\tMetal Siding\n",
    "       Other\tOther\n",
    "       Plywood\tPlywood\n",
    "       PreCast\tPreCast\t\n",
    "       Stone\tStone\n",
    "       Stucco\tStucco\n",
    "       VinylSd\tVinyl Siding\n",
    "       Wd Sdng\tWood Siding\n",
    "       WdShing\tWood Shingles\n",
    "\n",
    " 16  Exterior2nd    :Exterior covering on house (if more than one material)\n",
    " \n",
    "       AsbShng\tAsbestos Shingles\n",
    "       AsphShn\tAsphalt Shingles\n",
    "       BrkComm\tBrick Common\n",
    "       BrkFace\tBrick Face\n",
    "       CBlock\tCinder Block\n",
    "       CemntBd\tCement Board\n",
    "       HdBoard\tHard Board\n",
    "       ImStucc\tImitation Stucco\n",
    "       MetalSd\tMetal Siding\n",
    "       Other\tOther\n",
    "       Plywood\tPlywood\n",
    "       PreCast\tPreCast\n",
    "       Stone\tStone\n",
    "       Stucco\tStucco\n",
    "       VinylSd\tVinyl Siding\n",
    "       Wd Sdng\tWood Siding\n",
    "       WdShing\tWood Shingles\n",
    "\n",
    "\n",
    " 17  MasVnrType    :Masonry veneer type\n",
    " \n",
    "        BrkCmn\tBrick Common\n",
    "       BrkFace\tBrick Face\n",
    "       CBlock\tCinder Block\n",
    "       None\tNone\n",
    "       Stone\tStone\n",
    "\n",
    "\n",
    "\n",
    " 18  ExterQual      :Evaluates the quality of the material on the exterior \n",
    " \n",
    "        Ex\tExcellent\n",
    "       Gd\tGood\n",
    "       TA\tAverage/Typical\n",
    "       Fa\tFair\n",
    "       Po\tPoor\n",
    "\n",
    " 19  ExterCond      :Evaluates the present condition of the material on the exterior\n",
    " \n",
    "        Ex\tExcellent\n",
    "       Gd\tGood\n",
    "       TA\tAverage/Typical\n",
    "       Fa\tFair\n",
    "       Po\tPoor\n",
    "\n",
    "\n",
    " 20  Foundation     :Type of foundation\n",
    " \n",
    "       BrkTil\tBrick & Tile\n",
    "       CBlock\tCinder Block\n",
    "       PConc\tPoured Contrete\t\n",
    "       Slab\tSlab\n",
    "       Stone\tStone\n",
    "       Wood\tWood\n",
    "\n",
    "\n",
    " 21  BsmtQual       :Evaluates the height of the basement\n",
    " \n",
    "       Ex\tExcellent (100+ inches)\t\n",
    "       Gd\tGood (90-99 inches)\n",
    "       TA\tTypical (80-89 inches)\n",
    "       Fa\tFair (70-79 inches)\n",
    "       Po\tPoor (<70 inches\n",
    "       NA\tNo Basement\n",
    "\n",
    " 22  BsmtCond       :Evaluates the general condition of the basement\n",
    " \n",
    "        Ex\tExcellent\n",
    "       Gd\tGood\n",
    "       TA\tTypical - slight dampness allowed\n",
    "       Fa\tFair - dampness or some cracking or settling\n",
    "       Po\tPoor - Severe cracking, settling, or wetness\n",
    "       NA\tNo Basement\n",
    "\n",
    "\n",
    " 23  BsmtExposure   :Refers to walkout or garden level walls\n",
    " \n",
    "       Gd\tGood Exposure\n",
    "       Av\tAverage Exposure (split levels or foyers typically score average or above)\t\n",
    "       Mn\tMimimum Exposure\n",
    "       No\tNo Exposure\n",
    "       NA\tNo Basement\n",
    "\n",
    " 24  BsmtFinType1   :Rating of basement finished area\n",
    " \n",
    "        GLQ\tGood Living Quarters\n",
    "       ALQ\tAverage Living Quarters\n",
    "       BLQ\tBelow Average Living Quarters\t\n",
    "       Rec\tAverage Rec Room\n",
    "       LwQ\tLow Quality\n",
    "       Unf\tUnfinshed\n",
    "       NA\tNo Basement\n",
    "\n",
    "\n",
    " 25  BsmtFinType2   :Rating of basement finished area (if multiple types)\n",
    " \n",
    "        GLQ\tGood Living Quarters\n",
    "       ALQ\tAverage Living Quarters\n",
    "       BLQ\tBelow Average Living Quarters\t\n",
    "       Rec\tAverage Rec Room\n",
    "       LwQ\tLow Quality\n",
    "       Unf\tUnfinshed\n",
    "       NA\tNo Basement\n",
    "\n",
    " 26  Heating        :Type of heating\n",
    " \n",
    "        Floor\tFloor Furnace\n",
    "       GasA\tGas forced warm air furnace\n",
    "       GasW\tGas hot water or steam heat\n",
    "       Grav\tGravity furnace\t\n",
    "       OthW\tHot water or steam heat other than gas\n",
    "       Wall\tWall furnace\n",
    "\n",
    "\n",
    " 27  HeatingQC      :Heating quality and condition\n",
    " \n",
    "        Ex\tExcellent\n",
    "       Gd\tGood\n",
    "       TA\tAverage/Typical\n",
    "       Fa\tFair\n",
    "       Po\tPoor\n",
    "\n",
    "\n",
    " 28  CentralAir     :Central air conditioning\n",
    "\n",
    "       N\tNo\n",
    "       Y\tYes\n",
    "\n",
    "\n",
    "\n",
    " 29  Electrical     :Electrical system\n",
    " \n",
    "        SBrkr\tStandard Circuit Breakers & Romex\n",
    "       FuseA\tFuse Box over 60 AMP and all Romex wiring (Average)\t\n",
    "       FuseF\t60 AMP Fuse Box and mostly Romex wiring (Fair)\n",
    "       FuseP\t60 AMP Fuse Box and mostly knob & tube wiring (poor)\n",
    "       Mix\tMixe\n",
    "\n",
    "\n",
    " 30  KitchenQual    :Kitchen quality\n",
    "\n",
    "       Ex\tExcellent\n",
    "       Gd\tGood\n",
    "       TA\tTypical/Average\n",
    "       Fa\tFair\n",
    "       Po\tPoor\n",
    "\n",
    " 31  Functional     :Home functionality (Assume typical unless deductions are warranted)\n",
    " \n",
    "        Typ\tTypical Functionality\n",
    "       Min1\tMinor Deductions 1\n",
    "       Min2\tMinor Deductions 2\n",
    "       Mod\tModerate Deductions\n",
    "       Maj1\tMajor Deductions 1\n",
    "       Maj2\tMajor Deductions 2\n",
    "       Sev\tSeverely Damaged\n",
    "       Sal\tSalvage only\n",
    "\n",
    "\n",
    " 32  FireplaceQu    :Fireplace quality\n",
    " \n",
    "        Ex\tExcellent - Exceptional Masonry Fireplace\n",
    "       Gd\tGood - Masonry Fireplace in main level\n",
    "       TA\tAverage - Prefabricated Fireplace in main living area or Masonry Fireplace in basement\n",
    "       Fa\tFair - Prefabricated Fireplace in basement\n",
    "       Po\tPoor - Ben Franklin Stove\n",
    "       NA\tNo Fireplace\n",
    "\n",
    "\n",
    " 33  GarageType     :Garage location\n",
    " \n",
    "        2Types\tMore than one type of garage\n",
    "       Attchd\tAttached to home\n",
    "       Basment\tBasement Garage\n",
    "       BuiltIn\tBuilt-In (Garage part of house - typically has room above garage)\n",
    "       CarPort\tCar Port\n",
    "       Detchd\tDetached from home\n",
    "       NA\tNo Garage\n",
    "\t\t\n",
    " 34  GarageFinish   :Interior finish of the garage\n",
    " \n",
    "        Fin\tFinished\n",
    "       RFn\tRough Finished\t\n",
    "       Unf\tUnfinished\n",
    "       NA\tNo Garage\n",
    "\n",
    "\n",
    " 35  GarageQual     :Garage quality\n",
    " \n",
    "        Ex\tExcellent\n",
    "       Gd\tGood\n",
    "       TA\tTypical/Average\n",
    "       Fa\tFair\n",
    "       Po\tPoor\n",
    "       NA\tNo Garage\n",
    "\n",
    " 36  GarageCond     :Garage condition\n",
    " \n",
    "        Ex\tExcellent\n",
    "       Gd\tGood\n",
    "       TA\tTypical/Average\n",
    "       Fa\tFair\n",
    "       Po\tPoor\n",
    "       NA\tNo Garage\n",
    "\n",
    " 37  PavedDrive     :Paved driveway\n",
    " \n",
    "        Y\tPaved \n",
    "       P\tPartial Pavement\n",
    "       N\tDirt/Gravel\n",
    "\n",
    " 38  PoolQC         :Pool quality\n",
    " \n",
    "        Ex\tExcellent\n",
    "       Gd\tGood\n",
    "       TA\tAverage/Typical\n",
    "       Fa\tFair\n",
    "       NA\tNo Pool\n",
    "\n",
    " 39  Fence          :Fence quality\n",
    " \n",
    "        GdPrv\tGood Privacy\n",
    "       MnPrv\tMinimum Privacy\n",
    "       GdWo\tGood Wood\n",
    "       MnWw\tMinimum Wood/Wire\n",
    "       NA\tNo Fence\n",
    "\n",
    " 40  MiscFeature    :Miscellaneous feature not covered in other categories\n",
    " \n",
    "        Elev\tElevator\n",
    "       Gar2\t2nd Garage (if not described in garage section)\n",
    "       Othr\tOther\n",
    "       Shed\tShed (over 100 SF)\n",
    "       TenC\tTennis Court\n",
    "       NA\tNone\n",
    "\n",
    " 41  SaleType       :Type of sale\n",
    "\n",
    "        WD \tWarranty Deed - Conventional\n",
    "       CWD\tWarranty Deed - Cash\n",
    "       VWD\tWarranty Deed - VA Loan\n",
    "       New\tHome just constructed and sold\n",
    "       COD\tCourt Officer Deed/Estate\n",
    "       Con\tContract 15% Down payment regular terms\n",
    "       ConLw\tContract Low Down payment and low interest\n",
    "       ConLI\tContract Low Interest\n",
    "       ConLD\tContract Low Down\n",
    "       Oth\tOther\n",
    "\n",
    "       \n",
    " 42  SaleCondition  :Condition of sale\n",
    " \n",
    "       Normal\tNormal Sale\n",
    "       Abnorml\tAbnormal Sale -  trade, foreclosure, short sale\n",
    "       AdjLand\tAdjoining Land Purchase\n",
    "       Alloca\tAllocation - two linked properties with separate deeds, typically condo with a garage unit\t\n",
    "       Family\tSale between family members\n",
    "       Partial\tHome was not completed when last assessed (associated with New Homes)"
   ]
  },
  {
   "cell_type": "code",
   "execution_count": 8,
   "metadata": {
    "scrolled": false
   },
   "outputs": [
    {
     "data": {
      "text/html": [
       "<div>\n",
       "<style scoped>\n",
       "    .dataframe tbody tr th:only-of-type {\n",
       "        vertical-align: middle;\n",
       "    }\n",
       "\n",
       "    .dataframe tbody tr th {\n",
       "        vertical-align: top;\n",
       "    }\n",
       "\n",
       "    .dataframe thead th {\n",
       "        text-align: right;\n",
       "    }\n",
       "</style>\n",
       "<table border=\"1\" class=\"dataframe\">\n",
       "  <thead>\n",
       "    <tr style=\"text-align: right;\">\n",
       "      <th></th>\n",
       "      <th>count</th>\n",
       "      <th>unique</th>\n",
       "      <th>top</th>\n",
       "      <th>freq</th>\n",
       "    </tr>\n",
       "  </thead>\n",
       "  <tbody>\n",
       "    <tr>\n",
       "      <th>MSZoning</th>\n",
       "      <td>1456</td>\n",
       "      <td>5</td>\n",
       "      <td>RL</td>\n",
       "      <td>1147</td>\n",
       "    </tr>\n",
       "    <tr>\n",
       "      <th>Street</th>\n",
       "      <td>1456</td>\n",
       "      <td>2</td>\n",
       "      <td>Pave</td>\n",
       "      <td>1450</td>\n",
       "    </tr>\n",
       "    <tr>\n",
       "      <th>Alley</th>\n",
       "      <td>91</td>\n",
       "      <td>2</td>\n",
       "      <td>Grvl</td>\n",
       "      <td>50</td>\n",
       "    </tr>\n",
       "    <tr>\n",
       "      <th>LotShape</th>\n",
       "      <td>1456</td>\n",
       "      <td>4</td>\n",
       "      <td>Reg</td>\n",
       "      <td>925</td>\n",
       "    </tr>\n",
       "    <tr>\n",
       "      <th>LandContour</th>\n",
       "      <td>1456</td>\n",
       "      <td>4</td>\n",
       "      <td>Lvl</td>\n",
       "      <td>1307</td>\n",
       "    </tr>\n",
       "    <tr>\n",
       "      <th>Utilities</th>\n",
       "      <td>1456</td>\n",
       "      <td>2</td>\n",
       "      <td>AllPub</td>\n",
       "      <td>1455</td>\n",
       "    </tr>\n",
       "    <tr>\n",
       "      <th>LotConfig</th>\n",
       "      <td>1456</td>\n",
       "      <td>5</td>\n",
       "      <td>Inside</td>\n",
       "      <td>1051</td>\n",
       "    </tr>\n",
       "    <tr>\n",
       "      <th>LandSlope</th>\n",
       "      <td>1456</td>\n",
       "      <td>3</td>\n",
       "      <td>Gtl</td>\n",
       "      <td>1378</td>\n",
       "    </tr>\n",
       "    <tr>\n",
       "      <th>Neighborhood</th>\n",
       "      <td>1456</td>\n",
       "      <td>25</td>\n",
       "      <td>NAmes</td>\n",
       "      <td>225</td>\n",
       "    </tr>\n",
       "    <tr>\n",
       "      <th>Condition1</th>\n",
       "      <td>1456</td>\n",
       "      <td>9</td>\n",
       "      <td>Norm</td>\n",
       "      <td>1256</td>\n",
       "    </tr>\n",
       "    <tr>\n",
       "      <th>Condition2</th>\n",
       "      <td>1456</td>\n",
       "      <td>8</td>\n",
       "      <td>Norm</td>\n",
       "      <td>1441</td>\n",
       "    </tr>\n",
       "    <tr>\n",
       "      <th>BldgType</th>\n",
       "      <td>1456</td>\n",
       "      <td>5</td>\n",
       "      <td>1Fam</td>\n",
       "      <td>1216</td>\n",
       "    </tr>\n",
       "    <tr>\n",
       "      <th>HouseStyle</th>\n",
       "      <td>1456</td>\n",
       "      <td>8</td>\n",
       "      <td>1Story</td>\n",
       "      <td>725</td>\n",
       "    </tr>\n",
       "    <tr>\n",
       "      <th>RoofStyle</th>\n",
       "      <td>1456</td>\n",
       "      <td>6</td>\n",
       "      <td>Gable</td>\n",
       "      <td>1140</td>\n",
       "    </tr>\n",
       "    <tr>\n",
       "      <th>RoofMatl</th>\n",
       "      <td>1456</td>\n",
       "      <td>8</td>\n",
       "      <td>CompShg</td>\n",
       "      <td>1431</td>\n",
       "    </tr>\n",
       "    <tr>\n",
       "      <th>Exterior1st</th>\n",
       "      <td>1456</td>\n",
       "      <td>15</td>\n",
       "      <td>VinylSd</td>\n",
       "      <td>514</td>\n",
       "    </tr>\n",
       "    <tr>\n",
       "      <th>Exterior2nd</th>\n",
       "      <td>1456</td>\n",
       "      <td>16</td>\n",
       "      <td>VinylSd</td>\n",
       "      <td>503</td>\n",
       "    </tr>\n",
       "    <tr>\n",
       "      <th>MasVnrType</th>\n",
       "      <td>1448</td>\n",
       "      <td>4</td>\n",
       "      <td>None</td>\n",
       "      <td>863</td>\n",
       "    </tr>\n",
       "    <tr>\n",
       "      <th>ExterQual</th>\n",
       "      <td>1456</td>\n",
       "      <td>4</td>\n",
       "      <td>TA</td>\n",
       "      <td>906</td>\n",
       "    </tr>\n",
       "    <tr>\n",
       "      <th>ExterCond</th>\n",
       "      <td>1456</td>\n",
       "      <td>5</td>\n",
       "      <td>TA</td>\n",
       "      <td>1279</td>\n",
       "    </tr>\n",
       "    <tr>\n",
       "      <th>Foundation</th>\n",
       "      <td>1456</td>\n",
       "      <td>6</td>\n",
       "      <td>PConc</td>\n",
       "      <td>643</td>\n",
       "    </tr>\n",
       "    <tr>\n",
       "      <th>BsmtQual</th>\n",
       "      <td>1419</td>\n",
       "      <td>4</td>\n",
       "      <td>TA</td>\n",
       "      <td>649</td>\n",
       "    </tr>\n",
       "    <tr>\n",
       "      <th>BsmtCond</th>\n",
       "      <td>1419</td>\n",
       "      <td>4</td>\n",
       "      <td>TA</td>\n",
       "      <td>1307</td>\n",
       "    </tr>\n",
       "    <tr>\n",
       "      <th>BsmtExposure</th>\n",
       "      <td>1418</td>\n",
       "      <td>4</td>\n",
       "      <td>No</td>\n",
       "      <td>953</td>\n",
       "    </tr>\n",
       "    <tr>\n",
       "      <th>BsmtFinType1</th>\n",
       "      <td>1419</td>\n",
       "      <td>6</td>\n",
       "      <td>Unf</td>\n",
       "      <td>430</td>\n",
       "    </tr>\n",
       "    <tr>\n",
       "      <th>BsmtFinType2</th>\n",
       "      <td>1418</td>\n",
       "      <td>6</td>\n",
       "      <td>Unf</td>\n",
       "      <td>1252</td>\n",
       "    </tr>\n",
       "    <tr>\n",
       "      <th>Heating</th>\n",
       "      <td>1456</td>\n",
       "      <td>6</td>\n",
       "      <td>GasA</td>\n",
       "      <td>1424</td>\n",
       "    </tr>\n",
       "    <tr>\n",
       "      <th>HeatingQC</th>\n",
       "      <td>1456</td>\n",
       "      <td>5</td>\n",
       "      <td>Ex</td>\n",
       "      <td>737</td>\n",
       "    </tr>\n",
       "    <tr>\n",
       "      <th>CentralAir</th>\n",
       "      <td>1456</td>\n",
       "      <td>2</td>\n",
       "      <td>Y</td>\n",
       "      <td>1361</td>\n",
       "    </tr>\n",
       "    <tr>\n",
       "      <th>Electrical</th>\n",
       "      <td>1455</td>\n",
       "      <td>5</td>\n",
       "      <td>SBrkr</td>\n",
       "      <td>1330</td>\n",
       "    </tr>\n",
       "    <tr>\n",
       "      <th>KitchenQual</th>\n",
       "      <td>1456</td>\n",
       "      <td>4</td>\n",
       "      <td>TA</td>\n",
       "      <td>735</td>\n",
       "    </tr>\n",
       "    <tr>\n",
       "      <th>Functional</th>\n",
       "      <td>1456</td>\n",
       "      <td>7</td>\n",
       "      <td>Typ</td>\n",
       "      <td>1356</td>\n",
       "    </tr>\n",
       "    <tr>\n",
       "      <th>FireplaceQu</th>\n",
       "      <td>766</td>\n",
       "      <td>5</td>\n",
       "      <td>Gd</td>\n",
       "      <td>379</td>\n",
       "    </tr>\n",
       "    <tr>\n",
       "      <th>GarageType</th>\n",
       "      <td>1375</td>\n",
       "      <td>6</td>\n",
       "      <td>Attchd</td>\n",
       "      <td>866</td>\n",
       "    </tr>\n",
       "    <tr>\n",
       "      <th>GarageFinish</th>\n",
       "      <td>1375</td>\n",
       "      <td>3</td>\n",
       "      <td>Unf</td>\n",
       "      <td>605</td>\n",
       "    </tr>\n",
       "    <tr>\n",
       "      <th>GarageQual</th>\n",
       "      <td>1375</td>\n",
       "      <td>5</td>\n",
       "      <td>TA</td>\n",
       "      <td>1307</td>\n",
       "    </tr>\n",
       "    <tr>\n",
       "      <th>GarageCond</th>\n",
       "      <td>1375</td>\n",
       "      <td>5</td>\n",
       "      <td>TA</td>\n",
       "      <td>1322</td>\n",
       "    </tr>\n",
       "    <tr>\n",
       "      <th>PavedDrive</th>\n",
       "      <td>1456</td>\n",
       "      <td>3</td>\n",
       "      <td>Y</td>\n",
       "      <td>1336</td>\n",
       "    </tr>\n",
       "    <tr>\n",
       "      <th>PoolQC</th>\n",
       "      <td>6</td>\n",
       "      <td>3</td>\n",
       "      <td>Gd</td>\n",
       "      <td>3</td>\n",
       "    </tr>\n",
       "    <tr>\n",
       "      <th>Fence</th>\n",
       "      <td>280</td>\n",
       "      <td>4</td>\n",
       "      <td>MnPrv</td>\n",
       "      <td>156</td>\n",
       "    </tr>\n",
       "    <tr>\n",
       "      <th>MiscFeature</th>\n",
       "      <td>54</td>\n",
       "      <td>4</td>\n",
       "      <td>Shed</td>\n",
       "      <td>49</td>\n",
       "    </tr>\n",
       "    <tr>\n",
       "      <th>SaleType</th>\n",
       "      <td>1456</td>\n",
       "      <td>9</td>\n",
       "      <td>WD</td>\n",
       "      <td>1264</td>\n",
       "    </tr>\n",
       "    <tr>\n",
       "      <th>SaleCondition</th>\n",
       "      <td>1456</td>\n",
       "      <td>6</td>\n",
       "      <td>Normal</td>\n",
       "      <td>1196</td>\n",
       "    </tr>\n",
       "  </tbody>\n",
       "</table>\n",
       "</div>"
      ],
      "text/plain": [
       "              count unique      top  freq\n",
       "MSZoning       1456      5       RL  1147\n",
       "Street         1456      2     Pave  1450\n",
       "Alley            91      2     Grvl    50\n",
       "LotShape       1456      4      Reg   925\n",
       "LandContour    1456      4      Lvl  1307\n",
       "Utilities      1456      2   AllPub  1455\n",
       "LotConfig      1456      5   Inside  1051\n",
       "LandSlope      1456      3      Gtl  1378\n",
       "Neighborhood   1456     25    NAmes   225\n",
       "Condition1     1456      9     Norm  1256\n",
       "Condition2     1456      8     Norm  1441\n",
       "BldgType       1456      5     1Fam  1216\n",
       "HouseStyle     1456      8   1Story   725\n",
       "RoofStyle      1456      6    Gable  1140\n",
       "RoofMatl       1456      8  CompShg  1431\n",
       "Exterior1st    1456     15  VinylSd   514\n",
       "Exterior2nd    1456     16  VinylSd   503\n",
       "MasVnrType     1448      4     None   863\n",
       "ExterQual      1456      4       TA   906\n",
       "ExterCond      1456      5       TA  1279\n",
       "Foundation     1456      6    PConc   643\n",
       "BsmtQual       1419      4       TA   649\n",
       "BsmtCond       1419      4       TA  1307\n",
       "BsmtExposure   1418      4       No   953\n",
       "BsmtFinType1   1419      6      Unf   430\n",
       "BsmtFinType2   1418      6      Unf  1252\n",
       "Heating        1456      6     GasA  1424\n",
       "HeatingQC      1456      5       Ex   737\n",
       "CentralAir     1456      2        Y  1361\n",
       "Electrical     1455      5    SBrkr  1330\n",
       "KitchenQual    1456      4       TA   735\n",
       "Functional     1456      7      Typ  1356\n",
       "FireplaceQu     766      5       Gd   379\n",
       "GarageType     1375      6   Attchd   866\n",
       "GarageFinish   1375      3      Unf   605\n",
       "GarageQual     1375      5       TA  1307\n",
       "GarageCond     1375      5       TA  1322\n",
       "PavedDrive     1456      3        Y  1336\n",
       "PoolQC            6      3       Gd     3\n",
       "Fence           280      4    MnPrv   156\n",
       "MiscFeature      54      4     Shed    49\n",
       "SaleType       1456      9       WD  1264\n",
       "SaleCondition  1456      6   Normal  1196"
      ]
     },
     "execution_count": 8,
     "metadata": {},
     "output_type": "execute_result"
    }
   ],
   "source": [
    "Train_set_alpha = Train_set.select_dtypes(include='object')\n",
    "Train_set_alpha.describe().T"
   ]
  },
  {
   "cell_type": "markdown",
   "metadata": {},
   "source": [
    "We can see that some features have missing values (count != 1460). \n",
    "\n",
    "Let's print a list a this features. "
   ]
  },
  {
   "cell_type": "markdown",
   "metadata": {},
   "source": [
    "We can see that there is obvious features that we will discard because we have too much missing values. We can discard all the features with a value counts less than 66% of the total instances (973)"
   ]
  },
  {
   "cell_type": "code",
   "execution_count": 9,
   "metadata": {},
   "outputs": [],
   "source": [
    "def Missing_alpha_features(threshold = 0.5):\n",
    "    Missing_alpha_features = {}\n",
    "    critera = threshold*Train_set_alpha.shape[0]\n",
    "    for elt in Train_set_alpha.columns:\n",
    "        if Train_set_alpha[elt].value_counts().sum() != Train_set_alpha.shape[0] and Train_set_alpha[elt].value_counts().sum() < criteria:\n",
    "            #print(elt,'\\n',Train_set_alpha[elt].value_counts())\n",
    "            #print('SUM:',Train_set_alpha[elt].value_counts().sum())\n",
    "            Missing_alpha_features[elt]=Train_set_alpha[elt].value_counts().sum()\n",
    "            #print('----------------------------------------')\n",
    "    return Missing_alpha_features"
   ]
  },
  {
   "cell_type": "code",
   "execution_count": 10,
   "metadata": {},
   "outputs": [
    {
     "ename": "NameError",
     "evalue": "name 'criteria' is not defined",
     "output_type": "error",
     "traceback": [
      "\u001b[1;31m---------------------------------------------------------------------------\u001b[0m",
      "\u001b[1;31mNameError\u001b[0m                                 Traceback (most recent call last)",
      "\u001b[1;32m<ipython-input-10-b8cbe6be143a>\u001b[0m in \u001b[0;36m<module>\u001b[1;34m\u001b[0m\n\u001b[1;32m----> 1\u001b[1;33m \u001b[0mMissing_alpha_features\u001b[0m\u001b[1;33m(\u001b[0m\u001b[1;33m)\u001b[0m\u001b[1;33m.\u001b[0m\u001b[0mkeys\u001b[0m\u001b[1;33m(\u001b[0m\u001b[1;33m)\u001b[0m\u001b[1;33m\u001b[0m\u001b[1;33m\u001b[0m\u001b[0m\n\u001b[0m\u001b[0;32m      2\u001b[0m \u001b[1;33m\u001b[0m\u001b[0m\n\u001b[0;32m      3\u001b[0m \u001b[1;31m#We have to drop the missing_alpha_features and then do imputing !\u001b[0m\u001b[1;33m\u001b[0m\u001b[1;33m\u001b[0m\u001b[1;33m\u001b[0m\u001b[0m\n\u001b[0;32m      4\u001b[0m \u001b[0mTrain_set_alpha_drop\u001b[0m \u001b[1;33m=\u001b[0m \u001b[0mTrain_set_alpha\u001b[0m\u001b[1;33m.\u001b[0m\u001b[0mdrop\u001b[0m\u001b[1;33m(\u001b[0m\u001b[0mMissing_alpha_features\u001b[0m\u001b[1;33m(\u001b[0m\u001b[1;33m)\u001b[0m\u001b[1;33m.\u001b[0m\u001b[0mkeys\u001b[0m\u001b[1;33m(\u001b[0m\u001b[1;33m)\u001b[0m\u001b[1;33m,\u001b[0m\u001b[0maxis\u001b[0m\u001b[1;33m=\u001b[0m\u001b[1;36m1\u001b[0m\u001b[1;33m)\u001b[0m\u001b[1;33m\u001b[0m\u001b[1;33m\u001b[0m\u001b[0m\n",
      "\u001b[1;32m<ipython-input-9-f3c8cbfdeea4>\u001b[0m in \u001b[0;36mMissing_alpha_features\u001b[1;34m(threshold)\u001b[0m\n\u001b[0;32m      3\u001b[0m     \u001b[0mcritera\u001b[0m \u001b[1;33m=\u001b[0m \u001b[0mthreshold\u001b[0m\u001b[1;33m*\u001b[0m\u001b[0mTrain_set_alpha\u001b[0m\u001b[1;33m.\u001b[0m\u001b[0mshape\u001b[0m\u001b[1;33m[\u001b[0m\u001b[1;36m0\u001b[0m\u001b[1;33m]\u001b[0m\u001b[1;33m\u001b[0m\u001b[1;33m\u001b[0m\u001b[0m\n\u001b[0;32m      4\u001b[0m     \u001b[1;32mfor\u001b[0m \u001b[0melt\u001b[0m \u001b[1;32min\u001b[0m \u001b[0mTrain_set_alpha\u001b[0m\u001b[1;33m.\u001b[0m\u001b[0mcolumns\u001b[0m\u001b[1;33m:\u001b[0m\u001b[1;33m\u001b[0m\u001b[1;33m\u001b[0m\u001b[0m\n\u001b[1;32m----> 5\u001b[1;33m         \u001b[1;32mif\u001b[0m \u001b[0mTrain_set_alpha\u001b[0m\u001b[1;33m[\u001b[0m\u001b[0melt\u001b[0m\u001b[1;33m]\u001b[0m\u001b[1;33m.\u001b[0m\u001b[0mvalue_counts\u001b[0m\u001b[1;33m(\u001b[0m\u001b[1;33m)\u001b[0m\u001b[1;33m.\u001b[0m\u001b[0msum\u001b[0m\u001b[1;33m(\u001b[0m\u001b[1;33m)\u001b[0m \u001b[1;33m!=\u001b[0m \u001b[0mTrain_set_alpha\u001b[0m\u001b[1;33m.\u001b[0m\u001b[0mshape\u001b[0m\u001b[1;33m[\u001b[0m\u001b[1;36m0\u001b[0m\u001b[1;33m]\u001b[0m \u001b[1;32mand\u001b[0m \u001b[0mTrain_set_alpha\u001b[0m\u001b[1;33m[\u001b[0m\u001b[0melt\u001b[0m\u001b[1;33m]\u001b[0m\u001b[1;33m.\u001b[0m\u001b[0mvalue_counts\u001b[0m\u001b[1;33m(\u001b[0m\u001b[1;33m)\u001b[0m\u001b[1;33m.\u001b[0m\u001b[0msum\u001b[0m\u001b[1;33m(\u001b[0m\u001b[1;33m)\u001b[0m \u001b[1;33m<\u001b[0m \u001b[0mcriteria\u001b[0m\u001b[1;33m:\u001b[0m\u001b[1;33m\u001b[0m\u001b[1;33m\u001b[0m\u001b[0m\n\u001b[0m\u001b[0;32m      6\u001b[0m             \u001b[1;31m#print(elt,'\\n',Train_set_alpha[elt].value_counts())\u001b[0m\u001b[1;33m\u001b[0m\u001b[1;33m\u001b[0m\u001b[1;33m\u001b[0m\u001b[0m\n\u001b[0;32m      7\u001b[0m             \u001b[1;31m#print('SUM:',Train_set_alpha[elt].value_counts().sum())\u001b[0m\u001b[1;33m\u001b[0m\u001b[1;33m\u001b[0m\u001b[1;33m\u001b[0m\u001b[0m\n",
      "\u001b[1;31mNameError\u001b[0m: name 'criteria' is not defined"
     ]
    }
   ],
   "source": [
    "Missing_alpha_features().keys()\n",
    "\n",
    "#We have to drop the missing_alpha_features and then do imputing !\n",
    "Train_set_alpha_drop = Train_set_alpha.drop(Missing_alpha_features().keys(),axis=1)"
   ]
  },
  {
   "cell_type": "markdown",
   "metadata": {},
   "source": [
    "Here we have two solutions : \n",
    "- we can replace the Nan values with the most frequent pattern for each feature (put a bias)\n",
    "- we can drop the rows that contains Nan(but loose information)\n",
    "\n",
    "I decide to fill the missing values with the most frequent features."
   ]
  },
  {
   "cell_type": "code",
   "execution_count": null,
   "metadata": {},
   "outputs": [],
   "source": [
    "imput_alpha = SimpleImputer(strategy='most_frequent')\n",
    "\n",
    "Train_set_alpha_clean = imput_alpha.fit_transform(Train_set_alpha_drop)\n",
    "Train_set_alpha_full = pd.DataFrame(Train_set_alpha_clean,columns=Train_set_alpha_drop.columns)\n",
    "\n",
    "Train_set_alpha_full_EDA = pd.concat([Train_set_alpha_full,Train_y],axis=1)\n",
    "Train_set_alpha_full_EDA.head()"
   ]
  },
  {
   "cell_type": "code",
   "execution_count": null,
   "metadata": {},
   "outputs": [],
   "source": [
    "result = pd.pivot_table(data=Train_set_alpha_full_EDA,index=['MSZoning'],columns='LotShape',values='SalePrice')\n",
    "print(result)"
   ]
  },
  {
   "cell_type": "code",
   "execution_count": null,
   "metadata": {
    "scrolled": true
   },
   "outputs": [],
   "source": [
    "sns.heatmap(result,annot=True,cmap='RdBu')"
   ]
  },
  {
   "cell_type": "code",
   "execution_count": null,
   "metadata": {
    "scrolled": false
   },
   "outputs": [],
   "source": [
    "i=0\n",
    "plt.figure(figsize=(16,50))\n",
    "\n",
    "Nb_col = 3\n",
    "Nb_row = (Train_set_alpha_full_EDA.columns.size) / Nb_col\n",
    "\n",
    "for elt in Train_set_alpha_full_EDA.columns:\n",
    "        if elt != 'SalePrice':\n",
    "            i+=1\n",
    "            plt.subplot(Nb_row,Nb_col,i)\n",
    "            sns.boxplot(Train_set_alpha_full_EDA[elt],Train_set_alpha_full_EDA.SalePrice)\n",
    "\n",
    "plt.tight_layout()"
   ]
  },
  {
   "cell_type": "markdown",
   "metadata": {},
   "source": [
    "In details, we cans see that we have a lot of features that could be converted in numererical features with rates (Ex-4 -- Null-0). We can use an Ordinal Encoder for them. \n",
    "\n",
    "Here is the list of these features: \n",
    "\n",
    "- 1   Street         1460 non-null   object\n",
    "- 17  ExterQual      1460 non-null   object\n",
    "- 18  ExterCond      1460 non-null   object\n",
    "- 20  BsmtQual       1460 non-null   object\n",
    "- 21  BsmtCond       1460 non-null   object\n",
    "- 22  BsmtExposure   1460 non-null   object \n",
    "- 23  BsmtFinType1   1460 non-null   object (We can add this rate to the BsmtFinType2)\n",
    "- 24  BsmtFinType2   1460 non-null   object (We can add this rate to the BsmtFinType1)\n",
    "- 26  HeatingQC      1460 non-null   object\n",
    "- 27  CentralAir     1460 non-null   object\n",
    "- 29  KitchenQual    1460 non-null   object\n",
    "\n",
    "- 33  GarageFinish   1460 non-null   object\n",
    "- 34  GarageQual     1460 non-null   object ( GarageCond could be drop, because useless)\n",
    "- 36  PavedDrive     1460 non-null   object\n",
    "\n",
    "Features we have to investigate:\n",
    "- 31  FireplaceQu    1460 non-null   object (We fill the values with other strings, and then build ordinalencoder)\n",
    "\n",
    "Features we have to zoom : (We will use One Hot Encoder) \n",
    "- 7   Neighborhood   1460 non-null   object\n",
    "- 14  Exterior1st    1460 non-null   object\n",
    "- 15  Exterior2nd    1460 non-null   object"
   ]
  },
  {
   "cell_type": "code",
   "execution_count": null,
   "metadata": {},
   "outputs": [],
   "source": [
    "i=0\n",
    "plt.figure(figsize=(16,15))\n",
    "\n",
    "Zoom_features_alpha = ['Neighborhood','Exterior1st','Exterior2nd']\n",
    "\n",
    "for elt in Zoom_features_alpha:\n",
    "            i+=1\n",
    "            plt.subplot(3,1,i)\n",
    "            sns.boxplot(Train_set_alpha[elt],Train_set_alpha_full_EDA.SalePrice)\n",
    "plt.tight_layout()"
   ]
  },
  {
   "cell_type": "code",
   "execution_count": null,
   "metadata": {},
   "outputs": [],
   "source": [
    "Train_set_alpha_full_EDA.FireplaceQu.fillna('NN')"
   ]
  },
  {
   "cell_type": "code",
   "execution_count": 11,
   "metadata": {},
   "outputs": [],
   "source": [
    "Train_set_alpha = Train_set.select_dtypes(include='object')\n",
    "List_alpha_Features = list(Train_set.select_dtypes(include='object'))\n",
    "\n",
    "\n",
    "BsmtFinType1_ix,BsmtFinType2_ix = Train_set_alpha.columns.get_loc('BsmtFinType1') ,Train_set_alpha.columns.get_loc('BsmtFinType2') \n",
    "\n",
    "Lst_to_keep=[Train_set_alpha.columns.get_loc('Street'),Train_set_alpha.columns.get_loc('ExterQual'),\n",
    "             Train_set_alpha.columns.get_loc('ExterCond'),Train_set_alpha.columns.get_loc('BsmtQual'),\n",
    "             Train_set_alpha.columns.get_loc('BsmtCond'),Train_set_alpha.columns.get_loc('BsmtExposure'),       \n",
    "             Train_set_alpha.columns.get_loc('HeatingQC'),Train_set_alpha.columns.get_loc('CentralAir'),\n",
    "             Train_set_alpha.columns.get_loc('KitchenQual'),Train_set_alpha.columns.get_loc('GarageFinish'),\n",
    "             Train_set_alpha.columns.get_loc('GarageQual'),Train_set_alpha.columns.get_loc('PavedDrive'),\n",
    "             Train_set_alpha.columns.get_loc('FireplaceQu'), Train_set_alpha.columns.get_loc('BsmtFinType2'),\n",
    "             Train_set_alpha.columns.get_loc('BsmtFinType1'),len(Train_set_alpha.columns),\n",
    "            ]\n",
    "\n",
    "class Alpha_Features_Transformation (BaseEstimator,TransformerMixin):\n",
    "    def __init__(self,drop_features_alpha=False):\n",
    "        self.drop_features_alpha = drop_features_alpha\n",
    "    \n",
    "    def fit(self,X,y=None):\n",
    "        self.BsmtFinType1,self.BsmtFinType2 = BsmtFinType1_ix,BsmtFinType2_ix\n",
    "        return self\n",
    "    \n",
    "    def transform(self,X):\n",
    "        BsmtFinRate = (X[:,self.BsmtFinType1] + X[:,self.BsmtFinType2]) / 2\n",
    "        X_full = np.c_[X,BsmtFinRate]\n",
    "        if self.drop_features_alpha:\n",
    "            return  X_full[:,Lst_to_keep]\n",
    "        else:\n",
    "            return X_full "
   ]
  },
  {
   "cell_type": "code",
   "execution_count": 12,
   "metadata": {},
   "outputs": [],
   "source": [
    "from sklearn.preprocessing import OrdinalEncoder\n",
    "Drop_features_alpha = True   \n",
    "\n",
    "alpha_Pipeline = Pipeline([('imput_alpha',SimpleImputer(strategy='most_frequent')),\n",
    "                           ('ordinal_encod',OrdinalEncoder()),\n",
    "                         ('Alpha_Features_Transformation',Alpha_Features_Transformation(Drop_features_alpha))\n",
    "                        ])\n",
    "\n",
    "Train_set_alpha = Train_set.select_dtypes(include='object')\n",
    "\n",
    "Train_set_alpha_full_EDA = alpha_Pipeline.fit_transform(Train_set_alpha)"
   ]
  },
  {
   "cell_type": "code",
   "execution_count": 13,
   "metadata": {},
   "outputs": [],
   "source": [
    "Full_Training_Set = pd.concat([pd.DataFrame(Train_set_num_full_EDA),pd.DataFrame(Train_set_alpha_full_EDA)],axis=1)"
   ]
  },
  {
   "cell_type": "code",
   "execution_count": 14,
   "metadata": {
    "scrolled": true
   },
   "outputs": [
    {
     "data": {
      "text/plain": [
       "(1456, 55)"
      ]
     },
     "execution_count": 14,
     "metadata": {},
     "output_type": "execute_result"
    }
   ],
   "source": [
    "Full_Training_Set.shape"
   ]
  },
  {
   "cell_type": "markdown",
   "metadata": {},
   "source": [
    "We can now try to concatenate the categorical data with the numerical. "
   ]
  },
  {
   "cell_type": "code",
   "execution_count": 15,
   "metadata": {},
   "outputs": [],
   "source": [
    "from sklearn.compose import ColumnTransformer\n",
    "Full_pipeline = ColumnTransformer([('num',num_Pipeline,List_num_Features),\n",
    "                                   ('alpha',alpha_Pipeline,List_alpha_Features),\n",
    "                                  ])"
   ]
  },
  {
   "cell_type": "code",
   "execution_count": 112,
   "metadata": {},
   "outputs": [],
   "source": [
    "Full_Training_Set = Full_pipeline.fit_transform(Train_set)"
   ]
  },
  {
   "cell_type": "code",
   "execution_count": 113,
   "metadata": {},
   "outputs": [],
   "source": [
    "from sklearn.model_selection import StratifiedShuffleSplit\n",
    "split = StratifiedShuffleSplit(n_splits=1,test_size=0.3,random_state=42)\n",
    "\n",
    "#since our data set is small, we have to take care about the sampling bias !!\n",
    "for train_index,val_index in split.split(Full_Training_Set,Full_Training_Set[:,Garage_cars_ix]):\n",
    "    X_train = Full_Training_Set[train_index,:]\n",
    "    X_val = Full_Training_Set[val_index,:]\n",
    "    y_train = Train_y.loc[train_index]\n",
    "    y_val = Train_y.loc[val_index]"
   ]
  },
  {
   "cell_type": "markdown",
   "metadata": {
    "scrolled": true
   },
   "source": [
    "-----------------------------------------------------------------------------------"
   ]
  },
  {
   "cell_type": "markdown",
   "metadata": {},
   "source": [
    "## Test some models\n",
    "\n",
    "We have a to make prediction, to compare models we will use the standard score : The  Root Mean Square Error (RMSE).\n",
    "\n",
    "For each model we will test Grid Search CV to find the best estimator."
   ]
  },
  {
   "cell_type": "markdown",
   "metadata": {},
   "source": [
    "### Test the Ordinary least squares Linear Regression."
   ]
  },
  {
   "cell_type": "code",
   "execution_count": 39,
   "metadata": {},
   "outputs": [
    {
     "name": "stdout",
     "output_type": "stream",
     "text": [
      "Wall time: 3.97 ms\n"
     ]
    },
    {
     "data": {
      "text/plain": [
       "LinearRegression(copy_X=True, fit_intercept=True, n_jobs=None, normalize=False)"
      ]
     },
     "execution_count": 39,
     "metadata": {},
     "output_type": "execute_result"
    }
   ],
   "source": [
    "from sklearn.linear_model import LinearRegression\n",
    "from sklearn.model_selection import GridSearchCV\n",
    "# No need to make grid search since we don't have hyperparameters\n",
    "\n",
    "lin_reg = LinearRegression()\n",
    "%time lin_reg.fit(X_train,y_train)"
   ]
  },
  {
   "cell_type": "code",
   "execution_count": 40,
   "metadata": {},
   "outputs": [
    {
     "name": "stdout",
     "output_type": "stream",
     "text": [
      "RMSE for basic Linear Regression : 29135.01\n"
     ]
    }
   ],
   "source": [
    "from sklearn.metrics import mean_squared_error\n",
    "\n",
    "y_train_lin_reg_predict = lin_reg.predict(X_train)\n",
    "\n",
    "print(\"RMSE for basic Linear Regression : {:0.2f}\".format(np.sqrt(mean_squared_error(y_train,y_train_lin_reg_predict))))"
   ]
  },
  {
   "cell_type": "markdown",
   "metadata": {},
   "source": [
    "We will now check the overfitting, with cross validation on the training set. "
   ]
  },
  {
   "cell_type": "code",
   "execution_count": 41,
   "metadata": {},
   "outputs": [
    {
     "name": "stdout",
     "output_type": "stream",
     "text": [
      "The mean RMSE score for cross vlaidation : 33658.27\n"
     ]
    }
   ],
   "source": [
    "from sklearn.model_selection import cross_val_score\n",
    "\n",
    "lin_reg_cv = cross_val_score(lin_reg,X_train,y_train,scoring='neg_root_mean_squared_error',cv=8)\n",
    "\n",
    "print(\"The mean RMSE score for cross vlaidation : {:0.2f}\".format(-lin_reg_cv.mean()))"
   ]
  },
  {
   "cell_type": "markdown",
   "metadata": {},
   "source": [
    "We have more than 5% on the RMSE cross val score compare to the \"simple\" score. This means that we overfitt the data.\n",
    "\n",
    "But since we use a ordinary linear regression, we can't do nothing to control the overfitting.\n",
    "\n",
    "Lets check the RMSE on the validation set."
   ]
  },
  {
   "cell_type": "code",
   "execution_count": 42,
   "metadata": {},
   "outputs": [
    {
     "name": "stdout",
     "output_type": "stream",
     "text": [
      "RMSE for basic Linear Regression on test set : 29780.55\n"
     ]
    }
   ],
   "source": [
    "y_val_lin_reg_predict = lin_reg.predict(X_val)\n",
    "\n",
    "print(\"RMSE for basic Linear Regression on test set : {:0.2f}\".format(np.sqrt(mean_squared_error(y_val,y_val_lin_reg_predict))))"
   ]
  },
  {
   "cell_type": "markdown",
   "metadata": {},
   "source": [
    "Quite good, but we have to select a more powerfull model"
   ]
  },
  {
   "cell_type": "markdown",
   "metadata": {},
   "source": [
    "### Test the Stochastic Gradient Descent"
   ]
  },
  {
   "cell_type": "code",
   "execution_count": 114,
   "metadata": {},
   "outputs": [],
   "source": [
    "from sklearn.linear_model import SGDRegressor\n",
    "from sklearn.preprocessing import StandardScaler\n",
    "\n",
    "scaler = StandardScaler()\n",
    "X_train_scaled = scaler.fit_transform(X_train)\n",
    "X_val_scaled = scaler.transform(X_val)\n",
    "\n",
    "sgd_params = [#{'penalty':['l2'] , 'alpha':np.linspace(0,1,10)},\n",
    "              #{'penalty':['l1'] , 'alpha':np.linspace(0,1,10)},\n",
    "              {'penalty':['elasticnet'] ,'alpha':[0.04040404040404041],'l1_ratio':[0.9595959595959597]}]\n",
    "\n",
    "grid_sgd = GridSearchCV(SGDRegressor(),sgd_params,cv=5,verbose=0,\n",
    "                        return_train_score=True,scoring='neg_root_mean_squared_error')\n"
   ]
  },
  {
   "cell_type": "code",
   "execution_count": 115,
   "metadata": {},
   "outputs": [
    {
     "name": "stdout",
     "output_type": "stream",
     "text": [
      "Wall time: 53 ms\n"
     ]
    },
    {
     "data": {
      "text/plain": [
       "GridSearchCV(cv=5, error_score=nan,\n",
       "             estimator=SGDRegressor(alpha=0.0001, average=False,\n",
       "                                    early_stopping=False, epsilon=0.1,\n",
       "                                    eta0=0.01, fit_intercept=True,\n",
       "                                    l1_ratio=0.15, learning_rate='invscaling',\n",
       "                                    loss='squared_loss', max_iter=1000,\n",
       "                                    n_iter_no_change=5, penalty='l2',\n",
       "                                    power_t=0.25, random_state=None,\n",
       "                                    shuffle=True, tol=0.001,\n",
       "                                    validation_fraction=0.1, verbose=0,\n",
       "                                    warm_start=False),\n",
       "             iid='deprecated', n_jobs=None,\n",
       "             param_grid=[{'alpha': [0.04040404040404041],\n",
       "                          'l1_ratio': [0.9595959595959597],\n",
       "                          'penalty': ['elasticnet']}],\n",
       "             pre_dispatch='2*n_jobs', refit=True, return_train_score=True,\n",
       "             scoring='neg_root_mean_squared_error', verbose=0)"
      ]
     },
     "execution_count": 115,
     "metadata": {},
     "output_type": "execute_result"
    }
   ],
   "source": [
    "%time grid_sgd.fit(X_train_scaled,y_train) "
   ]
  },
  {
   "cell_type": "code",
   "execution_count": 116,
   "metadata": {
    "scrolled": true
   },
   "outputs": [
    {
     "name": "stdout",
     "output_type": "stream",
     "text": [
      "RMSE for an optimised Stochastic Gradient Descent : 29729.80\n",
      "\n",
      "The mean RMSE score for cross vlaidation : 33824.62\n",
      "\n",
      "RMSE for basic Stochastic Gradient Descent on test set : 31712.77\n"
     ]
    }
   ],
   "source": [
    "sgd_reg = grid_sgd.best_estimator_\n",
    "\n",
    "y_train_sgd_reg_predict = sgd_reg.predict(X_train_scaled)\n",
    "\n",
    "print(\"RMSE for an optimised Stochastic Gradient Descent : {:0.2f}\".format(np.sqrt(mean_squared_error(y_train,y_train_sgd_reg_predict))))\n",
    "print(\"\\nThe mean RMSE score for cross vlaidation : {:0.2f}\".format(-grid_sgd.best_score_))\n",
    "\n",
    "y_val_sgd_reg_predict = sgd_reg.predict(X_val_scaled)\n",
    "\n",
    "print(\"\\nRMSE for basic Stochastic Gradient Descent on test set : {:0.2f}\".format(np.sqrt(mean_squared_error(y_val,y_val_sgd_reg_predict))))\n"
   ]
  },
  {
   "cell_type": "markdown",
   "metadata": {},
   "source": [
    "The model is quite good, we don't overfitt too much, but the score is not very good ! "
   ]
  },
  {
   "cell_type": "code",
   "execution_count": 118,
   "metadata": {},
   "outputs": [
    {
     "name": "stdout",
     "output_type": "stream",
     "text": [
      "RMSE for an optimised SGD on full train set: 30338.58\n"
     ]
    }
   ],
   "source": [
    "sgd_reg = grid_sgd.best_estimator_\n",
    "\n",
    "#sgd_reg.fit(scaler.transform(Full_Training_Set),Train_y)\n",
    "#sgd_reg.fit(scaler.transform(Train_set_num_full_EDA),Train_y)\n",
    "\n",
    "y_train_sgd_reg_predict = sgd_reg.predict(scaler.transform(Full_Training_Set))\n",
    "#y_train_sgd_reg_predict = sgd_reg.predict(scaler.transform(Train_set_num_full_EDA))\n",
    "\n",
    "print(\"RMSE for an optimised SGD on full train set: {:0.2f}\".format(np.sqrt(mean_squared_error(Train_y,y_train_sgd_reg_predict))))"
   ]
  },
  {
   "cell_type": "code",
   "execution_count": 119,
   "metadata": {
    "scrolled": true
   },
   "outputs": [
    {
     "name": "stdout",
     "output_type": "stream",
     "text": [
      "The mean RMSE score for cross validation : 32093.25\n"
     ]
    }
   ],
   "source": [
    "#sgd_reg_cv = cross_val_score(sgd_reg,scaler.transform(Train_set_num_full_EDA),Train_y,scoring='neg_root_mean_squared_error',cv=5)\n",
    "sgd_reg_cv = cross_val_score(sgd_reg,scaler.transform(Full_Training_Set),Train_y,scoring='neg_root_mean_squared_error',cv=5)\n",
    "\n",
    "print(\"The mean RMSE score for cross validation : {:0.2f}\".format(-sgd_reg_cv.mean()))"
   ]
  },
  {
   "cell_type": "markdown",
   "metadata": {},
   "source": [
    "### Test the Linear Support Vector Regression"
   ]
  },
  {
   "cell_type": "code",
   "execution_count": 85,
   "metadata": {},
   "outputs": [],
   "source": [
    "from sklearn.svm import LinearSVR"
   ]
  },
  {
   "cell_type": "code",
   "execution_count": 86,
   "metadata": {},
   "outputs": [],
   "source": [
    "svr_params = {'C':np.linspace(1,100,50)}\n",
    "\n",
    "grid_svr= GridSearchCV(LinearSVR(),svr_params,cv=5,verbose=0,\n",
    "                        return_train_score=True,scoring='neg_root_mean_squared_error')\n"
   ]
  },
  {
   "cell_type": "code",
   "execution_count": 87,
   "metadata": {},
   "outputs": [
    {
     "name": "stdout",
     "output_type": "stream",
     "text": [
      "Wall time: 744 ms\n"
     ]
    },
    {
     "data": {
      "text/plain": [
       "GridSearchCV(cv=5, error_score=nan,\n",
       "             estimator=LinearSVR(C=1.0, dual=True, epsilon=0.0,\n",
       "                                 fit_intercept=True, intercept_scaling=1.0,\n",
       "                                 loss='epsilon_insensitive', max_iter=1000,\n",
       "                                 random_state=None, tol=0.0001, verbose=0),\n",
       "             iid='deprecated', n_jobs=None,\n",
       "             param_grid={'C': array([  1.        ,   3.02040816,   5.04081633,   7.06122449,\n",
       "         9.08163265,  11.10204082,  13.12244898,  15.14285714,\n",
       "        17.16326531...\n",
       "        57.57142857,  59.59183673,  61.6122449 ,  63.63265306,\n",
       "        65.65306122,  67.67346939,  69.69387755,  71.71428571,\n",
       "        73.73469388,  75.75510204,  77.7755102 ,  79.79591837,\n",
       "        81.81632653,  83.83673469,  85.85714286,  87.87755102,\n",
       "        89.89795918,  91.91836735,  93.93877551,  95.95918367,\n",
       "        97.97959184, 100.        ])},\n",
       "             pre_dispatch='2*n_jobs', refit=True, return_train_score=True,\n",
       "             scoring='neg_root_mean_squared_error', verbose=0)"
      ]
     },
     "execution_count": 87,
     "metadata": {},
     "output_type": "execute_result"
    }
   ],
   "source": [
    "%time grid_svr.fit(X_train_scaled,y_train)"
   ]
  },
  {
   "cell_type": "code",
   "execution_count": 88,
   "metadata": {},
   "outputs": [
    {
     "name": "stdout",
     "output_type": "stream",
     "text": [
      "\n",
      "RMSE for an optimised Linear Support Vector : 98661.69\n",
      "\n",
      "The mean RMSE score for cross vlaidation : 120912.31\n",
      "\n",
      "RMSE for basic Stochastic Gradient Descent on test set : 99521.40\n"
     ]
    }
   ],
   "source": [
    "svr_reg = grid_svr.best_estimator_\n",
    "\n",
    "y_train_svr_reg_predict = svr_reg.predict(X_train_scaled)\n",
    "\n",
    "\n",
    "print(\"\\nRMSE for an optimised Linear Support Vector : {:0.2f}\".format(np.sqrt(mean_squared_error(y_train,y_train_svr_reg_predict))))\n",
    "print(\"\\nThe mean RMSE score for cross vlaidation : {:0.2f}\".format(-grid_svr.best_score_))\n",
    "\n",
    "y_val_svr_reg_predict = svr_reg.predict(X_val_scaled)\n",
    "print(\"\\nRMSE for basic Stochastic Gradient Descent on test set : {:0.2f}\".format(np.sqrt(mean_squared_error(y_val,y_val_svr_reg_predict))))"
   ]
  },
  {
   "cell_type": "markdown",
   "metadata": {},
   "source": [
    "We can see that we underfit our model, we have to select a stronger model. "
   ]
  },
  {
   "cell_type": "markdown",
   "metadata": {},
   "source": [
    "### Test the Decision Tree Regression"
   ]
  },
  {
   "cell_type": "code",
   "execution_count": 26,
   "metadata": {},
   "outputs": [],
   "source": [
    "from sklearn.tree import DecisionTreeRegressor\n",
    "\n",
    "tree_params = {'max_depth':np.arange(1,50,1)}\n",
    "\n",
    "\n",
    "grid_tree = GridSearchCV(DecisionTreeRegressor(),tree_params,cv=5,verbose=0,\n",
    "                        return_train_score=True,scoring='neg_root_mean_squared_error')\n"
   ]
  },
  {
   "cell_type": "code",
   "execution_count": 27,
   "metadata": {},
   "outputs": [
    {
     "name": "stdout",
     "output_type": "stream",
     "text": [
      "Wall time: 3.49 s\n"
     ]
    },
    {
     "data": {
      "text/plain": [
       "GridSearchCV(cv=5, error_score=nan,\n",
       "             estimator=DecisionTreeRegressor(ccp_alpha=0.0, criterion='mse',\n",
       "                                             max_depth=None, max_features=None,\n",
       "                                             max_leaf_nodes=None,\n",
       "                                             min_impurity_decrease=0.0,\n",
       "                                             min_impurity_split=None,\n",
       "                                             min_samples_leaf=1,\n",
       "                                             min_samples_split=2,\n",
       "                                             min_weight_fraction_leaf=0.0,\n",
       "                                             presort='deprecated',\n",
       "                                             random_state=None,\n",
       "                                             splitter='best'),\n",
       "             iid='deprecated', n_jobs=None,\n",
       "             param_grid={'max_depth': array([ 1,  2,  3,  4,  5,  6,  7,  8,  9, 10, 11, 12, 13, 14, 15, 16, 17,\n",
       "       18, 19, 20, 21, 22, 23, 24, 25, 26, 27, 28, 29, 30, 31, 32, 33, 34,\n",
       "       35, 36, 37, 38, 39, 40, 41, 42, 43, 44, 45, 46, 47, 48, 49])},\n",
       "             pre_dispatch='2*n_jobs', refit=True, return_train_score=True,\n",
       "             scoring='neg_root_mean_squared_error', verbose=0)"
      ]
     },
     "execution_count": 27,
     "metadata": {},
     "output_type": "execute_result"
    }
   ],
   "source": [
    "%time grid_tree.fit(X_train,y_train)"
   ]
  },
  {
   "cell_type": "code",
   "execution_count": 28,
   "metadata": {},
   "outputs": [
    {
     "name": "stdout",
     "output_type": "stream",
     "text": [
      "RMSE for an optimised Decision Tree : 26929.44\n",
      "\n",
      "The mean RMSE score for cross vlaidation : 37220.30\n",
      "\n",
      "RMSE for basic Stochastic Gradient Descent on test set : 44161.64\n"
     ]
    }
   ],
   "source": [
    "tree_reg = grid_tree.best_estimator_\n",
    "\n",
    "y_train_tree_reg_predict = tree_reg.predict(X_train)\n",
    "\n",
    "\n",
    "print(\"RMSE for an optimised Decision Tree : {:0.2f}\".format(np.sqrt(mean_squared_error(y_train,y_train_tree_reg_predict))))\n",
    "print(\"\\nThe mean RMSE score for cross vlaidation : {:0.2f}\".format(-grid_tree.best_score_))\n",
    "\n",
    "y_val_tree_reg_predict = tree_reg.predict(X_val)\n",
    "print(\"\\nRMSE for basic Stochastic Gradient Descent on test set : {:0.2f}\".format(np.sqrt(mean_squared_error(y_val,y_val_tree_reg_predict))))"
   ]
  },
  {
   "cell_type": "markdown",
   "metadata": {},
   "source": [
    "We overfit too much !"
   ]
  },
  {
   "cell_type": "markdown",
   "metadata": {},
   "source": [
    "### Test the Random Forest Regressor"
   ]
  },
  {
   "cell_type": "code",
   "execution_count": 20,
   "metadata": {},
   "outputs": [],
   "source": [
    "from sklearn.ensemble import RandomForestRegressor\n",
    "\n",
    "forest_params = {'n_estimators':[95],#np.arange(90,96,1),\n",
    "                 'max_depth':[9],#np.arange(8,10,1),\n",
    "                 #'min_samples_leaf':np.arange()\n",
    "                 #'min_samples_leaf':np.arange()    \n",
    "                }\n",
    "\n",
    "\n",
    "grid_forest = GridSearchCV(RandomForestRegressor(),forest_params,cv=5,verbose=0,\n",
    "                        return_train_score=True,scoring='neg_root_mean_squared_error')\n"
   ]
  },
  {
   "cell_type": "code",
   "execution_count": 21,
   "metadata": {},
   "outputs": [
    {
     "name": "stdout",
     "output_type": "stream",
     "text": [
      "Wall time: 4.25 s\n"
     ]
    },
    {
     "data": {
      "text/plain": [
       "GridSearchCV(cv=5, error_score=nan,\n",
       "             estimator=RandomForestRegressor(bootstrap=True, ccp_alpha=0.0,\n",
       "                                             criterion='mse', max_depth=None,\n",
       "                                             max_features='auto',\n",
       "                                             max_leaf_nodes=None,\n",
       "                                             max_samples=None,\n",
       "                                             min_impurity_decrease=0.0,\n",
       "                                             min_impurity_split=None,\n",
       "                                             min_samples_leaf=1,\n",
       "                                             min_samples_split=2,\n",
       "                                             min_weight_fraction_leaf=0.0,\n",
       "                                             n_estimators=100, n_jobs=None,\n",
       "                                             oob_score=False, random_state=None,\n",
       "                                             verbose=0, warm_start=False),\n",
       "             iid='deprecated', n_jobs=None,\n",
       "             param_grid={'max_depth': [9], 'n_estimators': [95]},\n",
       "             pre_dispatch='2*n_jobs', refit=True, return_train_score=True,\n",
       "             scoring='neg_root_mean_squared_error', verbose=0)"
      ]
     },
     "execution_count": 21,
     "metadata": {},
     "output_type": "execute_result"
    }
   ],
   "source": [
    "%time grid_forest.fit(X_train,y_train)"
   ]
  },
  {
   "cell_type": "code",
   "execution_count": 22,
   "metadata": {},
   "outputs": [
    {
     "name": "stdout",
     "output_type": "stream",
     "text": [
      "-28124.694952040747\n",
      "{'max_depth': 9, 'n_estimators': 95}\n"
     ]
    }
   ],
   "source": [
    "print(grid_forest.best_score_)\n",
    "print(grid_forest.best_params_)"
   ]
  },
  {
   "cell_type": "markdown",
   "metadata": {},
   "source": [
    "-30026.85529878788\n",
    "{'n_estimators': 96}\n",
    "\n",
    "-31199.293455766532\n",
    "{'max_depth': 9, 'n_estimators': 94}\n",
    "\n",
    "-31059.78340949902\n",
    "{'max_depth': 9, 'n_estimators': 96}\n",
    "\n",
    "1. For {'max_depth': 9, 'n_estimators': 91}\n",
    "    - RMSE for an optimised Random Forest : 13013.65\n",
    "    - The mean RMSE score for cross vlaidation : 30970.35\n",
    "    - RMSE for Random Forest on test set : 28050.14\n",
    "\n",
    "\n"
   ]
  },
  {
   "cell_type": "code",
   "execution_count": 23,
   "metadata": {
    "scrolled": true
   },
   "outputs": [
    {
     "name": "stdout",
     "output_type": "stream",
     "text": [
      "RMSE for an optimised Random Forest : 12224.67\n",
      "\n",
      "The mean RMSE score for cross vlaidation : 28124.69\n",
      "\n",
      "RMSE for Random Forest on test set : 29398.10\n"
     ]
    }
   ],
   "source": [
    "forest_reg = grid_forest.best_estimator_\n",
    "\n",
    "y_train_forest_reg_predict = forest_reg.predict(X_train)\n",
    "\n",
    "\n",
    "print(\"RMSE for an optimised Random Forest : {:0.2f}\".format(np.sqrt(mean_squared_error(y_train,y_train_forest_reg_predict))))\n",
    "print(\"\\nThe mean RMSE score for cross vlaidation : {:0.2f}\".format(-grid_forest.best_score_))\n",
    "\n",
    "y_val_forest_reg_predict = forest_reg.predict(X_val)\n",
    "print(\"\\nRMSE for Random Forest on test set : {:0.2f}\".format(np.sqrt(mean_squared_error(y_val,y_val_forest_reg_predict))))"
   ]
  },
  {
   "cell_type": "markdown",
   "metadata": {},
   "source": [
    "We can see that we overfit too much, we can try to reduce this overfitting by searching betters hyperparameters !"
   ]
  },
  {
   "cell_type": "markdown",
   "metadata": {},
   "source": [
    "### Test a Voting "
   ]
  },
  {
   "cell_type": "code",
   "execution_count": 165,
   "metadata": {},
   "outputs": [],
   "source": [
    "scaler = StandardScaler()\n",
    "X_train_scaled = scaler.fit_transform(X_train)\n",
    "X_val_scaled = scaler.transform(X_val)"
   ]
  },
  {
   "cell_type": "code",
   "execution_count": 189,
   "metadata": {},
   "outputs": [],
   "source": [
    "from sklearn.ensemble import VotingRegressor\n",
    "\n",
    "voting_params = {\n",
    "                    #'forest_reg__n_estimators':[40,50,60],\n",
    "                    #'sgd_reg__penalty':['elasticnet'],\n",
    "                    #'sgd_reg__alpha':np.linspace(0,1,10),\n",
    "                    #'sgd_reg__l1_ratio':np.linspace(0,1,10),\n",
    "                    'weights':[[0.8,2]],    \n",
    "                }\n",
    "\n",
    "\n",
    "Lst_estimators = [('lin_reg',lin_reg),\n",
    "                  ('forest_reg',forest_reg),\n",
    "                  #('tree_reg',tree_reg),#('sgd_reg',sgd_reg)\n",
    "                 ]\n",
    "\n",
    "grid_voting = GridSearchCV(VotingRegressor(Lst_estimators),voting_params,cv=7,verbose=2,\n",
    "                        return_train_score=True,scoring='neg_root_mean_squared_error',n_jobs=-1)\n",
    "\n",
    "#Choose between Scaled Data or not scale !\n",
    "SCALING = True"
   ]
  },
  {
   "cell_type": "code",
   "execution_count": 190,
   "metadata": {},
   "outputs": [
    {
     "name": "stdout",
     "output_type": "stream",
     "text": [
      "Fitting 7 folds for each of 1 candidates, totalling 7 fits\n"
     ]
    },
    {
     "name": "stderr",
     "output_type": "stream",
     "text": [
      "[Parallel(n_jobs=-1)]: Using backend LokyBackend with 8 concurrent workers.\n",
      "[Parallel(n_jobs=-1)]: Done   4 out of   7 | elapsed:    2.9s remaining:    2.1s\n",
      "[Parallel(n_jobs=-1)]: Done   7 out of   7 | elapsed:    2.9s finished\n"
     ]
    }
   ],
   "source": [
    "if SCALING:\n",
    "    print(\"SCALING\")\n",
    "    grid_voting.fit(X_train_scaled,y_train);\n",
    "else:\n",
    "    print(\"NOSCALING\")\n",
    "    grid_voting.fit(X_train,y_train)"
   ]
  },
  {
   "cell_type": "code",
   "execution_count": 198,
   "metadata": {},
   "outputs": [
    {
     "name": "stdout",
     "output_type": "stream",
     "text": [
      "SCALING\n",
      "RMSE for Voting Regressor : 15905.03\n",
      "\n",
      "The mean RMSE score for cross vlaidation : 28527.62\n",
      "\n",
      "RMSE for Voting Regressor on test set : 27878.22\n"
     ]
    }
   ],
   "source": [
    "voting_reg = grid_voting.best_estimator_\n",
    "\n",
    "if SCALING:\n",
    "    print(\"SCALING\")\n",
    "    voting_reg.fit(X_train_scaled,y_train) ;\n",
    "    y_voting_predict = voting_reg.predict(X_train_scaled)\n",
    "\n",
    "    print(\"RMSE for Voting Regressor : {:0.2f}\".format(np.sqrt(mean_squared_error(y_train,y_voting_predict))))\n",
    "    print(\"\\nThe mean RMSE score for cross vlaidation : {:0.2f}\".format(-grid_voting.best_score_))\n",
    "\n",
    "    y_val_voting_predict = voting_reg.predict(X_val_scaled)\n",
    "\n",
    "\n",
    "    print(\"\\nRMSE for Voting Regressor on test set : {:0.2f}\".format(np.sqrt(mean_squared_error(y_val,y_val_voting_predict)))) \n",
    "else:\n",
    "    print(\"NOSCALING\")\n",
    "    voting_reg.fit(X_train,y_train) ;\n",
    "    y_voting_predict = voting_reg.predict(X_train)\n",
    "\n",
    "    print(\"RMSE for Voting Regressor: {:0.2f}\".format(np.sqrt(mean_squared_error(y_train,y_voting_predict))))\n",
    "    print(\"\\nThe mean RMSE score for cross vlaidation : {:0.2f}\".format(-grid_voting.best_score_))\n",
    "\n",
    "    y_val_voting_predict = voting_reg.predict(X_val)\n",
    "\n",
    "\n",
    "    print(\"\\nRMSE for Voting Regressor on test set : {:0.2f}\".format(np.sqrt(mean_squared_error(y_val,y_val_voting_predict))))    "
   ]
  },
  {
   "cell_type": "markdown",
   "metadata": {},
   "source": [
    "# Final Model on Full Training Set "
   ]
  },
  {
   "cell_type": "code",
   "execution_count": 199,
   "metadata": {},
   "outputs": [
    {
     "name": "stdout",
     "output_type": "stream",
     "text": [
      "------------------------ ON FULL TRAINING SET ------------------------\n",
      "SCALING\n",
      "RMSE for Voting Regressor: 15874.86\n",
      "The mean RMSE score for cross vlaidation : 26566.24\n"
     ]
    }
   ],
   "source": [
    "Full_Training_Set_scaled = scaler.fit_transform(Full_Training_Set)\n",
    "print('------------------------ ON FULL TRAINING SET ------------------------')\n",
    "if SCALING:\n",
    "    print(\"SCALING\")\n",
    "    voting_reg.fit(Full_Training_Set_scaled,Train_y);\n",
    "\n",
    "    y_voting_predict = voting_reg.predict(Full_Training_Set_scaled)\n",
    "\n",
    "    print(\"RMSE for Voting Regressor: {:0.2f}\".format(np.sqrt(mean_squared_error(Train_y,y_voting_predict))))\n",
    "\n",
    "    voting_reg_cv = cross_val_score(voting_reg,Full_Training_Set_scaled,Train_y,scoring='neg_root_mean_squared_error',cv=8)\n",
    "    print(\"The mean RMSE score for cross vlaidation : {:0.2f}\".format(-voting_reg_cv.mean()))  \n",
    "    \n",
    "else:\n",
    "    print(\"NOSCALING\")\n",
    "    voting_reg.fit(Full_Training_Set,Train_y);\n",
    "    y_voting_predict = voting_reg.predict(Full_Training_Set)\n",
    "\n",
    "    print(\"RMSE for Voting Regressor: {:0.2f}\".format(np.sqrt(mean_squared_error(Train_y,y_voting_predict))))\n",
    "    voting_reg_cv = cross_val_score(voting_reg,Full_Training_Set,Train_y,scoring='neg_root_mean_squared_error',cv=8)\n",
    "    print(\"The mean RMSE score for cross vlaidation : {:0.2f}\".format(-voting_reg_cv.mean())) \n",
    "\n"
   ]
  },
  {
   "cell_type": "markdown",
   "metadata": {},
   "source": [
    "---------------------------------------------------------------------------------------"
   ]
  },
  {
   "cell_type": "markdown",
   "metadata": {},
   "source": [
    "## Optimisation with Feature Selection"
   ]
  },
  {
   "cell_type": "code",
   "execution_count": null,
   "metadata": {},
   "outputs": [],
   "source": [
    "from sklearn.feature_selection import RFE\n",
    "\n",
    "rfe_forest = RFE(forest_reg,15).fit(X_train,y_train)\n",
    "\n",
    "Best_features = []\n",
    "for feature, support in zip(np.arange(0,X_train.shape[1]),rfe_forest.support_):\n",
    "    if support:\n",
    "        print(feature)\n",
    "        Best_features.append(feature)"
   ]
  },
  {
   "cell_type": "code",
   "execution_count": null,
   "metadata": {},
   "outputs": [],
   "source": [
    "from sklearn.feature_selection import RFE\n",
    "\n",
    "rfe_forest = RFE(lin_reg,15).fit(X_train,y_train)\n",
    "\n",
    "Best_features = []\n",
    "for feature, support in zip(np.arange(0,X_train.shape[1]),rfe_forest.support_):\n",
    "    if support:\n",
    "        print(feature)\n",
    "        Best_features.append(feature)"
   ]
  },
  {
   "cell_type": "markdown",
   "metadata": {},
   "source": [
    "------------------------------------------"
   ]
  },
  {
   "cell_type": "markdown",
   "metadata": {},
   "source": [
    "# Try on the final test set"
   ]
  },
  {
   "cell_type": "markdown",
   "metadata": {},
   "source": [
    "### FOR NUMERIC "
   ]
  },
  {
   "cell_type": "code",
   "execution_count": 95,
   "metadata": {},
   "outputs": [],
   "source": [
    "X_test = pd.read_csv('Dataset/test.csv')\n",
    "X_test0 = X_test.drop('Id',axis=1)\n",
    "\n",
    "Test_set_num = X_test0.select_dtypes(exclude='object')\n",
    "\n",
    "X_to_predict = num_Pipeline.transform(Test_set_num)\n",
    "X_to_predict_scaled = scaler.transform(X_to_predict)"
   ]
  },
  {
   "cell_type": "code",
   "execution_count": 96,
   "metadata": {},
   "outputs": [],
   "source": [
    "test_predictions = sgd_reg.predict(X_to_predict_scaled)"
   ]
  },
  {
   "cell_type": "code",
   "execution_count": 97,
   "metadata": {},
   "outputs": [
    {
     "name": "stdout",
     "output_type": "stream",
     "text": [
      "Warning: Looks like you're using an outdated API Version, please consider updating (server 1.5.10 / client 1.5.9)\n",
      "Successfully submitted to Housing Prices Competition for Kaggle Learn Users\n"
     ]
    },
    {
     "name": "stderr",
     "output_type": "stream",
     "text": [
      "\n",
      "  0%|          | 0.00/35.0k [00:00<?, ?B/s]\n",
      "100%|##########| 35.0k/35.0k [00:06<00:00, 5.69kB/s]\n"
     ]
    }
   ],
   "source": [
    "output = pd.DataFrame({'Id': X_test.Id, 'SalePrice': test_predictions})\n",
    "\n",
    "output.to_csv('dataset/submission.csv', index=False)\n",
    "\n",
    "!kaggle competitions submit -c home-data-for-ml-course -f dataset/submission.csv -m \"SGD with scaled only numerical features\""
   ]
  },
  {
   "cell_type": "markdown",
   "metadata": {},
   "source": [
    "### FOR FULL ALPHA AND NUM"
   ]
  },
  {
   "cell_type": "code",
   "execution_count": 195,
   "metadata": {},
   "outputs": [],
   "source": [
    "X_test = pd.read_csv('Dataset/test.csv')\n",
    "Test_set = X_test.drop(['Id'],axis=1)\n",
    "\n",
    "X_to_predict_full = Full_pipeline.transform(Test_set)"
   ]
  },
  {
   "cell_type": "code",
   "execution_count": 207,
   "metadata": {},
   "outputs": [
    {
     "name": "stdout",
     "output_type": "stream",
     "text": [
      "SCALING\n",
      "ESTIMATOR:\n",
      " [LinearRegression(copy_X=True, fit_intercept=True, n_jobs=None, normalize=False), RandomForestRegressor(bootstrap=True, ccp_alpha=0.0, criterion='mse',\n",
      "                      max_depth=9, max_features='auto', max_leaf_nodes=None,\n",
      "                      max_samples=None, min_impurity_decrease=0.0,\n",
      "                      min_impurity_split=None, min_samples_leaf=1,\n",
      "                      min_samples_split=2, min_weight_fraction_leaf=0.0,\n",
      "                      n_estimators=95, n_jobs=None, oob_score=False,\n",
      "                      random_state=None, verbose=0, warm_start=False)]\n"
     ]
    }
   ],
   "source": [
    "if SCALING:\n",
    "    print(\"SCALING\")\n",
    "    print(\"ESTIMATOR:\\n\",voting_reg.estimators_)\n",
    "    test_predictions_full = voting_reg.predict(scaler.transform(X_to_predict_alpha))\n",
    "else:\n",
    "    print(\"NOSCALING\")\n",
    "    print(\"ESTIMATOR:\\n\",voting_reg.estimators_)\n",
    "    test_predictions_full = voting_reg.predict(X_to_predict_scaled)"
   ]
  },
  {
   "cell_type": "code",
   "execution_count": 208,
   "metadata": {},
   "outputs": [],
   "source": [
    "output = pd.DataFrame({'Id': X_test.Id, 'SalePrice': test_predictions_full})\n",
    "\n",
    "output.to_csv('dataset/submission.csv', index=False)\n",
    "\n",
    "#!kaggle competitions submit -c home-data-for-ml-course -f dataset/submission.csv -m \"Voting SGD & Tree - normalizing done on full train set \""
   ]
  },
  {
   "cell_type": "markdown",
   "metadata": {},
   "source": [
    "RMSE for an optimised Random Forest : 19237.25\n",
    "\n",
    "The mean RMSE score for cross vlaidation : 31041.95\n",
    "\n",
    "RMSE for Random Forest on test set : 22519.26\n",
    "\n",
    "\n",
    "voting_params = {\n",
    "                    'weights':[[0.8,2]],    \n",
    "                }\n",
    "                                \n",
    "LinearRegression(copy_X=True, fit_intercept=True, n_jobs=None, normalize=False)\n",
    "+\n",
    "SGDRegressor(alpha=0.04040404040404041, average=False, early_stopping=False,\n",
    "             epsilon=0.1, eta0=0.01, fit_intercept=True,\n",
    "             l1_ratio=0.9595959595959597, learning_rate='invscaling',\n",
    "             loss='squared_loss', max_iter=1000, n_iter_no_change=5,\n",
    "             penalty='elasticnet', power_t=0.25, random_state=None,\n",
    "             shuffle=True, tol=0.001, validation_fraction=0.1, verbose=0,\n",
    "             warm_start=False)\n",
    "             \n",
    "             \n",
    "Lst_estimators = [('lin_reg',lin_reg),('forest_reg',forest_reg),]\n",
    "\n",
    "grid_voting = GridSearchCV(VotingRegressor(Lst_estimators),voting_params,cv=7,verbose=0,\n",
    "                        return_train_score=True,scoring='neg_root_mean_squared_error',n_jobs=-1)\n",
    "\n",
    "---- SCORE = 16252 ---------------"
   ]
  },
  {
   "cell_type": "code",
   "execution_count": null,
   "metadata": {},
   "outputs": [],
   "source": []
  }
 ],
 "metadata": {
  "kernelspec": {
   "display_name": "Python 3",
   "language": "python",
   "name": "python3"
  },
  "language_info": {
   "codemirror_mode": {
    "name": "ipython",
    "version": 3
   },
   "file_extension": ".py",
   "mimetype": "text/x-python",
   "name": "python",
   "nbconvert_exporter": "python",
   "pygments_lexer": "ipython3",
   "version": "3.7.6"
  }
 },
 "nbformat": 4,
 "nbformat_minor": 4
}
